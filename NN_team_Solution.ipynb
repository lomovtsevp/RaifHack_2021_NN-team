{
  "nbformat": 4,
  "nbformat_minor": 0,
  "metadata": {
    "kernelspec": {
      "display_name": "Python 3",
      "language": "python",
      "name": "python3"
    },
    "language_info": {
      "codemirror_mode": {
        "name": "ipython",
        "version": 3
      },
      "file_extension": ".py",
      "mimetype": "text/x-python",
      "name": "python",
      "nbconvert_exporter": "python",
      "pygments_lexer": "ipython3",
      "version": "3.7.5"
    },
    "colab": {
      "name": "NN-team-Solution.ipynb",
      "provenance": []
    },
    "widgets": {
      "application/vnd.jupyter.widget-state+json": {
        "682c7aaa49614bef8491679589dfa14d": {
          "model_module": "catboost-widget",
          "model_name": "CatboostWidgetModel",
          "model_module_version": "^1.0.0",
          "state": {
            "_view_name": "CatboostWidgetView",
            "_dom_classes": [],
            "_model_name": "CatboostWidgetModel",
            "data": {
              "catboost_info": {
                "content": {
                  "data": {
                    "meta": {
                      "name": "experiment",
                      "parameters": "",
                      "test_metrics": [],
                      "learn_sets": [
                        "learn"
                      ],
                      "launch_mode": "Train",
                      "learn_metrics": [
                        {
                          "best_value": "Min",
                          "name": "RMSE"
                        }
                      ],
                      "iteration_count": 1000,
                      "test_sets": []
                    },
                    "iterations": [
                      {
                        "passed_time": 0.06884049316,
                        "iteration": 0,
                        "remaining_time": 68.77165266,
                        "learn": [
                          0.5733166175
                        ]
                      },
                      {
                        "passed_time": 0.0929270918,
                        "iteration": 1,
                        "remaining_time": 46.37061881,
                        "learn": [
                          0.560596836
                        ]
                      },
                      {
                        "passed_time": 0.1115078209,
                        "iteration": 2,
                        "remaining_time": 37.0577658,
                        "learn": [
                          0.5473461959
                        ]
                      },
                      {
                        "passed_time": 0.12929722,
                        "iteration": 3,
                        "remaining_time": 32.19500777,
                        "learn": [
                          0.5363781264
                        ]
                      },
                      {
                        "passed_time": 0.1496371737,
                        "iteration": 4,
                        "remaining_time": 29.77779756,
                        "learn": [
                          0.525793003
                        ]
                      },
                      {
                        "passed_time": 0.1664559968,
                        "iteration": 5,
                        "remaining_time": 27.57621014,
                        "learn": [
                          0.5149757477
                        ]
                      },
                      {
                        "passed_time": 0.1823066458,
                        "iteration": 6,
                        "remaining_time": 25.86149989,
                        "learn": [
                          0.5049459528
                        ]
                      },
                      {
                        "passed_time": 0.204019515,
                        "iteration": 7,
                        "remaining_time": 25.29841986,
                        "learn": [
                          0.4958977916
                        ]
                      },
                      {
                        "passed_time": 0.2240540508,
                        "iteration": 8,
                        "remaining_time": 24.67084048,
                        "learn": [
                          0.4872458204
                        ]
                      },
                      {
                        "passed_time": 0.2417717951,
                        "iteration": 9,
                        "remaining_time": 23.93540772,
                        "learn": [
                          0.4790648317
                        ]
                      },
                      {
                        "passed_time": 0.2591653281,
                        "iteration": 10,
                        "remaining_time": 23.30131904,
                        "learn": [
                          0.4717253168
                        ]
                      },
                      {
                        "passed_time": 0.2753706219,
                        "iteration": 11,
                        "remaining_time": 22.6721812,
                        "learn": [
                          0.4646025945
                        ]
                      },
                      {
                        "passed_time": 0.2928879432,
                        "iteration": 12,
                        "remaining_time": 22.23695384,
                        "learn": [
                          0.4575549869
                        ]
                      },
                      {
                        "passed_time": 0.3102063884,
                        "iteration": 13,
                        "remaining_time": 21.84739278,
                        "learn": [
                          0.4510427692
                        ]
                      },
                      {
                        "passed_time": 0.3275163325,
                        "iteration": 14,
                        "remaining_time": 21.50690584,
                        "learn": [
                          0.445090104
                        ]
                      },
                      {
                        "passed_time": 0.3438449415,
                        "iteration": 15,
                        "remaining_time": 21.1464639,
                        "learn": [
                          0.4397854208
                        ]
                      },
                      {
                        "passed_time": 0.3605257368,
                        "iteration": 16,
                        "remaining_time": 20.84687054,
                        "learn": [
                          0.434659681
                        ]
                      },
                      {
                        "passed_time": 0.3811824535,
                        "iteration": 17,
                        "remaining_time": 20.79562052,
                        "learn": [
                          0.4296065316
                        ]
                      },
                      {
                        "passed_time": 0.3975318895,
                        "iteration": 18,
                        "remaining_time": 20.52519913,
                        "learn": [
                          0.4247333624
                        ]
                      },
                      {
                        "passed_time": 0.4178838118,
                        "iteration": 19,
                        "remaining_time": 20.47630678,
                        "learn": [
                          0.4202345112
                        ]
                      },
                      {
                        "passed_time": 0.4348102562,
                        "iteration": 20,
                        "remaining_time": 20.27044004,
                        "learn": [
                          0.4167147472
                        ]
                      },
                      {
                        "passed_time": 0.4510228729,
                        "iteration": 21,
                        "remaining_time": 20.0500168,
                        "learn": [
                          0.4127743436
                        ]
                      },
                      {
                        "passed_time": 0.4681828323,
                        "iteration": 22,
                        "remaining_time": 19.88759248,
                        "learn": [
                          0.4092831816
                        ]
                      },
                      {
                        "passed_time": 0.4848671851,
                        "iteration": 23,
                        "remaining_time": 19.7179322,
                        "learn": [
                          0.4067180622
                        ]
                      },
                      {
                        "passed_time": 0.5073532086,
                        "iteration": 24,
                        "remaining_time": 19.78677513,
                        "learn": [
                          0.4034319374
                        ]
                      },
                      {
                        "passed_time": 0.5234357071,
                        "iteration": 25,
                        "remaining_time": 19.60870687,
                        "learn": [
                          0.4005115262
                        ]
                      },
                      {
                        "passed_time": 0.539558437,
                        "iteration": 26,
                        "remaining_time": 19.44408738,
                        "learn": [
                          0.3978118069
                        ]
                      },
                      {
                        "passed_time": 0.5575292011,
                        "iteration": 27,
                        "remaining_time": 19.35422798,
                        "learn": [
                          0.395076588
                        ]
                      },
                      {
                        "passed_time": 0.5744636561,
                        "iteration": 28,
                        "remaining_time": 19.23462793,
                        "learn": [
                          0.3924948337
                        ]
                      },
                      {
                        "passed_time": 0.5953996357,
                        "iteration": 29,
                        "remaining_time": 19.25125489,
                        "learn": [
                          0.3897363706
                        ]
                      },
                      {
                        "passed_time": 0.6127977376,
                        "iteration": 30,
                        "remaining_time": 19.15487122,
                        "learn": [
                          0.3875599806
                        ]
                      },
                      {
                        "passed_time": 0.6340667506,
                        "iteration": 31,
                        "remaining_time": 19.1805192,
                        "learn": [
                          0.3855661402
                        ]
                      },
                      {
                        "passed_time": 0.6527318885,
                        "iteration": 32,
                        "remaining_time": 19.12702231,
                        "learn": [
                          0.3834372668
                        ]
                      },
                      {
                        "passed_time": 0.6696985455,
                        "iteration": 33,
                        "remaining_time": 19.0273175,
                        "learn": [
                          0.381685043
                        ]
                      },
                      {
                        "passed_time": 0.6870909927,
                        "iteration": 34,
                        "remaining_time": 18.94408023,
                        "learn": [
                          0.3796723933
                        ]
                      },
                      {
                        "passed_time": 0.7044922426,
                        "iteration": 35,
                        "remaining_time": 18.86473672,
                        "learn": [
                          0.3776956074
                        ]
                      },
                      {
                        "passed_time": 0.7206937147,
                        "iteration": 36,
                        "remaining_time": 18.75751479,
                        "learn": [
                          0.375680725
                        ]
                      },
                      {
                        "passed_time": 0.7400544155,
                        "iteration": 37,
                        "remaining_time": 18.73506178,
                        "learn": [
                          0.3739077781
                        ]
                      },
                      {
                        "passed_time": 0.7566648905,
                        "iteration": 38,
                        "remaining_time": 18.64499897,
                        "learn": [
                          0.372301414
                        ]
                      },
                      {
                        "passed_time": 0.7729637437,
                        "iteration": 39,
                        "remaining_time": 18.55112985,
                        "learn": [
                          0.3706210553
                        ]
                      },
                      {
                        "passed_time": 0.789697854,
                        "iteration": 40,
                        "remaining_time": 18.47122541,
                        "learn": [
                          0.3693405379
                        ]
                      },
                      {
                        "passed_time": 0.8060593582,
                        "iteration": 41,
                        "remaining_time": 18.38583012,
                        "learn": [
                          0.3680092681
                        ]
                      },
                      {
                        "passed_time": 0.8227029943,
                        "iteration": 42,
                        "remaining_time": 18.30992478,
                        "learn": [
                          0.3664644266
                        ]
                      },
                      {
                        "passed_time": 0.8430988333,
                        "iteration": 43,
                        "remaining_time": 18.31823829,
                        "learn": [
                          0.3653108772
                        ]
                      },
                      {
                        "passed_time": 0.859757243,
                        "iteration": 44,
                        "remaining_time": 18.24595927,
                        "learn": [
                          0.364029752
                        ]
                      },
                      {
                        "passed_time": 0.8755523089,
                        "iteration": 45,
                        "remaining_time": 18.15819354,
                        "learn": [
                          0.362871751
                        ]
                      },
                      {
                        "passed_time": 0.8915015507,
                        "iteration": 46,
                        "remaining_time": 18.07661655,
                        "learn": [
                          0.362008152
                        ]
                      },
                      {
                        "passed_time": 0.9072373014,
                        "iteration": 47,
                        "remaining_time": 17.99353981,
                        "learn": [
                          0.3609171838
                        ]
                      },
                      {
                        "passed_time": 0.9249922808,
                        "iteration": 48,
                        "remaining_time": 17.95240121,
                        "learn": [
                          0.3600328377
                        ]
                      },
                      {
                        "passed_time": 0.9489184987,
                        "iteration": 49,
                        "remaining_time": 18.02945148,
                        "learn": [
                          0.3589703229
                        ]
                      },
                      {
                        "passed_time": 0.9815923652,
                        "iteration": 50,
                        "remaining_time": 18.26531676,
                        "learn": [
                          0.3579392258
                        ]
                      },
                      {
                        "passed_time": 0.9999695791,
                        "iteration": 51,
                        "remaining_time": 18.23021464,
                        "learn": [
                          0.3566719082
                        ]
                      },
                      {
                        "passed_time": 1.017553125,
                        "iteration": 52,
                        "remaining_time": 18.18156245,
                        "learn": [
                          0.3555443277
                        ]
                      },
                      {
                        "passed_time": 1.034817919,
                        "iteration": 53,
                        "remaining_time": 18.12847688,
                        "learn": [
                          0.3546086087
                        ]
                      },
                      {
                        "passed_time": 1.0564665,
                        "iteration": 54,
                        "remaining_time": 18.15201532,
                        "learn": [
                          0.3535934956
                        ]
                      },
                      {
                        "passed_time": 1.076164232,
                        "iteration": 55,
                        "remaining_time": 18.1410542,
                        "learn": [
                          0.352969001
                        ]
                      },
                      {
                        "passed_time": 1.092015993,
                        "iteration": 56,
                        "remaining_time": 18.06615932,
                        "learn": [
                          0.3521652544
                        ]
                      },
                      {
                        "passed_time": 1.110043706,
                        "iteration": 57,
                        "remaining_time": 18.02864088,
                        "learn": [
                          0.3513011147
                        ]
                      },
                      {
                        "passed_time": 1.127262755,
                        "iteration": 58,
                        "remaining_time": 17.97888563,
                        "learn": [
                          0.3506935535
                        ]
                      },
                      {
                        "passed_time": 1.143718224,
                        "iteration": 59,
                        "remaining_time": 17.91825218,
                        "learn": [
                          0.3498242213
                        ]
                      },
                      {
                        "passed_time": 1.162058412,
                        "iteration": 60,
                        "remaining_time": 17.88807949,
                        "learn": [
                          0.3488749689
                        ]
                      },
                      {
                        "passed_time": 1.178640115,
                        "iteration": 61,
                        "remaining_time": 17.83168432,
                        "learn": [
                          0.3482260347
                        ]
                      },
                      {
                        "passed_time": 1.194519369,
                        "iteration": 62,
                        "remaining_time": 17.76610553,
                        "learn": [
                          0.3475564556
                        ]
                      },
                      {
                        "passed_time": 1.211981422,
                        "iteration": 63,
                        "remaining_time": 17.7252283,
                        "learn": [
                          0.347061982
                        ]
                      },
                      {
                        "passed_time": 1.229245446,
                        "iteration": 64,
                        "remaining_time": 17.68222296,
                        "learn": [
                          0.3463737489
                        ]
                      },
                      {
                        "passed_time": 1.246572622,
                        "iteration": 65,
                        "remaining_time": 17.64089135,
                        "learn": [
                          0.3456171551
                        ]
                      },
                      {
                        "passed_time": 1.274790646,
                        "iteration": 66,
                        "remaining_time": 17.75193541,
                        "learn": [
                          0.3449061992
                        ]
                      },
                      {
                        "passed_time": 1.29296423,
                        "iteration": 67,
                        "remaining_time": 17.72121562,
                        "learn": [
                          0.3443235485
                        ]
                      },
                      {
                        "passed_time": 1.310814531,
                        "iteration": 68,
                        "remaining_time": 17.68649751,
                        "learn": [
                          0.3435435199
                        ]
                      },
                      {
                        "passed_time": 1.327971183,
                        "iteration": 69,
                        "remaining_time": 17.64304571,
                        "learn": [
                          0.3430413323
                        ]
                      },
                      {
                        "passed_time": 1.345906755,
                        "iteration": 70,
                        "remaining_time": 17.61052641,
                        "learn": [
                          0.3423635515
                        ]
                      },
                      {
                        "passed_time": 1.362896069,
                        "iteration": 71,
                        "remaining_time": 17.56621601,
                        "learn": [
                          0.3418149502
                        ]
                      },
                      {
                        "passed_time": 1.380826234,
                        "iteration": 72,
                        "remaining_time": 17.53460162,
                        "learn": [
                          0.3413625186
                        ]
                      },
                      {
                        "passed_time": 1.399182847,
                        "iteration": 73,
                        "remaining_time": 17.50869347,
                        "learn": [
                          0.3407245444
                        ]
                      },
                      {
                        "passed_time": 1.417012168,
                        "iteration": 74,
                        "remaining_time": 17.4764834,
                        "learn": [
                          0.340201246
                        ]
                      },
                      {
                        "passed_time": 1.433036652,
                        "iteration": 75,
                        "remaining_time": 17.42270876,
                        "learn": [
                          0.3396526891
                        ]
                      },
                      {
                        "passed_time": 1.449532746,
                        "iteration": 76,
                        "remaining_time": 17.37556786,
                        "learn": [
                          0.33918861
                        ]
                      },
                      {
                        "passed_time": 1.465716845,
                        "iteration": 77,
                        "remaining_time": 17.32552475,
                        "learn": [
                          0.3388191458
                        ]
                      },
                      {
                        "passed_time": 1.488329651,
                        "iteration": 78,
                        "remaining_time": 17.35128619,
                        "learn": [
                          0.3382884974
                        ]
                      },
                      {
                        "passed_time": 1.512317374,
                        "iteration": 79,
                        "remaining_time": 17.3916498,
                        "learn": [
                          0.3378944684
                        ]
                      },
                      {
                        "passed_time": 1.52888805,
                        "iteration": 80,
                        "remaining_time": 17.34627306,
                        "learn": [
                          0.3375767187
                        ]
                      },
                      {
                        "passed_time": 1.547122286,
                        "iteration": 81,
                        "remaining_time": 17.32022267,
                        "learn": [
                          0.3372148356
                        ]
                      },
                      {
                        "passed_time": 1.563664401,
                        "iteration": 82,
                        "remaining_time": 17.27566573,
                        "learn": [
                          0.3366058338
                        ]
                      },
                      {
                        "passed_time": 1.580080782,
                        "iteration": 83,
                        "remaining_time": 17.23040472,
                        "learn": [
                          0.3362474073
                        ]
                      },
                      {
                        "passed_time": 1.596880153,
                        "iteration": 84,
                        "remaining_time": 17.18994517,
                        "learn": [
                          0.3355192279
                        ]
                      },
                      {
                        "passed_time": 1.614263752,
                        "iteration": 85,
                        "remaining_time": 17.15624499,
                        "learn": [
                          0.3351523897
                        ]
                      },
                      {
                        "passed_time": 1.632124599,
                        "iteration": 86,
                        "remaining_time": 17.12792826,
                        "learn": [
                          0.3346200748
                        ]
                      },
                      {
                        "passed_time": 1.64935019,
                        "iteration": 87,
                        "remaining_time": 17.0932656,
                        "learn": [
                          0.3343575457
                        ]
                      },
                      {
                        "passed_time": 1.665103484,
                        "iteration": 88,
                        "remaining_time": 17.04392443,
                        "learn": [
                          0.3338613998
                        ]
                      },
                      {
                        "passed_time": 1.681746005,
                        "iteration": 89,
                        "remaining_time": 17.00432072,
                        "learn": [
                          0.3335564908
                        ]
                      },
                      {
                        "passed_time": 1.70564009,
                        "iteration": 90,
                        "remaining_time": 17.03765761,
                        "learn": [
                          0.3331122464
                        ]
                      },
                      {
                        "passed_time": 1.72158497,
                        "iteration": 91,
                        "remaining_time": 16.99129514,
                        "learn": [
                          0.3326113638
                        ]
                      },
                      {
                        "passed_time": 1.741404467,
                        "iteration": 92,
                        "remaining_time": 16.98337475,
                        "learn": [
                          0.3322123186
                        ]
                      },
                      {
                        "passed_time": 1.758416493,
                        "iteration": 93,
                        "remaining_time": 16.94814194,
                        "learn": [
                          0.3318207134
                        ]
                      },
                      {
                        "passed_time": 1.775993959,
                        "iteration": 94,
                        "remaining_time": 16.91867929,
                        "learn": [
                          0.3313581254
                        ]
                      },
                      {
                        "passed_time": 1.792735461,
                        "iteration": 95,
                        "remaining_time": 16.88159226,
                        "learn": [
                          0.3309402605
                        ]
                      },
                      {
                        "passed_time": 1.809249688,
                        "iteration": 96,
                        "remaining_time": 16.84280895,
                        "learn": [
                          0.3306630433
                        ]
                      },
                      {
                        "passed_time": 1.825493999,
                        "iteration": 97,
                        "remaining_time": 16.80199579,
                        "learn": [
                          0.3303219621
                        ]
                      },
                      {
                        "passed_time": 1.841572146,
                        "iteration": 98,
                        "remaining_time": 16.76016671,
                        "learn": [
                          0.3299464319
                        ]
                      },
                      {
                        "passed_time": 1.862155293,
                        "iteration": 99,
                        "remaining_time": 16.75939764,
                        "learn": [
                          0.3295679514
                        ]
                      },
                      {
                        "passed_time": 1.877909346,
                        "iteration": 100,
                        "remaining_time": 16.71525249,
                        "learn": [
                          0.3291459152
                        ]
                      },
                      {
                        "passed_time": 1.894217059,
                        "iteration": 101,
                        "remaining_time": 16.67653842,
                        "learn": [
                          0.3288290647
                        ]
                      },
                      {
                        "passed_time": 1.914586371,
                        "iteration": 102,
                        "remaining_time": 16.67363082,
                        "learn": [
                          0.3284589861
                        ]
                      },
                      {
                        "passed_time": 1.944801196,
                        "iteration": 103,
                        "remaining_time": 16.7552103,
                        "learn": [
                          0.3282325181
                        ]
                      },
                      {
                        "passed_time": 1.972980004,
                        "iteration": 104,
                        "remaining_time": 16.81730574,
                        "learn": [
                          0.3277229967
                        ]
                      },
                      {
                        "passed_time": 1.990997104,
                        "iteration": 105,
                        "remaining_time": 16.79199444,
                        "learn": [
                          0.3274487773
                        ]
                      },
                      {
                        "passed_time": 2.008469904,
                        "iteration": 106,
                        "remaining_time": 16.76227686,
                        "learn": [
                          0.3271557669
                        ]
                      },
                      {
                        "passed_time": 2.024625172,
                        "iteration": 107,
                        "remaining_time": 16.7219042,
                        "learn": [
                          0.3269455765
                        ]
                      },
                      {
                        "passed_time": 2.041194638,
                        "iteration": 108,
                        "remaining_time": 16.68536168,
                        "learn": [
                          0.3267147757
                        ]
                      },
                      {
                        "passed_time": 2.058218683,
                        "iteration": 109,
                        "remaining_time": 16.65286026,
                        "learn": [
                          0.3264213533
                        ]
                      },
                      {
                        "passed_time": 2.074311656,
                        "iteration": 110,
                        "remaining_time": 16.61318074,
                        "learn": [
                          0.3261882971
                        ]
                      },
                      {
                        "passed_time": 2.098087675,
                        "iteration": 111,
                        "remaining_time": 16.634838,
                        "learn": [
                          0.325867584
                        ]
                      },
                      {
                        "passed_time": 2.118564698,
                        "iteration": 112,
                        "remaining_time": 16.62979546,
                        "learn": [
                          0.3256636506
                        ]
                      },
                      {
                        "passed_time": 2.138748678,
                        "iteration": 113,
                        "remaining_time": 16.62220464,
                        "learn": [
                          0.3254005229
                        ]
                      },
                      {
                        "passed_time": 2.157748434,
                        "iteration": 114,
                        "remaining_time": 16.60528143,
                        "learn": [
                          0.3250653821
                        ]
                      },
                      {
                        "passed_time": 2.175496756,
                        "iteration": 115,
                        "remaining_time": 16.57878562,
                        "learn": [
                          0.3247772159
                        ]
                      },
                      {
                        "passed_time": 2.193435307,
                        "iteration": 116,
                        "remaining_time": 16.55387501,
                        "learn": [
                          0.3244459512
                        ]
                      },
                      {
                        "passed_time": 2.213473797,
                        "iteration": 117,
                        "remaining_time": 16.54477872,
                        "learn": [
                          0.3241895648
                        ]
                      },
                      {
                        "passed_time": 2.23173445,
                        "iteration": 118,
                        "remaining_time": 16.52233656,
                        "learn": [
                          0.323938769
                        ]
                      },
                      {
                        "passed_time": 2.247767655,
                        "iteration": 119,
                        "remaining_time": 16.48362947,
                        "learn": [
                          0.3231735012
                        ]
                      },
                      {
                        "passed_time": 2.265813501,
                        "iteration": 120,
                        "remaining_time": 16.45991792,
                        "learn": [
                          0.3229295251
                        ]
                      },
                      {
                        "passed_time": 2.282133367,
                        "iteration": 121,
                        "remaining_time": 16.42387784,
                        "learn": [
                          0.3225240325
                        ]
                      },
                      {
                        "passed_time": 2.298995751,
                        "iteration": 122,
                        "remaining_time": 16.39202661,
                        "learn": [
                          0.3221220442
                        ]
                      },
                      {
                        "passed_time": 2.323489821,
                        "iteration": 123,
                        "remaining_time": 16.41433131,
                        "learn": [
                          0.3218439875
                        ]
                      },
                      {
                        "passed_time": 2.340168796,
                        "iteration": 124,
                        "remaining_time": 16.38118157,
                        "learn": [
                          0.3214349839
                        ]
                      },
                      {
                        "passed_time": 2.357231245,
                        "iteration": 125,
                        "remaining_time": 16.35095324,
                        "learn": [
                          0.3211949313
                        ]
                      },
                      {
                        "passed_time": 2.374115274,
                        "iteration": 126,
                        "remaining_time": 16.31970578,
                        "learn": [
                          0.3208108264
                        ]
                      },
                      {
                        "passed_time": 2.390064377,
                        "iteration": 127,
                        "remaining_time": 16.28231357,
                        "learn": [
                          0.3205967757
                        ]
                      },
                      {
                        "passed_time": 2.405131209,
                        "iteration": 128,
                        "remaining_time": 16.23929677,
                        "learn": [
                          0.3204634911
                        ]
                      },
                      {
                        "passed_time": 2.422739521,
                        "iteration": 129,
                        "remaining_time": 16.21371833,
                        "learn": [
                          0.3201318709
                        ]
                      },
                      {
                        "passed_time": 2.440028999,
                        "iteration": 130,
                        "remaining_time": 16.18614656,
                        "learn": [
                          0.3198536915
                        ]
                      },
                      {
                        "passed_time": 2.456986209,
                        "iteration": 131,
                        "remaining_time": 16.15654568,
                        "learn": [
                          0.3196721716
                        ]
                      },
                      {
                        "passed_time": 2.475083432,
                        "iteration": 132,
                        "remaining_time": 16.13456643,
                        "learn": [
                          0.3191691238
                        ]
                      },
                      {
                        "passed_time": 2.492748149,
                        "iteration": 133,
                        "remaining_time": 16.10984998,
                        "learn": [
                          0.3187315323
                        ]
                      },
                      {
                        "passed_time": 2.510166615,
                        "iteration": 134,
                        "remaining_time": 16.08366016,
                        "learn": [
                          0.3183407302
                        ]
                      },
                      {
                        "passed_time": 2.532780075,
                        "iteration": 135,
                        "remaining_time": 16.09060283,
                        "learn": [
                          0.3178443457
                        ]
                      },
                      {
                        "passed_time": 2.551670814,
                        "iteration": 136,
                        "remaining_time": 16.07366359,
                        "learn": [
                          0.3174623967
                        ]
                      },
                      {
                        "passed_time": 2.5698684,
                        "iteration": 137,
                        "remaining_time": 16.05236638,
                        "learn": [
                          0.3171083562
                        ]
                      },
                      {
                        "passed_time": 2.585755605,
                        "iteration": 138,
                        "remaining_time": 16.01680271,
                        "learn": [
                          0.3168504987
                        ]
                      },
                      {
                        "passed_time": 2.602928556,
                        "iteration": 139,
                        "remaining_time": 15.98941827,
                        "learn": [
                          0.3165860499
                        ]
                      },
                      {
                        "passed_time": 2.620264432,
                        "iteration": 140,
                        "remaining_time": 15.96317125,
                        "learn": [
                          0.3162170461
                        ]
                      },
                      {
                        "passed_time": 2.637369686,
                        "iteration": 141,
                        "remaining_time": 15.93565627,
                        "learn": [
                          0.3156882494
                        ]
                      },
                      {
                        "passed_time": 2.654936679,
                        "iteration": 142,
                        "remaining_time": 15.91105408,
                        "learn": [
                          0.3152081168
                        ]
                      },
                      {
                        "passed_time": 2.671908781,
                        "iteration": 143,
                        "remaining_time": 15.88301331,
                        "learn": [
                          0.3149936586
                        ]
                      },
                      {
                        "passed_time": 2.687827958,
                        "iteration": 144,
                        "remaining_time": 15.84891658,
                        "learn": [
                          0.3147406078
                        ]
                      },
                      {
                        "passed_time": 2.703626633,
                        "iteration": 145,
                        "remaining_time": 15.81436401,
                        "learn": [
                          0.3145799117
                        ]
                      },
                      {
                        "passed_time": 2.7202571,
                        "iteration": 146,
                        "remaining_time": 15.78489324,
                        "learn": [
                          0.3141911812
                        ]
                      },
                      {
                        "passed_time": 2.739991144,
                        "iteration": 147,
                        "remaining_time": 15.77346253,
                        "learn": [
                          0.3139383042
                        ]
                      },
                      {
                        "passed_time": 2.760006244,
                        "iteration": 148,
                        "remaining_time": 15.7635256,
                        "learn": [
                          0.3135998221
                        ]
                      },
                      {
                        "passed_time": 2.77659788,
                        "iteration": 149,
                        "remaining_time": 15.73405465,
                        "learn": [
                          0.3133902291
                        ]
                      },
                      {
                        "passed_time": 2.797183806,
                        "iteration": 150,
                        "remaining_time": 15.72721226,
                        "learn": [
                          0.3131346028
                        ]
                      },
                      {
                        "passed_time": 2.81400818,
                        "iteration": 151,
                        "remaining_time": 15.69920353,
                        "learn": [
                          0.3129825892
                        ]
                      },
                      {
                        "passed_time": 2.829679692,
                        "iteration": 152,
                        "remaining_time": 15.66495882,
                        "learn": [
                          0.312722634
                        ]
                      },
                      {
                        "passed_time": 2.845849168,
                        "iteration": 153,
                        "remaining_time": 15.63369088,
                        "learn": [
                          0.3124793433
                        ]
                      },
                      {
                        "passed_time": 2.862944036,
                        "iteration": 154,
                        "remaining_time": 15.60766265,
                        "learn": [
                          0.3122756096
                        ]
                      },
                      {
                        "passed_time": 2.879774868,
                        "iteration": 155,
                        "remaining_time": 15.58032044,
                        "learn": [
                          0.3119816451
                        ]
                      },
                      {
                        "passed_time": 2.89568295,
                        "iteration": 156,
                        "remaining_time": 15.5481575,
                        "learn": [
                          0.3117504849
                        ]
                      },
                      {
                        "passed_time": 2.912043564,
                        "iteration": 157,
                        "remaining_time": 15.5186119,
                        "learn": [
                          0.3114875351
                        ]
                      },
                      {
                        "passed_time": 2.942200222,
                        "iteration": 158,
                        "remaining_time": 15.56220369,
                        "learn": [
                          0.3113872474
                        ]
                      },
                      {
                        "passed_time": 2.969168468,
                        "iteration": 159,
                        "remaining_time": 15.58813446,
                        "learn": [
                          0.3112357566
                        ]
                      },
                      {
                        "passed_time": 2.988597617,
                        "iteration": 160,
                        "remaining_time": 15.5741205,
                        "learn": [
                          0.3111028718
                        ]
                      },
                      {
                        "passed_time": 3.004627071,
                        "iteration": 161,
                        "remaining_time": 15.54245361,
                        "learn": [
                          0.3109108506
                        ]
                      },
                      {
                        "passed_time": 3.022526261,
                        "iteration": 162,
                        "remaining_time": 15.52057964,
                        "learn": [
                          0.3105348408
                        ]
                      },
                      {
                        "passed_time": 3.040143362,
                        "iteration": 163,
                        "remaining_time": 15.49731616,
                        "learn": [
                          0.3103249383
                        ]
                      },
                      {
                        "passed_time": 3.061698117,
                        "iteration": 164,
                        "remaining_time": 15.49404805,
                        "learn": [
                          0.3100905925
                        ]
                      },
                      {
                        "passed_time": 3.07869015,
                        "iteration": 165,
                        "remaining_time": 15.46763605,
                        "learn": [
                          0.3097946635
                        ]
                      },
                      {
                        "passed_time": 3.094603807,
                        "iteration": 166,
                        "remaining_time": 15.43595791,
                        "learn": [
                          0.3095764818
                        ]
                      },
                      {
                        "passed_time": 3.111262532,
                        "iteration": 167,
                        "remaining_time": 15.4081573,
                        "learn": [
                          0.3089935216
                        ]
                      },
                      {
                        "passed_time": 3.127394241,
                        "iteration": 168,
                        "remaining_time": 15.37789713,
                        "learn": [
                          0.308781014
                        ]
                      },
                      {
                        "passed_time": 3.148299423,
                        "iteration": 169,
                        "remaining_time": 15.37110895,
                        "learn": [
                          0.3085130008
                        ]
                      },
                      {
                        "passed_time": 3.165143905,
                        "iteration": 170,
                        "remaining_time": 15.34446957,
                        "learn": [
                          0.3080985914
                        ]
                      },
                      {
                        "passed_time": 3.181807053,
                        "iteration": 171,
                        "remaining_time": 15.31707116,
                        "learn": [
                          0.3078908885
                        ]
                      },
                      {
                        "passed_time": 3.199037499,
                        "iteration": 172,
                        "remaining_time": 15.29250874,
                        "learn": [
                          0.3076397917
                        ]
                      },
                      {
                        "passed_time": 3.216770573,
                        "iteration": 173,
                        "remaining_time": 15.27041663,
                        "learn": [
                          0.3074580957
                        ]
                      },
                      {
                        "passed_time": 3.233157729,
                        "iteration": 174,
                        "remaining_time": 15.24202929,
                        "learn": [
                          0.3072434994
                        ]
                      },
                      {
                        "passed_time": 3.25037097,
                        "iteration": 175,
                        "remaining_time": 15.21764591,
                        "learn": [
                          0.3069941796
                        ]
                      },
                      {
                        "passed_time": 3.267271587,
                        "iteration": 176,
                        "remaining_time": 15.19188992,
                        "learn": [
                          0.3066888519
                        ]
                      },
                      {
                        "passed_time": 3.284382284,
                        "iteration": 177,
                        "remaining_time": 15.16720358,
                        "learn": [
                          0.3064331174
                        ]
                      },
                      {
                        "passed_time": 3.300696984,
                        "iteration": 178,
                        "remaining_time": 15.13895097,
                        "learn": [
                          0.3062997222
                        ]
                      },
                      {
                        "passed_time": 3.317497991,
                        "iteration": 179,
                        "remaining_time": 15.11304641,
                        "learn": [
                          0.306096744
                        ]
                      },
                      {
                        "passed_time": 3.33387504,
                        "iteration": 180,
                        "remaining_time": 15.08532408,
                        "learn": [
                          0.3059442431
                        ]
                      },
                      {
                        "passed_time": 3.354768651,
                        "iteration": 181,
                        "remaining_time": 15.07802614,
                        "learn": [
                          0.3056861874
                        ]
                      },
                      {
                        "passed_time": 3.372455801,
                        "iteration": 182,
                        "remaining_time": 15.05626442,
                        "learn": [
                          0.3053943448
                        ]
                      },
                      {
                        "passed_time": 3.389956702,
                        "iteration": 183,
                        "remaining_time": 15.03372102,
                        "learn": [
                          0.305323358
                        ]
                      },
                      {
                        "passed_time": 3.411376508,
                        "iteration": 184,
                        "remaining_time": 15.02849651,
                        "learn": [
                          0.305118089
                        ]
                      },
                      {
                        "passed_time": 3.42880848,
                        "iteration": 185,
                        "remaining_time": 15.00564571,
                        "learn": [
                          0.3049621055
                        ]
                      },
                      {
                        "passed_time": 3.447917215,
                        "iteration": 186,
                        "remaining_time": 14.99014276,
                        "learn": [
                          0.304700828
                        ]
                      },
                      {
                        "passed_time": 3.466495479,
                        "iteration": 187,
                        "remaining_time": 14.97231026,
                        "learn": [
                          0.30446656
                        ]
                      },
                      {
                        "passed_time": 3.484365568,
                        "iteration": 188,
                        "remaining_time": 14.95143109,
                        "learn": [
                          0.3041113916
                        ]
                      },
                      {
                        "passed_time": 3.502288771,
                        "iteration": 189,
                        "remaining_time": 14.93081002,
                        "learn": [
                          0.3039593312
                        ]
                      },
                      {
                        "passed_time": 3.519950294,
                        "iteration": 190,
                        "remaining_time": 14.90910884,
                        "learn": [
                          0.3038413637
                        ]
                      },
                      {
                        "passed_time": 3.53700627,
                        "iteration": 191,
                        "remaining_time": 14.88490139,
                        "learn": [
                          0.3036243436
                        ]
                      },
                      {
                        "passed_time": 3.557690688,
                        "iteration": 192,
                        "remaining_time": 14.87593982,
                        "learn": [
                          0.3033793014
                        ]
                      },
                      {
                        "passed_time": 3.575854432,
                        "iteration": 193,
                        "remaining_time": 14.85638491,
                        "learn": [
                          0.3031835208
                        ]
                      },
                      {
                        "passed_time": 3.592237143,
                        "iteration": 194,
                        "remaining_time": 14.8294918,
                        "learn": [
                          0.3029997727
                        ]
                      },
                      {
                        "passed_time": 3.609932972,
                        "iteration": 195,
                        "remaining_time": 14.80809239,
                        "learn": [
                          0.3028886472
                        ]
                      },
                      {
                        "passed_time": 3.632295473,
                        "iteration": 196,
                        "remaining_time": 14.80575261,
                        "learn": [
                          0.3026725753
                        ]
                      },
                      {
                        "passed_time": 3.648742347,
                        "iteration": 197,
                        "remaining_time": 14.7792493,
                        "learn": [
                          0.3024388482
                        ]
                      },
                      {
                        "passed_time": 3.664952263,
                        "iteration": 198,
                        "remaining_time": 14.75189328,
                        "learn": [
                          0.3022982416
                        ]
                      },
                      {
                        "passed_time": 3.683431694,
                        "iteration": 199,
                        "remaining_time": 14.73372678,
                        "learn": [
                          0.3020029295
                        ]
                      },
                      {
                        "passed_time": 3.701115234,
                        "iteration": 200,
                        "remaining_time": 14.71239339,
                        "learn": [
                          0.3016501208
                        ]
                      },
                      {
                        "passed_time": 3.718315137,
                        "iteration": 201,
                        "remaining_time": 14.68918554,
                        "learn": [
                          0.3013631627
                        ]
                      },
                      {
                        "passed_time": 3.735845899,
                        "iteration": 202,
                        "remaining_time": 14.66733587,
                        "learn": [
                          0.301143412
                        ]
                      },
                      {
                        "passed_time": 3.753625337,
                        "iteration": 203,
                        "remaining_time": 14.64649886,
                        "learn": [
                          0.30066127
                        ]
                      },
                      {
                        "passed_time": 3.774565551,
                        "iteration": 204,
                        "remaining_time": 14.63794933,
                        "learn": [
                          0.3004913905
                        ]
                      },
                      {
                        "passed_time": 3.791258442,
                        "iteration": 205,
                        "remaining_time": 14.61290875,
                        "learn": [
                          0.3003949904
                        ]
                      },
                      {
                        "passed_time": 3.808642881,
                        "iteration": 206,
                        "remaining_time": 14.59059809,
                        "learn": [
                          0.3002670172
                        ]
                      },
                      {
                        "passed_time": 3.824698656,
                        "iteration": 207,
                        "remaining_time": 14.56327565,
                        "learn": [
                          0.3000004931
                        ]
                      },
                      {
                        "passed_time": 3.840693841,
                        "iteration": 208,
                        "remaining_time": 14.53583171,
                        "learn": [
                          0.2994113238
                        ]
                      },
                      {
                        "passed_time": 3.860753775,
                        "iteration": 209,
                        "remaining_time": 14.52378801,
                        "learn": [
                          0.2992401648
                        ]
                      },
                      {
                        "passed_time": 3.878360051,
                        "iteration": 210,
                        "remaining_time": 14.50249327,
                        "learn": [
                          0.2990596279
                        ]
                      },
                      {
                        "passed_time": 3.89400017,
                        "iteration": 211,
                        "remaining_time": 14.47392516,
                        "learn": [
                          0.2985088847
                        ]
                      },
                      {
                        "passed_time": 3.909892433,
                        "iteration": 212,
                        "remaining_time": 14.44641007,
                        "learn": [
                          0.2982946384
                        ]
                      },
                      {
                        "passed_time": 3.933800798,
                        "iteration": 213,
                        "remaining_time": 14.44844592,
                        "learn": [
                          0.298199515
                        ]
                      },
                      {
                        "passed_time": 3.966378082,
                        "iteration": 214,
                        "remaining_time": 14.48189207,
                        "learn": [
                          0.2980576899
                        ]
                      },
                      {
                        "passed_time": 3.987651783,
                        "iteration": 215,
                        "remaining_time": 14.47369907,
                        "learn": [
                          0.2979053255
                        ]
                      },
                      {
                        "passed_time": 4.003946984,
                        "iteration": 216,
                        "remaining_time": 14.44742161,
                        "learn": [
                          0.2975703077
                        ]
                      },
                      {
                        "passed_time": 4.021471341,
                        "iteration": 217,
                        "remaining_time": 14.4256449,
                        "learn": [
                          0.2974172548
                        ]
                      },
                      {
                        "passed_time": 4.038709877,
                        "iteration": 218,
                        "remaining_time": 14.40288773,
                        "learn": [
                          0.2971777609
                        ]
                      },
                      {
                        "passed_time": 4.055372322,
                        "iteration": 219,
                        "remaining_time": 14.37813823,
                        "learn": [
                          0.2970559101
                        ]
                      },
                      {
                        "passed_time": 4.074817916,
                        "iteration": 220,
                        "remaining_time": 14.3632722,
                        "learn": [
                          0.2967794954
                        ]
                      },
                      {
                        "passed_time": 4.093941715,
                        "iteration": 221,
                        "remaining_time": 14.34723718,
                        "learn": [
                          0.2965499815
                        ]
                      },
                      {
                        "passed_time": 4.110905697,
                        "iteration": 222,
                        "remaining_time": 14.323649,
                        "learn": [
                          0.2964072384
                        ]
                      },
                      {
                        "passed_time": 4.129087221,
                        "iteration": 223,
                        "remaining_time": 14.30433787,
                        "learn": [
                          0.2961220421
                        ]
                      },
                      {
                        "passed_time": 4.146717075,
                        "iteration": 224,
                        "remaining_time": 14.28313659,
                        "learn": [
                          0.2957657218
                        ]
                      },
                      {
                        "passed_time": 4.16376659,
                        "iteration": 225,
                        "remaining_time": 14.25997938,
                        "learn": [
                          0.2952839639
                        ]
                      },
                      {
                        "passed_time": 4.181019645,
                        "iteration": 226,
                        "remaining_time": 14.2375691,
                        "learn": [
                          0.2950809353
                        ]
                      },
                      {
                        "passed_time": 4.201911429,
                        "iteration": 227,
                        "remaining_time": 14.22752466,
                        "learn": [
                          0.2948689525
                        ]
                      },
                      {
                        "passed_time": 4.21819876,
                        "iteration": 228,
                        "remaining_time": 14.20188316,
                        "learn": [
                          0.2946775845
                        ]
                      },
                      {
                        "passed_time": 4.237662142,
                        "iteration": 229,
                        "remaining_time": 14.18695587,
                        "learn": [
                          0.2943717777
                        ]
                      },
                      {
                        "passed_time": 4.253366219,
                        "iteration": 230,
                        "remaining_time": 14.15947456,
                        "learn": [
                          0.2941830562
                        ]
                      },
                      {
                        "passed_time": 4.270157004,
                        "iteration": 231,
                        "remaining_time": 14.13569215,
                        "learn": [
                          0.2939387631
                        ]
                      },
                      {
                        "passed_time": 4.287251521,
                        "iteration": 232,
                        "remaining_time": 14.1129696,
                        "learn": [
                          0.2937510599
                        ]
                      },
                      {
                        "passed_time": 4.303327301,
                        "iteration": 233,
                        "remaining_time": 14.08696031,
                        "learn": [
                          0.2933279995
                        ]
                      },
                      {
                        "passed_time": 4.320632178,
                        "iteration": 234,
                        "remaining_time": 14.06503667,
                        "learn": [
                          0.2931813359
                        ]
                      },
                      {
                        "passed_time": 4.337943012,
                        "iteration": 235,
                        "remaining_time": 14.04317145,
                        "learn": [
                          0.2928745835
                        ]
                      },
                      {
                        "passed_time": 4.35439827,
                        "iteration": 236,
                        "remaining_time": 14.01859021,
                        "learn": [
                          0.2927091778
                        ]
                      },
                      {
                        "passed_time": 4.371974225,
                        "iteration": 237,
                        "remaining_time": 13.99766538,
                        "learn": [
                          0.2924204018
                        ]
                      },
                      {
                        "passed_time": 4.388218719,
                        "iteration": 238,
                        "remaining_time": 13.97252906,
                        "learn": [
                          0.2922529179
                        ]
                      },
                      {
                        "passed_time": 4.407094489,
                        "iteration": 239,
                        "remaining_time": 13.95579922,
                        "learn": [
                          0.2922053194
                        ]
                      },
                      {
                        "passed_time": 4.42873059,
                        "iteration": 240,
                        "remaining_time": 13.94774489,
                        "learn": [
                          0.2917248146
                        ]
                      },
                      {
                        "passed_time": 4.446359314,
                        "iteration": 241,
                        "remaining_time": 13.92702628,
                        "learn": [
                          0.2914143412
                        ]
                      },
                      {
                        "passed_time": 4.463632091,
                        "iteration": 242,
                        "remaining_time": 13.90522425,
                        "learn": [
                          0.2913059471
                        ]
                      },
                      {
                        "passed_time": 4.481347073,
                        "iteration": 243,
                        "remaining_time": 13.88482946,
                        "learn": [
                          0.2911745215
                        ]
                      },
                      {
                        "passed_time": 4.498315586,
                        "iteration": 244,
                        "remaining_time": 13.86215619,
                        "learn": [
                          0.2909508016
                        ]
                      },
                      {
                        "passed_time": 4.515162975,
                        "iteration": 245,
                        "remaining_time": 13.83915806,
                        "learn": [
                          0.2907357423
                        ]
                      },
                      {
                        "passed_time": 4.53290095,
                        "iteration": 246,
                        "remaining_time": 13.81892476,
                        "learn": [
                          0.2905526492
                        ]
                      },
                      {
                        "passed_time": 4.549764148,
                        "iteration": 247,
                        "remaining_time": 13.79605903,
                        "learn": [
                          0.290293302
                        ]
                      },
                      {
                        "passed_time": 4.567270951,
                        "iteration": 248,
                        "remaining_time": 13.77518267,
                        "learn": [
                          0.2901854591
                        ]
                      },
                      {
                        "passed_time": 4.583827365,
                        "iteration": 249,
                        "remaining_time": 13.7514821,
                        "learn": [
                          0.289972883
                        ]
                      },
                      {
                        "passed_time": 4.601098484,
                        "iteration": 250,
                        "remaining_time": 13.72997117,
                        "learn": [
                          0.289672926
                        ]
                      },
                      {
                        "passed_time": 4.622391412,
                        "iteration": 251,
                        "remaining_time": 13.72043165,
                        "learn": [
                          0.2894795533
                        ]
                      },
                      {
                        "passed_time": 4.639782731,
                        "iteration": 252,
                        "remaining_time": 13.69927945,
                        "learn": [
                          0.2892418592
                        ]
                      },
                      {
                        "passed_time": 4.656836471,
                        "iteration": 253,
                        "remaining_time": 13.67716538,
                        "learn": [
                          0.2890405312
                        ]
                      },
                      {
                        "passed_time": 4.673155128,
                        "iteration": 254,
                        "remaining_time": 13.65294341,
                        "learn": [
                          0.2887913956
                        ]
                      },
                      {
                        "passed_time": 4.690449785,
                        "iteration": 255,
                        "remaining_time": 13.63161969,
                        "learn": [
                          0.2885057221
                        ]
                      },
                      {
                        "passed_time": 4.707169024,
                        "iteration": 256,
                        "remaining_time": 13.60866375,
                        "learn": [
                          0.2883472827
                        ]
                      },
                      {
                        "passed_time": 4.724088365,
                        "iteration": 257,
                        "remaining_time": 13.58633165,
                        "learn": [
                          0.2881959412
                        ]
                      },
                      {
                        "passed_time": 4.740513627,
                        "iteration": 258,
                        "remaining_time": 13.56262779,
                        "learn": [
                          0.2880443016
                        ]
                      },
                      {
                        "passed_time": 4.757595529,
                        "iteration": 259,
                        "remaining_time": 13.54084881,
                        "learn": [
                          0.287851929
                        ]
                      },
                      {
                        "passed_time": 4.777133704,
                        "iteration": 260,
                        "remaining_time": 13.52606056,
                        "learn": [
                          0.2876944683
                        ]
                      },
                      {
                        "passed_time": 4.796121598,
                        "iteration": 261,
                        "remaining_time": 13.50968603,
                        "learn": [
                          0.2872574676
                        ]
                      },
                      {
                        "passed_time": 4.812697086,
                        "iteration": 262,
                        "remaining_time": 13.48653138,
                        "learn": [
                          0.2870698854
                        ]
                      },
                      {
                        "passed_time": 4.834600677,
                        "iteration": 263,
                        "remaining_time": 13.47828068,
                        "learn": [
                          0.286745733
                        ]
                      },
                      {
                        "passed_time": 4.851649197,
                        "iteration": 264,
                        "remaining_time": 13.45646098,
                        "learn": [
                          0.2865051674
                        ]
                      },
                      {
                        "passed_time": 4.869420412,
                        "iteration": 265,
                        "remaining_time": 13.43667136,
                        "learn": [
                          0.2863985334
                        ]
                      },
                      {
                        "passed_time": 4.885009457,
                        "iteration": 266,
                        "remaining_time": 13.41090611,
                        "learn": [
                          0.2863629329
                        ]
                      },
                      {
                        "passed_time": 4.901777043,
                        "iteration": 267,
                        "remaining_time": 13.38843581,
                        "learn": [
                          0.2861630384
                        ]
                      },
                      {
                        "passed_time": 4.917945628,
                        "iteration": 268,
                        "remaining_time": 13.36438013,
                        "learn": [
                          0.2859966176
                        ]
                      },
                      {
                        "passed_time": 4.96006253,
                        "iteration": 269,
                        "remaining_time": 13.41053943,
                        "learn": [
                          0.2858660856
                        ]
                      },
                      {
                        "passed_time": 4.977596142,
                        "iteration": 270,
                        "remaining_time": 13.3899173,
                        "learn": [
                          0.2858232697
                        ]
                      },
                      {
                        "passed_time": 4.994551004,
                        "iteration": 271,
                        "remaining_time": 13.36776886,
                        "learn": [
                          0.2856758832
                        ]
                      },
                      {
                        "passed_time": 5.012519955,
                        "iteration": 272,
                        "remaining_time": 13.348359,
                        "learn": [
                          0.2854993764
                        ]
                      },
                      {
                        "passed_time": 5.029617634,
                        "iteration": 273,
                        "remaining_time": 13.3266511,
                        "learn": [
                          0.2851547055
                        ]
                      },
                      {
                        "passed_time": 5.04998527,
                        "iteration": 274,
                        "remaining_time": 13.31359753,
                        "learn": [
                          0.284916221
                        ]
                      },
                      {
                        "passed_time": 5.072739955,
                        "iteration": 275,
                        "remaining_time": 13.30675264,
                        "learn": [
                          0.284651464
                        ]
                      },
                      {
                        "passed_time": 5.088740856,
                        "iteration": 276,
                        "remaining_time": 13.28216476,
                        "learn": [
                          0.2846099788
                        ]
                      },
                      {
                        "passed_time": 5.105871522,
                        "iteration": 277,
                        "remaining_time": 13.2605728,
                        "learn": [
                          0.2843783366
                        ]
                      },
                      {
                        "passed_time": 5.125298233,
                        "iteration": 278,
                        "remaining_time": 13.24494633,
                        "learn": [
                          0.284168602
                        ]
                      },
                      {
                        "passed_time": 5.14114384,
                        "iteration": 279,
                        "remaining_time": 13.22008416,
                        "learn": [
                          0.2840996178
                        ]
                      },
                      {
                        "passed_time": 5.158380702,
                        "iteration": 280,
                        "remaining_time": 13.198846,
                        "learn": [
                          0.2840608121
                        ]
                      },
                      {
                        "passed_time": 5.176816751,
                        "iteration": 281,
                        "remaining_time": 13.18068946,
                        "learn": [
                          0.283884626
                        ]
                      },
                      {
                        "passed_time": 5.194467849,
                        "iteration": 282,
                        "remaining_time": 13.16054222,
                        "learn": [
                          0.2836188096
                        ]
                      },
                      {
                        "passed_time": 5.211378411,
                        "iteration": 283,
                        "remaining_time": 13.13854557,
                        "learn": [
                          0.2835868437
                        ]
                      },
                      {
                        "passed_time": 5.228905318,
                        "iteration": 284,
                        "remaining_time": 13.11813089,
                        "learn": [
                          0.2833998484
                        ]
                      },
                      {
                        "passed_time": 5.243601989,
                        "iteration": 285,
                        "remaining_time": 13.0906707,
                        "learn": [
                          0.2833681178
                        ]
                      },
                      {
                        "passed_time": 5.263830758,
                        "iteration": 286,
                        "remaining_time": 13.07704296,
                        "learn": [
                          0.2831759541
                        ]
                      },
                      {
                        "passed_time": 5.281487489,
                        "iteration": 287,
                        "remaining_time": 13.05701074,
                        "learn": [
                          0.2829762227
                        ]
                      },
                      {
                        "passed_time": 5.30094059,
                        "iteration": 288,
                        "remaining_time": 13.04141439,
                        "learn": [
                          0.2827027512
                        ]
                      },
                      {
                        "passed_time": 5.322852333,
                        "iteration": 289,
                        "remaining_time": 13.03181089,
                        "learn": [
                          0.2824290336
                        ]
                      },
                      {
                        "passed_time": 5.339876491,
                        "iteration": 290,
                        "remaining_time": 13.01021454,
                        "learn": [
                          0.2822647914
                        ]
                      },
                      {
                        "passed_time": 5.356664345,
                        "iteration": 291,
                        "remaining_time": 12.98807656,
                        "learn": [
                          0.2820787582
                        ]
                      },
                      {
                        "passed_time": 5.374497916,
                        "iteration": 292,
                        "remaining_time": 12.96849838,
                        "learn": [
                          0.2819323467
                        ]
                      },
                      {
                        "passed_time": 5.392803059,
                        "iteration": 293,
                        "remaining_time": 12.95006449,
                        "learn": [
                          0.2817711132
                        ]
                      },
                      {
                        "passed_time": 5.412526694,
                        "iteration": 294,
                        "remaining_time": 12.93502142,
                        "learn": [
                          0.2817150048
                        ]
                      },
                      {
                        "passed_time": 5.430409593,
                        "iteration": 295,
                        "remaining_time": 12.91556876,
                        "learn": [
                          0.2815133025
                        ]
                      },
                      {
                        "passed_time": 5.447597603,
                        "iteration": 296,
                        "remaining_time": 12.89448187,
                        "learn": [
                          0.2814019775
                        ]
                      },
                      {
                        "passed_time": 5.469361689,
                        "iteration": 297,
                        "remaining_time": 12.88420102,
                        "learn": [
                          0.2811784623
                        ]
                      },
                      {
                        "passed_time": 5.487435803,
                        "iteration": 298,
                        "remaining_time": 12.8651923,
                        "learn": [
                          0.2808059003
                        ]
                      },
                      {
                        "passed_time": 5.504960617,
                        "iteration": 299,
                        "remaining_time": 12.84490811,
                        "learn": [
                          0.2805592879
                        ]
                      },
                      {
                        "passed_time": 5.522485727,
                        "iteration": 300,
                        "remaining_time": 12.82464293,
                        "learn": [
                          0.280450286
                        ]
                      },
                      {
                        "passed_time": 5.544023358,
                        "iteration": 301,
                        "remaining_time": 12.81366988,
                        "learn": [
                          0.2803651789
                        ]
                      },
                      {
                        "passed_time": 5.560382013,
                        "iteration": 302,
                        "remaining_time": 12.79071374,
                        "learn": [
                          0.2801202067
                        ]
                      },
                      {
                        "passed_time": 5.578200665,
                        "iteration": 303,
                        "remaining_time": 12.77114363,
                        "learn": [
                          0.2799824747
                        ]
                      },
                      {
                        "passed_time": 5.594566958,
                        "iteration": 304,
                        "remaining_time": 12.74827553,
                        "learn": [
                          0.2799563722
                        ]
                      },
                      {
                        "passed_time": 5.611980264,
                        "iteration": 305,
                        "remaining_time": 12.72782452,
                        "learn": [
                          0.2799036354
                        ]
                      },
                      {
                        "passed_time": 5.628883215,
                        "iteration": 306,
                        "remaining_time": 12.70624126,
                        "learn": [
                          0.2796074257
                        ]
                      },
                      {
                        "passed_time": 5.646067605,
                        "iteration": 307,
                        "remaining_time": 12.68532072,
                        "learn": [
                          0.2793741028
                        ]
                      },
                      {
                        "passed_time": 5.664332792,
                        "iteration": 308,
                        "remaining_time": 12.66684129,
                        "learn": [
                          0.2791871325
                        ]
                      },
                      {
                        "passed_time": 5.686853491,
                        "iteration": 309,
                        "remaining_time": 12.65783519,
                        "learn": [
                          0.2790009332
                        ]
                      },
                      {
                        "passed_time": 5.704172896,
                        "iteration": 310,
                        "remaining_time": 12.63721905,
                        "learn": [
                          0.2789084281
                        ]
                      },
                      {
                        "passed_time": 5.719792301,
                        "iteration": 311,
                        "remaining_time": 12.61287533,
                        "learn": [
                          0.2788835124
                        ]
                      },
                      {
                        "passed_time": 5.737136031,
                        "iteration": 312,
                        "remaining_time": 12.59237206,
                        "learn": [
                          0.2787202199
                        ]
                      },
                      {
                        "passed_time": 5.753552854,
                        "iteration": 313,
                        "remaining_time": 12.56986388,
                        "learn": [
                          0.278502623
                        ]
                      },
                      {
                        "passed_time": 5.775629974,
                        "iteration": 314,
                        "remaining_time": 12.55970328,
                        "learn": [
                          0.2781834455
                        ]
                      },
                      {
                        "passed_time": 5.79298607,
                        "iteration": 315,
                        "remaining_time": 12.53924833,
                        "learn": [
                          0.2778716058
                        ]
                      },
                      {
                        "passed_time": 5.810176691,
                        "iteration": 316,
                        "remaining_time": 12.5184564,
                        "learn": [
                          0.2777662777
                        ]
                      },
                      {
                        "passed_time": 5.826865087,
                        "iteration": 317,
                        "remaining_time": 12.49661003,
                        "learn": [
                          0.2776070818
                        ]
                      },
                      {
                        "passed_time": 5.842493813,
                        "iteration": 318,
                        "remaining_time": 12.47253381,
                        "learn": [
                          0.2775827129
                        ]
                      },
                      {
                        "passed_time": 5.859980597,
                        "iteration": 319,
                        "remaining_time": 12.45245877,
                        "learn": [
                          0.2774301936
                        ]
                      },
                      {
                        "passed_time": 5.875661544,
                        "iteration": 320,
                        "remaining_time": 12.42858003,
                        "learn": [
                          0.2772692607
                        ]
                      },
                      {
                        "passed_time": 5.896219494,
                        "iteration": 321,
                        "remaining_time": 12.41502117,
                        "learn": [
                          0.2770881802
                        ]
                      },
                      {
                        "passed_time": 5.914316985,
                        "iteration": 322,
                        "remaining_time": 12.39626192,
                        "learn": [
                          0.2770103121
                        ]
                      },
                      {
                        "passed_time": 5.954191386,
                        "iteration": 323,
                        "remaining_time": 12.42294252,
                        "learn": [
                          0.2769871145
                        ]
                      },
                      {
                        "passed_time": 5.976105238,
                        "iteration": 324,
                        "remaining_time": 12.41191088,
                        "learn": [
                          0.2769352427
                        ]
                      },
                      {
                        "passed_time": 5.997442163,
                        "iteration": 325,
                        "remaining_time": 12.39961969,
                        "learn": [
                          0.2767661629
                        ]
                      },
                      {
                        "passed_time": 6.016361514,
                        "iteration": 326,
                        "remaining_time": 12.38229755,
                        "learn": [
                          0.2766457438
                        ]
                      },
                      {
                        "passed_time": 6.033338773,
                        "iteration": 327,
                        "remaining_time": 12.36098676,
                        "learn": [
                          0.2765049309
                        ]
                      },
                      {
                        "passed_time": 6.050211707,
                        "iteration": 328,
                        "remaining_time": 12.33948953,
                        "learn": [
                          0.2763877322
                        ]
                      },
                      {
                        "passed_time": 6.066927453,
                        "iteration": 329,
                        "remaining_time": 12.31770119,
                        "learn": [
                          0.27605044
                        ]
                      },
                      {
                        "passed_time": 6.08307954,
                        "iteration": 330,
                        "remaining_time": 12.29480427,
                        "learn": [
                          0.2758947795
                        ]
                      },
                      {
                        "passed_time": 6.103351021,
                        "iteration": 331,
                        "remaining_time": 12.28023639,
                        "learn": [
                          0.2756836776
                        ]
                      },
                      {
                        "passed_time": 6.120050576,
                        "iteration": 332,
                        "remaining_time": 12.25847968,
                        "learn": [
                          0.2753146969
                        ]
                      },
                      {
                        "passed_time": 6.136727627,
                        "iteration": 333,
                        "remaining_time": 12.23670838,
                        "learn": [
                          0.27511731
                        ]
                      },
                      {
                        "passed_time": 6.154316677,
                        "iteration": 334,
                        "remaining_time": 12.21677788,
                        "learn": [
                          0.2749510163
                        ]
                      },
                      {
                        "passed_time": 6.171737775,
                        "iteration": 335,
                        "remaining_time": 12.19652941,
                        "learn": [
                          0.2748347906
                        ]
                      },
                      {
                        "passed_time": 6.189028159,
                        "iteration": 336,
                        "remaining_time": 12.17604056,
                        "learn": [
                          0.2745223122
                        ]
                      },
                      {
                        "passed_time": 6.206564559,
                        "iteration": 337,
                        "remaining_time": 12.15605248,
                        "learn": [
                          0.2744330964
                        ]
                      },
                      {
                        "passed_time": 6.22450318,
                        "iteration": 338,
                        "remaining_time": 12.13686313,
                        "learn": [
                          0.2744138672
                        ]
                      },
                      {
                        "passed_time": 6.243288921,
                        "iteration": 339,
                        "remaining_time": 12.11932555,
                        "learn": [
                          0.2742324912
                        ]
                      },
                      {
                        "passed_time": 6.26040571,
                        "iteration": 340,
                        "remaining_time": 12.09855532,
                        "learn": [
                          0.2739987996
                        ]
                      },
                      {
                        "passed_time": 6.277532804,
                        "iteration": 341,
                        "remaining_time": 12.07782627,
                        "learn": [
                          0.2738997772
                        ]
                      },
                      {
                        "passed_time": 6.293949332,
                        "iteration": 342,
                        "remaining_time": 12.05575718,
                        "learn": [
                          0.2737237769
                        ]
                      },
                      {
                        "passed_time": 6.316217025,
                        "iteration": 343,
                        "remaining_time": 12.04487898,
                        "learn": [
                          0.2735365963
                        ]
                      },
                      {
                        "passed_time": 6.333131111,
                        "iteration": 344,
                        "remaining_time": 12.02377066,
                        "learn": [
                          0.2733414258
                        ]
                      },
                      {
                        "passed_time": 6.349940309,
                        "iteration": 345,
                        "remaining_time": 12.00248833,
                        "learn": [
                          0.2732411507
                        ]
                      },
                      {
                        "passed_time": 6.367688744,
                        "iteration": 346,
                        "remaining_time": 11.98299928,
                        "learn": [
                          0.2730877291
                        ]
                      },
                      {
                        "passed_time": 6.384067762,
                        "iteration": 347,
                        "remaining_time": 11.96095454,
                        "learn": [
                          0.272827918
                        ]
                      },
                      {
                        "passed_time": 6.40348827,
                        "iteration": 348,
                        "remaining_time": 11.94461566,
                        "learn": [
                          0.2726593931
                        ]
                      },
                      {
                        "passed_time": 6.419225491,
                        "iteration": 349,
                        "remaining_time": 11.92141877,
                        "learn": [
                          0.272487843
                        ]
                      },
                      {
                        "passed_time": 6.436581131,
                        "iteration": 350,
                        "remaining_time": 11.90125685,
                        "learn": [
                          0.272264373
                        ]
                      },
                      {
                        "passed_time": 6.454137239,
                        "iteration": 351,
                        "remaining_time": 11.88147992,
                        "learn": [
                          0.2721898564
                        ]
                      },
                      {
                        "passed_time": 6.470149795,
                        "iteration": 352,
                        "remaining_time": 11.85888645,
                        "learn": [
                          0.2721340637
                        ]
                      },
                      {
                        "passed_time": 6.487366752,
                        "iteration": 353,
                        "remaining_time": 11.83852803,
                        "learn": [
                          0.2719127974
                        ]
                      },
                      {
                        "passed_time": 6.503900524,
                        "iteration": 354,
                        "remaining_time": 11.81694602,
                        "learn": [
                          0.2718931902
                        ]
                      },
                      {
                        "passed_time": 6.525463527,
                        "iteration": 355,
                        "remaining_time": 11.8044902,
                        "learn": [
                          0.2717708481
                        ]
                      },
                      {
                        "passed_time": 6.543203363,
                        "iteration": 356,
                        "remaining_time": 11.78509737,
                        "learn": [
                          0.2716747052
                        ]
                      },
                      {
                        "passed_time": 6.560065791,
                        "iteration": 357,
                        "remaining_time": 11.76414033,
                        "learn": [
                          0.2714356676
                        ]
                      },
                      {
                        "passed_time": 6.577433873,
                        "iteration": 358,
                        "remaining_time": 11.74410895,
                        "learn": [
                          0.2712540402
                        ]
                      },
                      {
                        "passed_time": 6.595749911,
                        "iteration": 359,
                        "remaining_time": 11.72577762,
                        "learn": [
                          0.271234894
                        ]
                      },
                      {
                        "passed_time": 6.611688776,
                        "iteration": 360,
                        "remaining_time": 11.70323858,
                        "learn": [
                          0.2712192398
                        ]
                      },
                      {
                        "passed_time": 6.628504891,
                        "iteration": 361,
                        "remaining_time": 11.6822821,
                        "learn": [
                          0.2710489131
                        ]
                      },
                      {
                        "passed_time": 6.646526199,
                        "iteration": 362,
                        "remaining_time": 11.66346333,
                        "learn": [
                          0.2709072677
                        ]
                      },
                      {
                        "passed_time": 6.664171087,
                        "iteration": 363,
                        "remaining_time": 11.64399124,
                        "learn": [
                          0.2707528419
                        ]
                      },
                      {
                        "passed_time": 6.678379721,
                        "iteration": 364,
                        "remaining_time": 11.61855102,
                        "learn": [
                          0.2707340405
                        ]
                      },
                      {
                        "passed_time": 6.695062089,
                        "iteration": 365,
                        "remaining_time": 11.59745728,
                        "learn": [
                          0.2705114721
                        ]
                      },
                      {
                        "passed_time": 6.712029438,
                        "iteration": 366,
                        "remaining_time": 11.57687911,
                        "learn": [
                          0.270379423
                        ]
                      },
                      {
                        "passed_time": 6.735307929,
                        "iteration": 367,
                        "remaining_time": 11.56715927,
                        "learn": [
                          0.2702557719
                        ]
                      },
                      {
                        "passed_time": 6.752685029,
                        "iteration": 368,
                        "remaining_time": 11.5472744,
                        "learn": [
                          0.2700517972
                        ]
                      },
                      {
                        "passed_time": 6.771631609,
                        "iteration": 369,
                        "remaining_time": 11.53007544,
                        "learn": [
                          0.2699331545
                        ]
                      },
                      {
                        "passed_time": 6.786408422,
                        "iteration": 370,
                        "remaining_time": 11.50579757,
                        "learn": [
                          0.2698894907
                        ]
                      },
                      {
                        "passed_time": 6.805365943,
                        "iteration": 371,
                        "remaining_time": 11.48862853,
                        "learn": [
                          0.2698395895
                        ]
                      },
                      {
                        "passed_time": 6.822349333,
                        "iteration": 372,
                        "remaining_time": 11.46813145,
                        "learn": [
                          0.269480851
                        ]
                      },
                      {
                        "passed_time": 6.839111889,
                        "iteration": 373,
                        "remaining_time": 11.44728354,
                        "learn": [
                          0.2691993541
                        ]
                      },
                      {
                        "passed_time": 6.857371181,
                        "iteration": 374,
                        "remaining_time": 11.42895197,
                        "learn": [
                          0.2689713306
                        ]
                      },
                      {
                        "passed_time": 6.872422428,
                        "iteration": 375,
                        "remaining_time": 11.4052968,
                        "learn": [
                          0.2689512366
                        ]
                      },
                      {
                        "passed_time": 6.89027279,
                        "iteration": 376,
                        "remaining_time": 11.38631286,
                        "learn": [
                          0.268902851
                        ]
                      },
                      {
                        "passed_time": 6.912562225,
                        "iteration": 377,
                        "remaining_time": 11.37463943,
                        "learn": [
                          0.2687216601
                        ]
                      },
                      {
                        "passed_time": 6.932010216,
                        "iteration": 378,
                        "remaining_time": 11.35825421,
                        "learn": [
                          0.2686314091
                        ]
                      },
                      {
                        "passed_time": 6.991045432,
                        "iteration": 379,
                        "remaining_time": 11.40644255,
                        "learn": [
                          0.2684998182
                        ]
                      },
                      {
                        "passed_time": 7.009045233,
                        "iteration": 380,
                        "remaining_time": 11.38739895,
                        "learn": [
                          0.2683091433
                        ]
                      },
                      {
                        "passed_time": 7.029006793,
                        "iteration": 381,
                        "remaining_time": 11.37153455,
                        "learn": [
                          0.2681151221
                        ]
                      },
                      {
                        "passed_time": 7.044520576,
                        "iteration": 382,
                        "remaining_time": 11.34848354,
                        "learn": [
                          0.2680755145
                        ]
                      },
                      {
                        "passed_time": 7.061945017,
                        "iteration": 383,
                        "remaining_time": 11.3285368,
                        "learn": [
                          0.2678985461
                        ]
                      },
                      {
                        "passed_time": 7.078526737,
                        "iteration": 384,
                        "remaining_time": 11.307257,
                        "learn": [
                          0.2678362357
                        ]
                      },
                      {
                        "passed_time": 7.095343199,
                        "iteration": 385,
                        "remaining_time": 11.28637493,
                        "learn": [
                          0.2675729457
                        ]
                      },
                      {
                        "passed_time": 7.111649424,
                        "iteration": 386,
                        "remaining_time": 11.26470568,
                        "learn": [
                          0.2674636683
                        ]
                      },
                      {
                        "passed_time": 7.132445134,
                        "iteration": 387,
                        "remaining_time": 11.25014542,
                        "learn": [
                          0.2673302877
                        ]
                      },
                      {
                        "passed_time": 7.149922049,
                        "iteration": 388,
                        "remaining_time": 11.23034029,
                        "learn": [
                          0.2671281488
                        ]
                      },
                      {
                        "passed_time": 7.166250412,
                        "iteration": 389,
                        "remaining_time": 11.20875064,
                        "learn": [
                          0.2667982719
                        ]
                      },
                      {
                        "passed_time": 7.182566603,
                        "iteration": 390,
                        "remaining_time": 11.18716895,
                        "learn": [
                          0.2666925575
                        ]
                      },
                      {
                        "passed_time": 7.20385748,
                        "iteration": 391,
                        "remaining_time": 11.17332997,
                        "learn": [
                          0.2665122243
                        ]
                      },
                      {
                        "passed_time": 7.221383086,
                        "iteration": 392,
                        "remaining_time": 11.15363749,
                        "learn": [
                          0.266296684
                        ]
                      },
                      {
                        "passed_time": 7.238346897,
                        "iteration": 393,
                        "remaining_time": 11.13309193,
                        "learn": [
                          0.2662386919
                        ]
                      },
                      {
                        "passed_time": 7.256060081,
                        "iteration": 394,
                        "remaining_time": 11.11371228,
                        "learn": [
                          0.2660127904
                        ]
                      },
                      {
                        "passed_time": 7.273109241,
                        "iteration": 395,
                        "remaining_time": 11.09332824,
                        "learn": [
                          0.2659035104
                        ]
                      },
                      {
                        "passed_time": 7.290778078,
                        "iteration": 396,
                        "remaining_time": 11.07390222,
                        "learn": [
                          0.2658158281
                        ]
                      },
                      {
                        "passed_time": 7.3069268,
                        "iteration": 397,
                        "remaining_time": 11.05218576,
                        "learn": [
                          0.2656907402
                        ]
                      },
                      {
                        "passed_time": 7.32429303,
                        "iteration": 398,
                        "remaining_time": 11.03233111,
                        "learn": [
                          0.2656735963
                        ]
                      },
                      {
                        "passed_time": 7.340848093,
                        "iteration": 399,
                        "remaining_time": 11.01127214,
                        "learn": [
                          0.2655790797
                        ]
                      },
                      {
                        "passed_time": 7.358245976,
                        "iteration": 400,
                        "remaining_time": 10.99149461,
                        "learn": [
                          0.2654797352
                        ]
                      },
                      {
                        "passed_time": 7.377133798,
                        "iteration": 401,
                        "remaining_time": 10.9739453,
                        "learn": [
                          0.2653696434
                        ]
                      },
                      {
                        "passed_time": 7.393897283,
                        "iteration": 402,
                        "remaining_time": 10.95324238,
                        "learn": [
                          0.2650956587
                        ]
                      },
                      {
                        "passed_time": 7.414000372,
                        "iteration": 403,
                        "remaining_time": 10.9374857,
                        "learn": [
                          0.2649972501
                        ]
                      },
                      {
                        "passed_time": 7.431544195,
                        "iteration": 404,
                        "remaining_time": 10.91794764,
                        "learn": [
                          0.2648801701
                        ]
                      },
                      {
                        "passed_time": 7.447572575,
                        "iteration": 405,
                        "remaining_time": 10.89620224,
                        "learn": [
                          0.2647705311
                        ]
                      },
                      {
                        "passed_time": 7.464993429,
                        "iteration": 406,
                        "remaining_time": 10.87651377,
                        "learn": [
                          0.2647346709
                        ]
                      },
                      {
                        "passed_time": 7.482468446,
                        "iteration": 407,
                        "remaining_time": 10.856915,
                        "learn": [
                          0.2646566866
                        ]
                      },
                      {
                        "passed_time": 7.501189872,
                        "iteration": 408,
                        "remaining_time": 10.83912766,
                        "learn": [
                          0.2645322348
                        ]
                      },
                      {
                        "passed_time": 7.520318225,
                        "iteration": 409,
                        "remaining_time": 10.82192135,
                        "learn": [
                          0.2644442476
                        ]
                      },
                      {
                        "passed_time": 7.538483502,
                        "iteration": 410,
                        "remaining_time": 10.8033255,
                        "learn": [
                          0.264200261
                        ]
                      },
                      {
                        "passed_time": 7.554492088,
                        "iteration": 411,
                        "remaining_time": 10.78165376,
                        "learn": [
                          0.2640263086
                        ]
                      },
                      {
                        "passed_time": 7.572934384,
                        "iteration": 412,
                        "remaining_time": 10.76346848,
                        "learn": [
                          0.2638067625
                        ]
                      },
                      {
                        "passed_time": 7.589150049,
                        "iteration": 413,
                        "remaining_time": 10.74213026,
                        "learn": [
                          0.2636142771
                        ]
                      },
                      {
                        "passed_time": 7.604360052,
                        "iteration": 414,
                        "remaining_time": 10.71939911,
                        "learn": [
                          0.2636019344
                        ]
                      },
                      {
                        "passed_time": 7.624963253,
                        "iteration": 415,
                        "remaining_time": 10.70427534,
                        "learn": [
                          0.2635863138
                        ]
                      },
                      {
                        "passed_time": 7.641897378,
                        "iteration": 416,
                        "remaining_time": 10.68399561,
                        "learn": [
                          0.2633745305
                        ]
                      },
                      {
                        "passed_time": 7.65759238,
                        "iteration": 417,
                        "remaining_time": 10.66200662,
                        "learn": [
                          0.263340312
                        ]
                      },
                      {
                        "passed_time": 7.675302397,
                        "iteration": 418,
                        "remaining_time": 10.64284175,
                        "learn": [
                          0.2631083711
                        ]
                      },
                      {
                        "passed_time": 7.691876238,
                        "iteration": 419,
                        "remaining_time": 10.6221148,
                        "learn": [
                          0.2629569954
                        ]
                      },
                      {
                        "passed_time": 7.708233143,
                        "iteration": 420,
                        "remaining_time": 10.60110924,
                        "learn": [
                          0.2626844882
                        ]
                      },
                      {
                        "passed_time": 7.725587789,
                        "iteration": 421,
                        "remaining_time": 10.58149228,
                        "learn": [
                          0.2625522919
                        ]
                      },
                      {
                        "passed_time": 7.74332632,
                        "iteration": 422,
                        "remaining_time": 10.56240966,
                        "learn": [
                          0.2624036859
                        ]
                      },
                      {
                        "passed_time": 7.759495086,
                        "iteration": 423,
                        "remaining_time": 10.54120087,
                        "learn": [
                          0.2623567928
                        ]
                      },
                      {
                        "passed_time": 7.776804502,
                        "iteration": 424,
                        "remaining_time": 10.52155903,
                        "learn": [
                          0.2621431092
                        ]
                      },
                      {
                        "passed_time": 7.793359798,
                        "iteration": 425,
                        "remaining_time": 10.50091203,
                        "learn": [
                          0.2618661653
                        ]
                      },
                      {
                        "passed_time": 7.810575526,
                        "iteration": 426,
                        "remaining_time": 10.48117044,
                        "learn": [
                          0.2617509341
                        ]
                      },
                      {
                        "passed_time": 7.831827295,
                        "iteration": 427,
                        "remaining_time": 10.46683461,
                        "learn": [
                          0.261591808
                        ]
                      },
                      {
                        "passed_time": 7.846501849,
                        "iteration": 428,
                        "remaining_time": 10.44371225,
                        "learn": [
                          0.261576586
                        ]
                      },
                      {
                        "passed_time": 7.862410259,
                        "iteration": 429,
                        "remaining_time": 10.42226476,
                        "learn": [
                          0.2615586455
                        ]
                      },
                      {
                        "passed_time": 7.879205466,
                        "iteration": 430,
                        "remaining_time": 10.40201371,
                        "learn": [
                          0.2614425026
                        ]
                      },
                      {
                        "passed_time": 7.89364848,
                        "iteration": 431,
                        "remaining_time": 10.37868596,
                        "learn": [
                          0.2613362818
                        ]
                      },
                      {
                        "passed_time": 7.911026406,
                        "iteration": 432,
                        "remaining_time": 10.35924243,
                        "learn": [
                          0.2611120483
                        ]
                      },
                      {
                        "passed_time": 7.92793987,
                        "iteration": 433,
                        "remaining_time": 10.33920269,
                        "learn": [
                          0.2609416234
                        ]
                      },
                      {
                        "passed_time": 7.952279688,
                        "iteration": 434,
                        "remaining_time": 10.32882304,
                        "learn": [
                          0.2608707753
                        ]
                      },
                      {
                        "passed_time": 8.001098761,
                        "iteration": 435,
                        "remaining_time": 10.35004519,
                        "learn": [
                          0.2608142341
                        ]
                      },
                      {
                        "passed_time": 8.020972582,
                        "iteration": 436,
                        "remaining_time": 10.33365575,
                        "learn": [
                          0.2606865769
                        ]
                      },
                      {
                        "passed_time": 8.04219963,
                        "iteration": 437,
                        "remaining_time": 10.31898674,
                        "learn": [
                          0.2605146511
                        ]
                      },
                      {
                        "passed_time": 8.05917215,
                        "iteration": 438,
                        "remaining_time": 10.29885097,
                        "learn": [
                          0.2604127945
                        ]
                      },
                      {
                        "passed_time": 8.079140811,
                        "iteration": 439,
                        "remaining_time": 10.28254285,
                        "learn": [
                          0.2602627268
                        ]
                      },
                      {
                        "passed_time": 8.096955773,
                        "iteration": 440,
                        "remaining_time": 10.26348816,
                        "learn": [
                          0.2601297072
                        ]
                      },
                      {
                        "passed_time": 8.113968522,
                        "iteration": 441,
                        "remaining_time": 10.24342632,
                        "learn": [
                          0.2598244472
                        ]
                      },
                      {
                        "passed_time": 8.131413601,
                        "iteration": 442,
                        "remaining_time": 10.22392184,
                        "learn": [
                          0.2595205744
                        ]
                      },
                      {
                        "passed_time": 8.148636265,
                        "iteration": 443,
                        "remaining_time": 10.20414812,
                        "learn": [
                          0.2593861852
                        ]
                      },
                      {
                        "passed_time": 8.172822229,
                        "iteration": 444,
                        "remaining_time": 10.19307042,
                        "learn": [
                          0.2592436983
                        ]
                      },
                      {
                        "passed_time": 8.18916612,
                        "iteration": 445,
                        "remaining_time": 10.17219289,
                        "learn": [
                          0.2591421417
                        ]
                      },
                      {
                        "passed_time": 8.206121492,
                        "iteration": 446,
                        "remaining_time": 10.15209214,
                        "learn": [
                          0.2591235392
                        ]
                      },
                      {
                        "passed_time": 8.22322474,
                        "iteration": 447,
                        "remaining_time": 10.13218763,
                        "learn": [
                          0.25895877
                        ]
                      },
                      {
                        "passed_time": 8.238774912,
                        "iteration": 448,
                        "remaining_time": 10.1103897,
                        "learn": [
                          0.2588008122
                        ]
                      },
                      {
                        "passed_time": 8.259443736,
                        "iteration": 449,
                        "remaining_time": 10.09487568,
                        "learn": [
                          0.2586037038
                        ]
                      },
                      {
                        "passed_time": 8.275488532,
                        "iteration": 450,
                        "remaining_time": 10.07370999,
                        "learn": [
                          0.2585149222
                        ]
                      },
                      {
                        "passed_time": 8.291750632,
                        "iteration": 451,
                        "remaining_time": 10.05283041,
                        "learn": [
                          0.2582454847
                        ]
                      },
                      {
                        "passed_time": 8.30858289,
                        "iteration": 452,
                        "remaining_time": 10.03265969,
                        "learn": [
                          0.2578371361
                        ]
                      },
                      {
                        "passed_time": 8.325867766,
                        "iteration": 453,
                        "remaining_time": 10.01304802,
                        "learn": [
                          0.2577534099
                        ]
                      },
                      {
                        "passed_time": 8.341625211,
                        "iteration": 454,
                        "remaining_time": 9.991617011,
                        "learn": [
                          0.2576179065
                        ]
                      },
                      {
                        "passed_time": 8.360821846,
                        "iteration": 455,
                        "remaining_time": 9.974313782,
                        "learn": [
                          0.2573249962
                        ]
                      },
                      {
                        "passed_time": 8.378696585,
                        "iteration": 456,
                        "remaining_time": 9.95543161,
                        "learn": [
                          0.2570516271
                        ]
                      },
                      {
                        "passed_time": 8.395936724,
                        "iteration": 457,
                        "remaining_time": 9.935802848,
                        "learn": [
                          0.2569287318
                        ]
                      },
                      {
                        "passed_time": 8.412441057,
                        "iteration": 458,
                        "remaining_time": 9.915317237,
                        "learn": [
                          0.2569142654
                        ]
                      },
                      {
                        "passed_time": 8.430495319,
                        "iteration": 459,
                        "remaining_time": 9.896668417,
                        "learn": [
                          0.2565939808
                        ]
                      },
                      {
                        "passed_time": 8.448252388,
                        "iteration": 460,
                        "remaining_time": 9.877674701,
                        "learn": [
                          0.256419315
                        ]
                      },
                      {
                        "passed_time": 8.471467274,
                        "iteration": 461,
                        "remaining_time": 9.865041977,
                        "learn": [
                          0.2562884143
                        ]
                      },
                      {
                        "passed_time": 8.48923969,
                        "iteration": 462,
                        "remaining_time": 9.846051217,
                        "learn": [
                          0.2561430553
                        ]
                      },
                      {
                        "passed_time": 8.506249155,
                        "iteration": 463,
                        "remaining_time": 9.826184368,
                        "learn": [
                          0.2559296292
                        ]
                      },
                      {
                        "passed_time": 8.523770695,
                        "iteration": 464,
                        "remaining_time": 9.806918972,
                        "learn": [
                          0.2558058344
                        ]
                      },
                      {
                        "passed_time": 8.539378075,
                        "iteration": 465,
                        "remaining_time": 9.78546758,
                        "learn": [
                          0.2557958088
                        ]
                      },
                      {
                        "passed_time": 8.556292347,
                        "iteration": 466,
                        "remaining_time": 9.765532807,
                        "learn": [
                          0.255674109
                        ]
                      },
                      {
                        "passed_time": 8.574053257,
                        "iteration": 467,
                        "remaining_time": 9.746573361,
                        "learn": [
                          0.2554452275
                        ]
                      },
                      {
                        "passed_time": 8.590406665,
                        "iteration": 468,
                        "remaining_time": 9.726025456,
                        "learn": [
                          0.255355976
                        ]
                      },
                      {
                        "passed_time": 8.606824814,
                        "iteration": 469,
                        "remaining_time": 9.705568407,
                        "learn": [
                          0.2552748786
                        ]
                      },
                      {
                        "passed_time": 8.62552856,
                        "iteration": 470,
                        "remaining_time": 9.687695559,
                        "learn": [
                          0.255009338
                        ]
                      },
                      {
                        "passed_time": 8.646778833,
                        "iteration": 471,
                        "remaining_time": 9.672667847,
                        "learn": [
                          0.2549440177
                        ]
                      },
                      {
                        "passed_time": 8.664263206,
                        "iteration": 472,
                        "remaining_time": 9.653417991,
                        "learn": [
                          0.2547967849
                        ]
                      },
                      {
                        "passed_time": 8.685940503,
                        "iteration": 473,
                        "remaining_time": 9.638828491,
                        "learn": [
                          0.2546484119
                        ]
                      },
                      {
                        "passed_time": 8.702650573,
                        "iteration": 474,
                        "remaining_time": 9.618719054,
                        "learn": [
                          0.2546257012
                        ]
                      },
                      {
                        "passed_time": 8.7183054,
                        "iteration": 475,
                        "remaining_time": 9.597462247,
                        "learn": [
                          0.2546160743
                        ]
                      },
                      {
                        "passed_time": 8.735489541,
                        "iteration": 476,
                        "remaining_time": 9.577905723,
                        "learn": [
                          0.2544378665
                        ]
                      },
                      {
                        "passed_time": 8.753343523,
                        "iteration": 477,
                        "remaining_time": 9.559090626,
                        "learn": [
                          0.2542834332
                        ]
                      },
                      {
                        "passed_time": 8.769733474,
                        "iteration": 478,
                        "remaining_time": 9.53868714,
                        "learn": [
                          0.2541534122
                        ]
                      },
                      {
                        "passed_time": 8.786364149,
                        "iteration": 479,
                        "remaining_time": 9.518561162,
                        "learn": [
                          0.2539539043
                        ]
                      },
                      {
                        "passed_time": 8.803866737,
                        "iteration": 480,
                        "remaining_time": 9.499390512,
                        "learn": [
                          0.2536937696
                        ]
                      },
                      {
                        "passed_time": 8.820789664,
                        "iteration": 481,
                        "remaining_time": 9.47960383,
                        "learn": [
                          0.2533389964
                        ]
                      },
                      {
                        "passed_time": 8.837474293,
                        "iteration": 482,
                        "remaining_time": 9.459573933,
                        "learn": [
                          0.2531914384
                        ]
                      },
                      {
                        "passed_time": 8.855568763,
                        "iteration": 483,
                        "remaining_time": 9.441060912,
                        "learn": [
                          0.253056132
                        ]
                      },
                      {
                        "passed_time": 8.874975503,
                        "iteration": 484,
                        "remaining_time": 9.42394306,
                        "learn": [
                          0.2529356461
                        ]
                      },
                      {
                        "passed_time": 8.894821212,
                        "iteration": 485,
                        "remaining_time": 9.407280047,
                        "learn": [
                          0.2527754729
                        ]
                      },
                      {
                        "passed_time": 8.910571949,
                        "iteration": 486,
                        "remaining_time": 9.386290369,
                        "learn": [
                          0.2527642043
                        ]
                      },
                      {
                        "passed_time": 8.92743232,
                        "iteration": 487,
                        "remaining_time": 9.366486369,
                        "learn": [
                          0.2526274617
                        ]
                      },
                      {
                        "passed_time": 8.950359265,
                        "iteration": 488,
                        "remaining_time": 9.353033915,
                        "learn": [
                          0.2524700816
                        ]
                      },
                      {
                        "passed_time": 8.992022574,
                        "iteration": 489,
                        "remaining_time": 9.359043904,
                        "learn": [
                          0.2524038589
                        ]
                      },
                      {
                        "passed_time": 9.017749224,
                        "iteration": 490,
                        "remaining_time": 9.348338808,
                        "learn": [
                          0.2523063866
                        ]
                      },
                      {
                        "passed_time": 9.034315827,
                        "iteration": 491,
                        "remaining_time": 9.328114716,
                        "learn": [
                          0.2521732363
                        ]
                      },
                      {
                        "passed_time": 9.050932105,
                        "iteration": 492,
                        "remaining_time": 9.307956546,
                        "learn": [
                          0.2520400553
                        ]
                      },
                      {
                        "passed_time": 9.068112979,
                        "iteration": 493,
                        "remaining_time": 9.288391027,
                        "learn": [
                          0.2518401486
                        ]
                      },
                      {
                        "passed_time": 9.08769974,
                        "iteration": 494,
                        "remaining_time": 9.271289633,
                        "learn": [
                          0.251677356
                        ]
                      },
                      {
                        "passed_time": 9.109305487,
                        "iteration": 495,
                        "remaining_time": 9.256229769,
                        "learn": [
                          0.2515684952
                        ]
                      },
                      {
                        "passed_time": 9.126177426,
                        "iteration": 496,
                        "remaining_time": 9.236352606,
                        "learn": [
                          0.2513828665
                        ]
                      },
                      {
                        "passed_time": 9.142464894,
                        "iteration": 497,
                        "remaining_time": 9.215898347,
                        "learn": [
                          0.2512537965
                        ]
                      },
                      {
                        "passed_time": 9.160514541,
                        "iteration": 498,
                        "remaining_time": 9.19723003,
                        "learn": [
                          0.2510798008
                        ]
                      },
                      {
                        "passed_time": 9.176412119,
                        "iteration": 499,
                        "remaining_time": 9.176412119,
                        "learn": [
                          0.2509036982
                        ]
                      },
                      {
                        "passed_time": 9.191849601,
                        "iteration": 500,
                        "remaining_time": 9.155155591,
                        "learn": [
                          0.2507781356
                        ]
                      },
                      {
                        "passed_time": 9.208145666,
                        "iteration": 501,
                        "remaining_time": 9.134773987,
                        "learn": [
                          0.2507491425
                        ]
                      },
                      {
                        "passed_time": 9.224927192,
                        "iteration": 502,
                        "remaining_time": 9.114888299,
                        "learn": [
                          0.2506695104
                        ]
                      },
                      {
                        "passed_time": 9.242176779,
                        "iteration": 503,
                        "remaining_time": 9.095475561,
                        "learn": [
                          0.2506097397
                        ]
                      },
                      {
                        "passed_time": 9.259274906,
                        "iteration": 504,
                        "remaining_time": 9.075922927,
                        "learn": [
                          0.2503713997
                        ]
                      },
                      {
                        "passed_time": 9.275881232,
                        "iteration": 505,
                        "remaining_time": 9.055899859,
                        "learn": [
                          0.250161258
                        ]
                      },
                      {
                        "passed_time": 9.292450345,
                        "iteration": 506,
                        "remaining_time": 9.035854083,
                        "learn": [
                          0.2500566487
                        ]
                      },
                      {
                        "passed_time": 9.3129594,
                        "iteration": 507,
                        "remaining_time": 9.019637844,
                        "learn": [
                          0.2499091788
                        ]
                      },
                      {
                        "passed_time": 9.329757383,
                        "iteration": 508,
                        "remaining_time": 8.999824902,
                        "learn": [
                          0.2498481481
                        ]
                      },
                      {
                        "passed_time": 9.349842582,
                        "iteration": 509,
                        "remaining_time": 8.983182089,
                        "learn": [
                          0.2497328503
                        ]
                      },
                      {
                        "passed_time": 9.367703104,
                        "iteration": 510,
                        "remaining_time": 8.964396904,
                        "learn": [
                          0.2496465315
                        ]
                      },
                      {
                        "passed_time": 9.385102273,
                        "iteration": 511,
                        "remaining_time": 8.945175604,
                        "learn": [
                          0.2495633949
                        ]
                      },
                      {
                        "passed_time": 9.401656441,
                        "iteration": 512,
                        "remaining_time": 8.925159234,
                        "learn": [
                          0.2493331383
                        ]
                      },
                      {
                        "passed_time": 9.419423748,
                        "iteration": 513,
                        "remaining_time": 8.906303388,
                        "learn": [
                          0.2491024378
                        ]
                      },
                      {
                        "passed_time": 9.446127055,
                        "iteration": 514,
                        "remaining_time": 8.895867227,
                        "learn": [
                          0.2490386717
                        ]
                      },
                      {
                        "passed_time": 9.471663033,
                        "iteration": 515,
                        "remaining_time": 8.884273077,
                        "learn": [
                          0.2489164767
                        ]
                      },
                      {
                        "passed_time": 9.488253685,
                        "iteration": 516,
                        "remaining_time": 8.86426795,
                        "learn": [
                          0.2486766382
                        ]
                      },
                      {
                        "passed_time": 9.507158712,
                        "iteration": 517,
                        "remaining_time": 8.846429535,
                        "learn": [
                          0.2485003657
                        ]
                      },
                      {
                        "passed_time": 9.53021164,
                        "iteration": 518,
                        "remaining_time": 8.832431211,
                        "learn": [
                          0.24836518
                        ]
                      },
                      {
                        "passed_time": 9.55031794,
                        "iteration": 519,
                        "remaining_time": 8.815678098,
                        "learn": [
                          0.2483474938
                        ]
                      },
                      {
                        "passed_time": 9.568296747,
                        "iteration": 520,
                        "remaining_time": 8.796956126,
                        "learn": [
                          0.2482914309
                        ]
                      },
                      {
                        "passed_time": 9.585706276,
                        "iteration": 521,
                        "remaining_time": 8.777715708,
                        "learn": [
                          0.2482302458
                        ]
                      },
                      {
                        "passed_time": 9.604453294,
                        "iteration": 522,
                        "remaining_time": 8.759702144,
                        "learn": [
                          0.2479017397
                        ]
                      },
                      {
                        "passed_time": 9.622349504,
                        "iteration": 523,
                        "remaining_time": 8.740912908,
                        "learn": [
                          0.2478279214
                        ]
                      },
                      {
                        "passed_time": 9.640238423,
                        "iteration": 524,
                        "remaining_time": 8.722120478,
                        "learn": [
                          0.2475744481
                        ]
                      },
                      {
                        "passed_time": 9.659554018,
                        "iteration": 525,
                        "remaining_time": 8.704617119,
                        "learn": [
                          0.2474063601
                        ]
                      },
                      {
                        "passed_time": 9.67511091,
                        "iteration": 526,
                        "remaining_time": 8.683733322,
                        "learn": [
                          0.247396113
                        ]
                      },
                      {
                        "passed_time": 9.691775306,
                        "iteration": 527,
                        "remaining_time": 8.663859744,
                        "learn": [
                          0.247217194
                        ]
                      },
                      {
                        "passed_time": 9.708094234,
                        "iteration": 528,
                        "remaining_time": 8.643690707,
                        "learn": [
                          0.2470936728
                        ]
                      },
                      {
                        "passed_time": 9.727278385,
                        "iteration": 529,
                        "remaining_time": 8.626077058,
                        "learn": [
                          0.2467609527
                        ]
                      },
                      {
                        "passed_time": 9.745413217,
                        "iteration": 530,
                        "remaining_time": 8.607530695,
                        "learn": [
                          0.2466939067
                        ]
                      },
                      {
                        "passed_time": 9.761355694,
                        "iteration": 531,
                        "remaining_time": 8.587057265,
                        "learn": [
                          0.2466456424
                        ]
                      },
                      {
                        "passed_time": 9.780381063,
                        "iteration": 532,
                        "remaining_time": 8.569301982,
                        "learn": [
                          0.24663752
                        ]
                      },
                      {
                        "passed_time": 9.796397977,
                        "iteration": 533,
                        "remaining_time": 8.548916587,
                        "learn": [
                          0.2465002585
                        ]
                      },
                      {
                        "passed_time": 9.812566881,
                        "iteration": 534,
                        "remaining_time": 8.528679625,
                        "learn": [
                          0.2464896679
                        ]
                      },
                      {
                        "passed_time": 9.830098097,
                        "iteration": 535,
                        "remaining_time": 8.509637158,
                        "learn": [
                          0.2462448476
                        ]
                      },
                      {
                        "passed_time": 9.850313013,
                        "iteration": 536,
                        "remaining_time": 8.492914199,
                        "learn": [
                          0.2461157165
                        ]
                      },
                      {
                        "passed_time": 9.867518697,
                        "iteration": 537,
                        "remaining_time": 8.473594122,
                        "learn": [
                          0.2460344138
                        ]
                      },
                      {
                        "passed_time": 9.88329386,
                        "iteration": 538,
                        "remaining_time": 8.453058385,
                        "learn": [
                          0.2459853592
                        ]
                      },
                      {
                        "passed_time": 9.899896123,
                        "iteration": 539,
                        "remaining_time": 8.433244846,
                        "learn": [
                          0.2459312867
                        ]
                      },
                      {
                        "passed_time": 9.91703446,
                        "iteration": 540,
                        "remaining_time": 8.413897998,
                        "learn": [
                          0.2457657619
                        ]
                      },
                      {
                        "passed_time": 9.944849492,
                        "iteration": 541,
                        "remaining_time": 8.403581305,
                        "learn": [
                          0.2456319959
                        ]
                      },
                      {
                        "passed_time": 9.978624199,
                        "iteration": 542,
                        "remaining_time": 8.398215947,
                        "learn": [
                          0.2455106017
                        ]
                      },
                      {
                        "passed_time": 10.01749887,
                        "iteration": 543,
                        "remaining_time": 8.397021109,
                        "learn": [
                          0.2454490853
                        ]
                      },
                      {
                        "passed_time": 10.03633341,
                        "iteration": 544,
                        "remaining_time": 8.378957253,
                        "learn": [
                          0.2452541239
                        ]
                      },
                      {
                        "passed_time": 10.05443575,
                        "iteration": 545,
                        "remaining_time": 8.360281742,
                        "learn": [
                          0.2451320924
                        ]
                      },
                      {
                        "passed_time": 10.07168237,
                        "iteration": 546,
                        "remaining_time": 8.340899657,
                        "learn": [
                          0.2449394879
                        ]
                      },
                      {
                        "passed_time": 10.08727639,
                        "iteration": 547,
                        "remaining_time": 8.32016228,
                        "learn": [
                          0.2449308712
                        ]
                      },
                      {
                        "passed_time": 10.10479157,
                        "iteration": 548,
                        "remaining_time": 8.301021857,
                        "learn": [
                          0.2447948402
                        ]
                      },
                      {
                        "passed_time": 10.12133312,
                        "iteration": 549,
                        "remaining_time": 8.281090734,
                        "learn": [
                          0.2446892625
                        ]
                      },
                      {
                        "passed_time": 10.13788022,
                        "iteration": 550,
                        "remaining_time": 8.261176444,
                        "learn": [
                          0.2446028925
                        ]
                      },
                      {
                        "passed_time": 10.15876917,
                        "iteration": 551,
                        "remaining_time": 8.244798165,
                        "learn": [
                          0.2445406411
                        ]
                      },
                      {
                        "passed_time": 10.17720136,
                        "iteration": 552,
                        "remaining_time": 8.226417735,
                        "learn": [
                          0.2444439734
                        ]
                      },
                      {
                        "passed_time": 10.19420371,
                        "iteration": 553,
                        "remaining_time": 8.206886017,
                        "learn": [
                          0.2443131793
                        ]
                      },
                      {
                        "passed_time": 10.21765791,
                        "iteration": 554,
                        "remaining_time": 8.192536521,
                        "learn": [
                          0.2442348813
                        ]
                      },
                      {
                        "passed_time": 10.23370505,
                        "iteration": 555,
                        "remaining_time": 8.172239285,
                        "learn": [
                          0.2442270504
                        ]
                      },
                      {
                        "passed_time": 10.25067498,
                        "iteration": 556,
                        "remaining_time": 8.152691235,
                        "learn": [
                          0.2441641202
                        ]
                      },
                      {
                        "passed_time": 10.26873701,
                        "iteration": 557,
                        "remaining_time": 8.134017491,
                        "learn": [
                          0.2439413792
                        ]
                      },
                      {
                        "passed_time": 10.28655995,
                        "iteration": 558,
                        "remaining_time": 8.115157312,
                        "learn": [
                          0.2437495366
                        ]
                      },
                      {
                        "passed_time": 10.30437549,
                        "iteration": 559,
                        "remaining_time": 8.09629503,
                        "learn": [
                          0.2435582701
                        ]
                      },
                      {
                        "passed_time": 10.3235813,
                        "iteration": 560,
                        "remaining_time": 8.078524408,
                        "learn": [
                          0.243518201
                        ]
                      },
                      {
                        "passed_time": 10.34016166,
                        "iteration": 561,
                        "remaining_time": 8.058702504,
                        "learn": [
                          0.24339346
                        ]
                      },
                      {
                        "passed_time": 10.35885,
                        "iteration": 562,
                        "remaining_time": 8.040528332,
                        "learn": [
                          0.2432430846
                        ]
                      },
                      {
                        "passed_time": 10.37738398,
                        "iteration": 563,
                        "remaining_time": 8.022233003,
                        "learn": [
                          0.2431359363
                        ]
                      },
                      {
                        "passed_time": 10.39413961,
                        "iteration": 564,
                        "remaining_time": 8.002567661,
                        "learn": [
                          0.2430056943
                        ]
                      },
                      {
                        "passed_time": 10.41160184,
                        "iteration": 565,
                        "remaining_time": 7.983454415,
                        "learn": [
                          0.2427951439
                        ]
                      },
                      {
                        "passed_time": 10.42810749,
                        "iteration": 566,
                        "remaining_time": 7.963616479,
                        "learn": [
                          0.2426884624
                        ]
                      },
                      {
                        "passed_time": 10.4451688,
                        "iteration": 567,
                        "remaining_time": 7.94421289,
                        "learn": [
                          0.2425577005
                        ]
                      },
                      {
                        "passed_time": 10.46279361,
                        "iteration": 568,
                        "remaining_time": 7.925244366,
                        "learn": [
                          0.2423887973
                        ]
                      },
                      {
                        "passed_time": 10.47861438,
                        "iteration": 569,
                        "remaining_time": 7.904919623,
                        "learn": [
                          0.2422017545
                        ]
                      },
                      {
                        "passed_time": 10.49453178,
                        "iteration": 570,
                        "remaining_time": 7.884683244,
                        "learn": [
                          0.2420590224
                        ]
                      },
                      {
                        "passed_time": 10.51162089,
                        "iteration": 571,
                        "remaining_time": 7.865338709,
                        "learn": [
                          0.241983984
                        ]
                      },
                      {
                        "passed_time": 10.52777529,
                        "iteration": 572,
                        "remaining_time": 7.845305498,
                        "learn": [
                          0.2419103005
                        ]
                      },
                      {
                        "passed_time": 10.5459395,
                        "iteration": 573,
                        "remaining_time": 7.826777397,
                        "learn": [
                          0.2418016034
                        ]
                      },
                      {
                        "passed_time": 10.56209704,
                        "iteration": 574,
                        "remaining_time": 7.806767374,
                        "learn": [
                          0.2417942936
                        ]
                      },
                      {
                        "passed_time": 10.58179072,
                        "iteration": 575,
                        "remaining_time": 7.789373724,
                        "learn": [
                          0.2416596815
                        ]
                      },
                      {
                        "passed_time": 10.60227683,
                        "iteration": 576,
                        "remaining_time": 7.772553029,
                        "learn": [
                          0.2415993013
                        ]
                      },
                      {
                        "passed_time": 10.61968418,
                        "iteration": 577,
                        "remaining_time": 7.753471842,
                        "learn": [
                          0.2415153901
                        ]
                      },
                      {
                        "passed_time": 10.63480518,
                        "iteration": 578,
                        "remaining_time": 7.732733994,
                        "learn": [
                          0.2415083565
                        ]
                      },
                      {
                        "passed_time": 10.64956448,
                        "iteration": 579,
                        "remaining_time": 7.711753592,
                        "learn": [
                          0.2415015052
                        ]
                      },
                      {
                        "passed_time": 10.66553696,
                        "iteration": 580,
                        "remaining_time": 7.691669514,
                        "learn": [
                          0.2413959153
                        ]
                      },
                      {
                        "passed_time": 10.68254326,
                        "iteration": 581,
                        "remaining_time": 7.672342065,
                        "learn": [
                          0.2412206886
                        ]
                      },
                      {
                        "passed_time": 10.70045445,
                        "iteration": 582,
                        "remaining_time": 7.653669822,
                        "learn": [
                          0.2410391915
                        ]
                      },
                      {
                        "passed_time": 10.71633689,
                        "iteration": 583,
                        "remaining_time": 7.633555045,
                        "learn": [
                          0.2409206694
                        ]
                      },
                      {
                        "passed_time": 10.73279458,
                        "iteration": 584,
                        "remaining_time": 7.613862821,
                        "learn": [
                          0.240853317
                        ]
                      },
                      {
                        "passed_time": 10.74970851,
                        "iteration": 585,
                        "remaining_time": 7.594503961,
                        "learn": [
                          0.2406953274
                        ]
                      },
                      {
                        "passed_time": 10.76973671,
                        "iteration": 586,
                        "remaining_time": 7.577344569,
                        "learn": [
                          0.2406605809
                        ]
                      },
                      {
                        "passed_time": 10.78620383,
                        "iteration": 587,
                        "remaining_time": 7.557680232,
                        "learn": [
                          0.2405018524
                        ]
                      },
                      {
                        "passed_time": 10.80334736,
                        "iteration": 588,
                        "remaining_time": 7.538498754,
                        "learn": [
                          0.240408358
                        ]
                      },
                      {
                        "passed_time": 10.82161999,
                        "iteration": 589,
                        "remaining_time": 7.520108807,
                        "learn": [
                          0.2402516004
                        ]
                      },
                      {
                        "passed_time": 10.84321966,
                        "iteration": 590,
                        "remaining_time": 7.50402173,
                        "learn": [
                          0.2400233777
                        ]
                      },
                      {
                        "passed_time": 10.85795804,
                        "iteration": 591,
                        "remaining_time": 7.483187297,
                        "learn": [
                          0.2400147735
                        ]
                      },
                      {
                        "passed_time": 10.87536035,
                        "iteration": 592,
                        "remaining_time": 7.464201791,
                        "learn": [
                          0.2397820212
                        ]
                      },
                      {
                        "passed_time": 10.89265563,
                        "iteration": 593,
                        "remaining_time": 7.445148458,
                        "learn": [
                          0.2397483265
                        ]
                      },
                      {
                        "passed_time": 10.91049105,
                        "iteration": 594,
                        "remaining_time": 7.426468697,
                        "learn": [
                          0.2395077959
                        ]
                      },
                      {
                        "passed_time": 10.93257598,
                        "iteration": 595,
                        "remaining_time": 7.410672307,
                        "learn": [
                          0.2392230847
                        ]
                      },
                      {
                        "passed_time": 10.95379602,
                        "iteration": 596,
                        "remaining_time": 7.394271016,
                        "learn": [
                          0.239164628
                        ]
                      },
                      {
                        "passed_time": 10.98054055,
                        "iteration": 597,
                        "remaining_time": 7.381567392,
                        "learn": [
                          0.2390392841
                        ]
                      },
                      {
                        "passed_time": 11.02967557,
                        "iteration": 598,
                        "remaining_time": 7.383806181,
                        "learn": [
                          0.2389368995
                        ]
                      },
                      {
                        "passed_time": 11.04684854,
                        "iteration": 599,
                        "remaining_time": 7.364565692,
                        "learn": [
                          0.2388207835
                        ]
                      },
                      {
                        "passed_time": 11.07112781,
                        "iteration": 600,
                        "remaining_time": 7.350049908,
                        "learn": [
                          0.2387536887
                        ]
                      },
                      {
                        "passed_time": 11.08895859,
                        "iteration": 601,
                        "remaining_time": 7.331238402,
                        "learn": [
                          0.2386977671
                        ]
                      },
                      {
                        "passed_time": 11.10661683,
                        "iteration": 602,
                        "remaining_time": 7.312316553,
                        "learn": [
                          0.2386016886
                        ]
                      },
                      {
                        "passed_time": 11.12315708,
                        "iteration": 603,
                        "remaining_time": 7.292665898,
                        "learn": [
                          0.2385933417
                        ]
                      },
                      {
                        "passed_time": 11.14102041,
                        "iteration": 604,
                        "remaining_time": 7.273889357,
                        "learn": [
                          0.2385104141
                        ]
                      },
                      {
                        "passed_time": 11.15816152,
                        "iteration": 605,
                        "remaining_time": 7.254646268,
                        "learn": [
                          0.238411374
                        ]
                      },
                      {
                        "passed_time": 11.17612987,
                        "iteration": 606,
                        "remaining_time": 7.2359457,
                        "learn": [
                          0.2382818691
                        ]
                      },
                      {
                        "passed_time": 11.19503521,
                        "iteration": 607,
                        "remaining_time": 7.217851652,
                        "learn": [
                          0.2382748811
                        ]
                      },
                      {
                        "passed_time": 11.21323347,
                        "iteration": 608,
                        "remaining_time": 7.199300964,
                        "learn": [
                          0.2381624348
                        ]
                      },
                      {
                        "passed_time": 11.23080394,
                        "iteration": 609,
                        "remaining_time": 7.180350058,
                        "learn": [
                          0.2380769443
                        ]
                      },
                      {
                        "passed_time": 11.24763388,
                        "iteration": 610,
                        "remaining_time": 7.160932209,
                        "learn": [
                          0.2379677877
                        ]
                      },
                      {
                        "passed_time": 11.26554763,
                        "iteration": 611,
                        "remaining_time": 7.142209938,
                        "learn": [
                          0.2378143763
                        ]
                      },
                      {
                        "passed_time": 11.28268063,
                        "iteration": 612,
                        "remaining_time": 7.122997397,
                        "learn": [
                          0.2376545858
                        ]
                      },
                      {
                        "passed_time": 11.30121333,
                        "iteration": 613,
                        "remaining_time": 7.104671572,
                        "learn": [
                          0.2375427631
                        ]
                      },
                      {
                        "passed_time": 11.3192942,
                        "iteration": 614,
                        "remaining_time": 7.086062223,
                        "learn": [
                          0.2374509649
                        ]
                      },
                      {
                        "passed_time": 11.33556909,
                        "iteration": 615,
                        "remaining_time": 7.066328786,
                        "learn": [
                          0.2373591952
                        ]
                      },
                      {
                        "passed_time": 11.35323317,
                        "iteration": 616,
                        "remaining_time": 7.047468885,
                        "learn": [
                          0.2373415023
                        ]
                      },
                      {
                        "passed_time": 11.3707845,
                        "iteration": 617,
                        "remaining_time": 7.028543167,
                        "learn": [
                          0.2372199224
                        ]
                      },
                      {
                        "passed_time": 11.38780951,
                        "iteration": 618,
                        "remaining_time": 7.009297935,
                        "learn": [
                          0.2371510113
                        ]
                      },
                      {
                        "passed_time": 11.40805966,
                        "iteration": 619,
                        "remaining_time": 6.992036569,
                        "learn": [
                          0.2370777063
                        ]
                      },
                      {
                        "passed_time": 11.42430909,
                        "iteration": 620,
                        "remaining_time": 6.972323903,
                        "learn": [
                          0.236989642
                        ]
                      },
                      {
                        "passed_time": 11.4448155,
                        "iteration": 621,
                        "remaining_time": 6.955209419,
                        "learn": [
                          0.2369067597
                        ]
                      },
                      {
                        "passed_time": 11.4609949,
                        "iteration": 622,
                        "remaining_time": 6.935465611,
                        "learn": [
                          0.2368854555
                        ]
                      },
                      {
                        "passed_time": 11.47740824,
                        "iteration": 623,
                        "remaining_time": 6.915874198,
                        "learn": [
                          0.2367808734
                        ]
                      },
                      {
                        "passed_time": 11.49494283,
                        "iteration": 624,
                        "remaining_time": 6.896965697,
                        "learn": [
                          0.2366067611
                        ]
                      },
                      {
                        "passed_time": 11.51172518,
                        "iteration": 625,
                        "remaining_time": 6.877612166,
                        "learn": [
                          0.2365190071
                        ]
                      },
                      {
                        "passed_time": 11.52889846,
                        "iteration": 626,
                        "remaining_time": 6.858499402,
                        "learn": [
                          0.2362475998
                        ]
                      },
                      {
                        "passed_time": 11.54552375,
                        "iteration": 627,
                        "remaining_time": 6.83906821,
                        "learn": [
                          0.236155871
                        ]
                      },
                      {
                        "passed_time": 11.56283039,
                        "iteration": 628,
                        "remaining_time": 6.820047815,
                        "learn": [
                          0.2360173011
                        ]
                      },
                      {
                        "passed_time": 11.57878448,
                        "iteration": 629,
                        "remaining_time": 6.800238504,
                        "learn": [
                          0.2360093402
                        ]
                      },
                      {
                        "passed_time": 11.59613478,
                        "iteration": 630,
                        "remaining_time": 6.781257896,
                        "learn": [
                          0.2358802048
                        ]
                      },
                      {
                        "passed_time": 11.61771172,
                        "iteration": 631,
                        "remaining_time": 6.764743533,
                        "learn": [
                          0.2356657655
                        ]
                      },
                      {
                        "passed_time": 11.63419499,
                        "iteration": 632,
                        "remaining_time": 6.74525997,
                        "learn": [
                          0.235633087
                        ]
                      },
                      {
                        "passed_time": 11.65503622,
                        "iteration": 633,
                        "remaining_time": 6.728301664,
                        "learn": [
                          0.2354491834
                        ]
                      },
                      {
                        "passed_time": 11.67840208,
                        "iteration": 634,
                        "remaining_time": 6.712782296,
                        "learn": [
                          0.2353942348
                        ]
                      },
                      {
                        "passed_time": 11.69591394,
                        "iteration": 635,
                        "remaining_time": 6.693887852,
                        "learn": [
                          0.2352349519
                        ]
                      },
                      {
                        "passed_time": 11.71405281,
                        "iteration": 636,
                        "remaining_time": 6.675355053,
                        "learn": [
                          0.2350202334
                        ]
                      },
                      {
                        "passed_time": 11.73128451,
                        "iteration": 637,
                        "remaining_time": 6.656308764,
                        "learn": [
                          0.2349007811
                        ]
                      },
                      {
                        "passed_time": 11.74760195,
                        "iteration": 638,
                        "remaining_time": 6.63675165,
                        "learn": [
                          0.2348799429
                        ]
                      },
                      {
                        "passed_time": 11.76355008,
                        "iteration": 639,
                        "remaining_time": 6.616996921,
                        "learn": [
                          0.2348708573
                        ]
                      },
                      {
                        "passed_time": 11.78208011,
                        "iteration": 640,
                        "remaining_time": 6.598700095,
                        "learn": [
                          0.2347951556
                        ]
                      },
                      {
                        "passed_time": 11.80046821,
                        "iteration": 641,
                        "remaining_time": 6.580323396,
                        "learn": [
                          0.2346185403
                        ]
                      },
                      {
                        "passed_time": 11.82107523,
                        "iteration": 642,
                        "remaining_time": 6.563178629,
                        "learn": [
                          0.2345666009
                        ]
                      },
                      {
                        "passed_time": 11.83746372,
                        "iteration": 643,
                        "remaining_time": 6.543691126,
                        "learn": [
                          0.2344066154
                        ]
                      },
                      {
                        "passed_time": 11.85445066,
                        "iteration": 644,
                        "remaining_time": 6.524542611,
                        "learn": [
                          0.2342540167
                        ]
                      },
                      {
                        "passed_time": 11.87124398,
                        "iteration": 645,
                        "remaining_time": 6.505294689,
                        "learn": [
                          0.2341192303
                        ]
                      },
                      {
                        "passed_time": 11.88778592,
                        "iteration": 646,
                        "remaining_time": 6.485917204,
                        "learn": [
                          0.2340757202
                        ]
                      },
                      {
                        "passed_time": 11.91154681,
                        "iteration": 647,
                        "remaining_time": 6.470469875,
                        "learn": [
                          0.2338922022
                        ]
                      },
                      {
                        "passed_time": 11.93605168,
                        "iteration": 648,
                        "remaining_time": 6.455399291,
                        "learn": [
                          0.2338707965
                        ]
                      },
                      {
                        "passed_time": 11.95389644,
                        "iteration": 649,
                        "remaining_time": 6.436713467,
                        "learn": [
                          0.2337177257
                        ]
                      },
                      {
                        "passed_time": 11.97206227,
                        "iteration": 650,
                        "remaining_time": 6.418202354,
                        "learn": [
                          0.2335822601
                        ]
                      },
                      {
                        "passed_time": 12.01173475,
                        "iteration": 651,
                        "remaining_time": 6.411171307,
                        "learn": [
                          0.2334685084
                        ]
                      },
                      {
                        "passed_time": 12.05097666,
                        "iteration": 652,
                        "remaining_time": 6.403811488,
                        "learn": [
                          0.2333768875
                        ]
                      },
                      {
                        "passed_time": 12.06793128,
                        "iteration": 653,
                        "remaining_time": 6.38456303,
                        "learn": [
                          0.2333295173
                        ]
                      },
                      {
                        "passed_time": 12.08519814,
                        "iteration": 654,
                        "remaining_time": 6.365486043,
                        "learn": [
                          0.233320677
                        ]
                      },
                      {
                        "passed_time": 12.10260329,
                        "iteration": 655,
                        "remaining_time": 6.346487092,
                        "learn": [
                          0.2331541693
                        ]
                      },
                      {
                        "passed_time": 12.12047692,
                        "iteration": 656,
                        "remaining_time": 6.327737571,
                        "learn": [
                          0.2329846795
                        ]
                      },
                      {
                        "passed_time": 12.14267116,
                        "iteration": 657,
                        "remaining_time": 6.311236379,
                        "learn": [
                          0.2327249436
                        ]
                      },
                      {
                        "passed_time": 12.1629197,
                        "iteration": 658,
                        "remaining_time": 6.293711104,
                        "learn": [
                          0.2326325407
                        ]
                      },
                      {
                        "passed_time": 12.18072009,
                        "iteration": 659,
                        "remaining_time": 6.274916411,
                        "learn": [
                          0.2324230091
                        ]
                      },
                      {
                        "passed_time": 12.19823193,
                        "iteration": 660,
                        "remaining_time": 6.255976738,
                        "learn": [
                          0.2323668308
                        ]
                      },
                      {
                        "passed_time": 12.21598626,
                        "iteration": 661,
                        "remaining_time": 6.23716519,
                        "learn": [
                          0.2323056139
                        ]
                      },
                      {
                        "passed_time": 12.23240589,
                        "iteration": 662,
                        "remaining_time": 6.217678408,
                        "learn": [
                          0.2322045389
                        ]
                      },
                      {
                        "passed_time": 12.25232481,
                        "iteration": 663,
                        "remaining_time": 6.19997159,
                        "learn": [
                          0.2320491607
                        ]
                      },
                      {
                        "passed_time": 12.27101602,
                        "iteration": 664,
                        "remaining_time": 6.181639647,
                        "learn": [
                          0.2319704638
                        ]
                      },
                      {
                        "passed_time": 12.2882703,
                        "iteration": 665,
                        "remaining_time": 6.162586007,
                        "learn": [
                          0.2318689853
                        ]
                      },
                      {
                        "passed_time": 12.30568586,
                        "iteration": 666,
                        "remaining_time": 6.143618278,
                        "learn": [
                          0.2317438185
                        ]
                      },
                      {
                        "passed_time": 12.32042694,
                        "iteration": 667,
                        "remaining_time": 6.123325966,
                        "learn": [
                          0.2317383347
                        ]
                      },
                      {
                        "passed_time": 12.33678288,
                        "iteration": 668,
                        "remaining_time": 6.103849227,
                        "learn": [
                          0.2316037164
                        ]
                      },
                      {
                        "passed_time": 12.35421875,
                        "iteration": 669,
                        "remaining_time": 6.084913715,
                        "learn": [
                          0.2313491011
                        ]
                      },
                      {
                        "passed_time": 12.37157241,
                        "iteration": 670,
                        "remaining_time": 6.065942359,
                        "learn": [
                          0.2312348918
                        ]
                      },
                      {
                        "passed_time": 12.3891958,
                        "iteration": 671,
                        "remaining_time": 6.047107471,
                        "learn": [
                          0.2310964009
                        ]
                      },
                      {
                        "passed_time": 12.40539507,
                        "iteration": 672,
                        "remaining_time": 6.027584231,
                        "learn": [
                          0.2309795527
                        ]
                      },
                      {
                        "passed_time": 12.42198583,
                        "iteration": 673,
                        "remaining_time": 6.008260209,
                        "learn": [
                          0.2309146302
                        ]
                      },
                      {
                        "passed_time": 12.4382616,
                        "iteration": 674,
                        "remaining_time": 5.98879262,
                        "learn": [
                          0.2308813315
                        ]
                      },
                      {
                        "passed_time": 12.45823802,
                        "iteration": 675,
                        "remaining_time": 5.971108164,
                        "learn": [
                          0.2308628568
                        ]
                      },
                      {
                        "passed_time": 12.47473114,
                        "iteration": 676,
                        "remaining_time": 5.951755034,
                        "learn": [
                          0.2308453557
                        ]
                      },
                      {
                        "passed_time": 12.49226127,
                        "iteration": 677,
                        "remaining_time": 5.932902846,
                        "learn": [
                          0.2307060205
                        ]
                      },
                      {
                        "passed_time": 12.50898515,
                        "iteration": 678,
                        "remaining_time": 5.913673392,
                        "learn": [
                          0.2305136355
                        ]
                      },
                      {
                        "passed_time": 12.52510436,
                        "iteration": 679,
                        "remaining_time": 5.894166757,
                        "learn": [
                          0.2304552971
                        ]
                      },
                      {
                        "passed_time": 12.54377054,
                        "iteration": 680,
                        "remaining_time": 5.875863145,
                        "learn": [
                          0.2301687967
                        ]
                      },
                      {
                        "passed_time": 12.56277387,
                        "iteration": 681,
                        "remaining_time": 5.857715674,
                        "learn": [
                          0.2300206717
                        ]
                      },
                      {
                        "passed_time": 12.57930242,
                        "iteration": 682,
                        "remaining_time": 5.838417082,
                        "learn": [
                          0.2299717373
                        ]
                      },
                      {
                        "passed_time": 12.596104,
                        "iteration": 683,
                        "remaining_time": 5.819252727,
                        "learn": [
                          0.2297378073
                        ]
                      },
                      {
                        "passed_time": 12.61149292,
                        "iteration": 684,
                        "remaining_time": 5.799445651,
                        "learn": [
                          0.2296291873
                        ]
                      },
                      {
                        "passed_time": 12.6269748,
                        "iteration": 685,
                        "remaining_time": 5.779694005,
                        "learn": [
                          0.2295260853
                        ]
                      },
                      {
                        "passed_time": 12.64313311,
                        "iteration": 686,
                        "remaining_time": 5.760262972,
                        "learn": [
                          0.2294648898
                        ]
                      },
                      {
                        "passed_time": 12.66332796,
                        "iteration": 687,
                        "remaining_time": 5.74267198,
                        "learn": [
                          0.2293958383
                        ]
                      },
                      {
                        "passed_time": 12.68049985,
                        "iteration": 688,
                        "remaining_time": 5.723708931,
                        "learn": [
                          0.2292765466
                        ]
                      },
                      {
                        "passed_time": 12.6964242,
                        "iteration": 689,
                        "remaining_time": 5.704190583,
                        "learn": [
                          0.2292369297
                        ]
                      },
                      {
                        "passed_time": 12.71201444,
                        "iteration": 690,
                        "remaining_time": 5.684533229,
                        "learn": [
                          0.2291131874
                        ]
                      },
                      {
                        "passed_time": 12.72862065,
                        "iteration": 691,
                        "remaining_time": 5.665339828,
                        "learn": [
                          0.2289723741
                        ]
                      },
                      {
                        "passed_time": 12.74513929,
                        "iteration": 692,
                        "remaining_time": 5.646115095,
                        "learn": [
                          0.2288565792
                        ]
                      },
                      {
                        "passed_time": 12.76183805,
                        "iteration": 693,
                        "remaining_time": 5.626977586,
                        "learn": [
                          0.2287816887
                        ]
                      },
                      {
                        "passed_time": 12.77978319,
                        "iteration": 694,
                        "remaining_time": 5.608394062,
                        "learn": [
                          0.228636894
                        ]
                      },
                      {
                        "passed_time": 12.7951972,
                        "iteration": 695,
                        "remaining_time": 5.588706824,
                        "learn": [
                          0.2286315972
                        ]
                      },
                      {
                        "passed_time": 12.81532167,
                        "iteration": 696,
                        "remaining_time": 5.57107958,
                        "learn": [
                          0.2285759491
                        ]
                      },
                      {
                        "passed_time": 12.8326986,
                        "iteration": 697,
                        "remaining_time": 5.552256415,
                        "learn": [
                          0.2284725473
                        ]
                      },
                      {
                        "passed_time": 12.84931478,
                        "iteration": 698,
                        "remaining_time": 5.533109799,
                        "learn": [
                          0.2283728945
                        ]
                      },
                      {
                        "passed_time": 12.87010796,
                        "iteration": 699,
                        "remaining_time": 5.515760555,
                        "learn": [
                          0.2283118806
                        ]
                      },
                      {
                        "passed_time": 12.88672504,
                        "iteration": 700,
                        "remaining_time": 5.496620239,
                        "learn": [
                          0.2282788027
                        ]
                      },
                      {
                        "passed_time": 12.90289238,
                        "iteration": 701,
                        "remaining_time": 5.477296196,
                        "learn": [
                          0.228205879
                        ]
                      },
                      {
                        "passed_time": 12.926788,
                        "iteration": 702,
                        "remaining_time": 5.461246139,
                        "learn": [
                          0.2279928783
                        ]
                      },
                      {
                        "passed_time": 12.95460983,
                        "iteration": 703,
                        "remaining_time": 5.446824588,
                        "learn": [
                          0.2279514312
                        ]
                      },
                      {
                        "passed_time": 12.97221068,
                        "iteration": 704,
                        "remaining_time": 5.428088157,
                        "learn": [
                          0.2277476352
                        ]
                      },
                      {
                        "passed_time": 13.01251078,
                        "iteration": 705,
                        "remaining_time": 5.418807603,
                        "learn": [
                          0.2277033958
                        ]
                      },
                      {
                        "passed_time": 13.0509389,
                        "iteration": 706,
                        "remaining_time": 5.408663506,
                        "learn": [
                          0.2275631717
                        ]
                      },
                      {
                        "passed_time": 13.07195329,
                        "iteration": 707,
                        "remaining_time": 5.39125757,
                        "learn": [
                          0.2274249798
                        ]
                      },
                      {
                        "passed_time": 13.09106921,
                        "iteration": 708,
                        "remaining_time": 5.373062255,
                        "learn": [
                          0.2272948971
                        ]
                      },
                      {
                        "passed_time": 13.1092418,
                        "iteration": 709,
                        "remaining_time": 5.354479045,
                        "learn": [
                          0.2272368505
                        ]
                      },
                      {
                        "passed_time": 13.12707151,
                        "iteration": 710,
                        "remaining_time": 5.33575762,
                        "learn": [
                          0.2270296844
                        ]
                      },
                      {
                        "passed_time": 13.14349686,
                        "iteration": 711,
                        "remaining_time": 5.316470639,
                        "learn": [
                          0.2269542994
                        ]
                      },
                      {
                        "passed_time": 13.16046471,
                        "iteration": 712,
                        "remaining_time": 5.297410059,
                        "learn": [
                          0.2268445217
                        ]
                      },
                      {
                        "passed_time": 13.1778142,
                        "iteration": 713,
                        "remaining_time": 5.278508211,
                        "learn": [
                          0.2267785501
                        ]
                      },
                      {
                        "passed_time": 13.19562799,
                        "iteration": 714,
                        "remaining_time": 5.259795771,
                        "learn": [
                          0.226740991
                        ]
                      },
                      {
                        "passed_time": 13.21333559,
                        "iteration": 715,
                        "remaining_time": 5.241043727,
                        "learn": [
                          0.2267044786
                        ]
                      },
                      {
                        "passed_time": 13.23019175,
                        "iteration": 716,
                        "remaining_time": 5.221958529,
                        "learn": [
                          0.2265842845
                        ]
                      },
                      {
                        "passed_time": 13.24880603,
                        "iteration": 717,
                        "remaining_time": 5.203570055,
                        "learn": [
                          0.2265499125
                        ]
                      },
                      {
                        "passed_time": 13.27490792,
                        "iteration": 718,
                        "remaining_time": 5.18810727,
                        "learn": [
                          0.2264453211
                        ]
                      },
                      {
                        "passed_time": 13.29263323,
                        "iteration": 719,
                        "remaining_time": 5.169357367,
                        "learn": [
                          0.2262085704
                        ]
                      },
                      {
                        "passed_time": 13.30879079,
                        "iteration": 720,
                        "remaining_time": 5.15000365,
                        "learn": [
                          0.2261500443
                        ]
                      },
                      {
                        "passed_time": 13.32601798,
                        "iteration": 721,
                        "remaining_time": 5.131070635,
                        "learn": [
                          0.2260326903
                        ]
                      },
                      {
                        "passed_time": 13.34377169,
                        "iteration": 722,
                        "remaining_time": 5.112344065,
                        "learn": [
                          0.2260112937
                        ]
                      },
                      {
                        "passed_time": 13.36065517,
                        "iteration": 723,
                        "remaining_time": 5.093288435,
                        "learn": [
                          0.2259692435
                        ]
                      },
                      {
                        "passed_time": 13.37747,
                        "iteration": 724,
                        "remaining_time": 5.07421276,
                        "learn": [
                          0.2259392683
                        ]
                      },
                      {
                        "passed_time": 13.39472469,
                        "iteration": 725,
                        "remaining_time": 5.055309317,
                        "learn": [
                          0.2258065944
                        ]
                      },
                      {
                        "passed_time": 13.41117251,
                        "iteration": 726,
                        "remaining_time": 5.036107422,
                        "learn": [
                          0.2256671021
                        ]
                      },
                      {
                        "passed_time": 13.42827513,
                        "iteration": 727,
                        "remaining_time": 5.01715774,
                        "learn": [
                          0.2254848872
                        ]
                      },
                      {
                        "passed_time": 13.44418227,
                        "iteration": 728,
                        "remaining_time": 4.997768716,
                        "learn": [
                          0.2254391228
                        ]
                      },
                      {
                        "passed_time": 13.46204706,
                        "iteration": 729,
                        "remaining_time": 4.979113297,
                        "learn": [
                          0.2251780149
                        ]
                      },
                      {
                        "passed_time": 13.48300593,
                        "iteration": 730,
                        "remaining_time": 4.961598624,
                        "learn": [
                          0.2251000654
                        ]
                      },
                      {
                        "passed_time": 13.49941209,
                        "iteration": 731,
                        "remaining_time": 4.942407704,
                        "learn": [
                          0.2250701073
                        ]
                      },
                      {
                        "passed_time": 13.51652178,
                        "iteration": 732,
                        "remaining_time": 4.923480649,
                        "learn": [
                          0.2249739845
                        ]
                      },
                      {
                        "passed_time": 13.5328353,
                        "iteration": 733,
                        "remaining_time": 4.904270013,
                        "learn": [
                          0.2248639422
                        ]
                      },
                      {
                        "passed_time": 13.551952,
                        "iteration": 734,
                        "remaining_time": 4.886077933,
                        "learn": [
                          0.2245841844
                        ]
                      },
                      {
                        "passed_time": 13.57107292,
                        "iteration": 735,
                        "remaining_time": 4.867884853,
                        "learn": [
                          0.224488761
                        ]
                      },
                      {
                        "passed_time": 13.58676143,
                        "iteration": 736,
                        "remaining_time": 4.84846439,
                        "learn": [
                          0.2244089574
                        ]
                      },
                      {
                        "passed_time": 13.60357491,
                        "iteration": 737,
                        "remaining_time": 4.829453424,
                        "learn": [
                          0.2243377874
                        ]
                      },
                      {
                        "passed_time": 13.62035293,
                        "iteration": 738,
                        "remaining_time": 4.810435879,
                        "learn": [
                          0.2242717852
                        ]
                      },
                      {
                        "passed_time": 13.63698797,
                        "iteration": 739,
                        "remaining_time": 4.791374151,
                        "learn": [
                          0.2242038666
                        ]
                      },
                      {
                        "passed_time": 13.65390073,
                        "iteration": 740,
                        "remaining_time": 4.772416046,
                        "learn": [
                          0.2241374075
                        ]
                      },
                      {
                        "passed_time": 13.67178877,
                        "iteration": 741,
                        "remaining_time": 4.753802564,
                        "learn": [
                          0.224075817
                        ]
                      },
                      {
                        "passed_time": 13.69294643,
                        "iteration": 742,
                        "remaining_time": 4.736321982,
                        "learn": [
                          0.2239988628
                        ]
                      },
                      {
                        "passed_time": 13.70117185,
                        "iteration": 743,
                        "remaining_time": 4.71438171,
                        "learn": [
                          0.2239924521
                        ]
                      },
                      {
                        "passed_time": 13.71818468,
                        "iteration": 744,
                        "remaining_time": 4.695486032,
                        "learn": [
                          0.2238079749
                        ]
                      },
                      {
                        "passed_time": 13.73374936,
                        "iteration": 745,
                        "remaining_time": 4.676102328,
                        "learn": [
                          0.223710862
                        ]
                      },
                      {
                        "passed_time": 13.75070776,
                        "iteration": 746,
                        "remaining_time": 4.657200889,
                        "learn": [
                          0.223605215
                        ]
                      },
                      {
                        "passed_time": 13.76741666,
                        "iteration": 747,
                        "remaining_time": 4.638220585,
                        "learn": [
                          0.2235561063
                        ]
                      },
                      {
                        "passed_time": 13.78632647,
                        "iteration": 748,
                        "remaining_time": 4.619983903,
                        "learn": [
                          0.2234746213
                        ]
                      },
                      {
                        "passed_time": 13.8037483,
                        "iteration": 749,
                        "remaining_time": 4.601249435,
                        "learn": [
                          0.2233531507
                        ]
                      },
                      {
                        "passed_time": 13.82117349,
                        "iteration": 750,
                        "remaining_time": 4.582519571,
                        "learn": [
                          0.223134357
                        ]
                      },
                      {
                        "passed_time": 13.84074148,
                        "iteration": 751,
                        "remaining_time": 4.564499849,
                        "learn": [
                          0.2229661322
                        ]
                      },
                      {
                        "passed_time": 13.85730779,
                        "iteration": 752,
                        "remaining_time": 4.5454914,
                        "learn": [
                          0.2228893937
                        ]
                      },
                      {
                        "passed_time": 13.87466942,
                        "iteration": 753,
                        "remaining_time": 4.526748908,
                        "learn": [
                          0.2227421953
                        ]
                      },
                      {
                        "passed_time": 13.89412707,
                        "iteration": 754,
                        "remaining_time": 4.508690241,
                        "learn": [
                          0.2224775631
                        ]
                      },
                      {
                        "passed_time": 13.91846811,
                        "iteration": 755,
                        "remaining_time": 4.492203994,
                        "learn": [
                          0.2224371622
                        ]
                      },
                      {
                        "passed_time": 13.93703225,
                        "iteration": 756,
                        "remaining_time": 4.473842586,
                        "learn": [
                          0.2222774525
                        ]
                      },
                      {
                        "passed_time": 13.9545276,
                        "iteration": 757,
                        "remaining_time": 4.455139419,
                        "learn": [
                          0.2221895851
                        ]
                      },
                      {
                        "passed_time": 13.97248378,
                        "iteration": 758,
                        "remaining_time": 4.436585757,
                        "learn": [
                          0.2219219329
                        ]
                      },
                      {
                        "passed_time": 14.01521146,
                        "iteration": 759,
                        "remaining_time": 4.42585625,
                        "learn": [
                          0.2218243764
                        ]
                      },
                      {
                        "passed_time": 14.05383688,
                        "iteration": 760,
                        "remaining_time": 4.413754289,
                        "learn": [
                          0.2216684757
                        ]
                      },
                      {
                        "passed_time": 14.07710772,
                        "iteration": 761,
                        "remaining_time": 4.396786925,
                        "learn": [
                          0.221525635
                        ]
                      },
                      {
                        "passed_time": 14.09620805,
                        "iteration": 762,
                        "remaining_time": 4.378507613,
                        "learn": [
                          0.2214817455
                        ]
                      },
                      {
                        "passed_time": 14.11908775,
                        "iteration": 763,
                        "remaining_time": 4.361393598,
                        "learn": [
                          0.2214310974
                        ]
                      },
                      {
                        "passed_time": 14.13635645,
                        "iteration": 764,
                        "remaining_time": 4.342540869,
                        "learn": [
                          0.2212349036
                        ]
                      },
                      {
                        "passed_time": 14.15410581,
                        "iteration": 765,
                        "remaining_time": 4.323839111,
                        "learn": [
                          0.221164877
                        ]
                      },
                      {
                        "passed_time": 14.17118594,
                        "iteration": 766,
                        "remaining_time": 4.304936536,
                        "learn": [
                          0.2210502137
                        ]
                      },
                      {
                        "passed_time": 14.18752111,
                        "iteration": 767,
                        "remaining_time": 4.28581367,
                        "learn": [
                          0.2209305709
                        ]
                      },
                      {
                        "passed_time": 14.20468009,
                        "iteration": 768,
                        "remaining_time": 4.266945515,
                        "learn": [
                          0.2209028056
                        ]
                      },
                      {
                        "passed_time": 14.22243281,
                        "iteration": 769,
                        "remaining_time": 4.248259152,
                        "learn": [
                          0.220850513
                        ]
                      },
                      {
                        "passed_time": 14.24298722,
                        "iteration": 770,
                        "remaining_time": 4.230407358,
                        "learn": [
                          0.220783322
                        ]
                      },
                      {
                        "passed_time": 14.25981682,
                        "iteration": 771,
                        "remaining_time": 4.211448491,
                        "learn": [
                          0.2207026163
                        ]
                      },
                      {
                        "passed_time": 14.28837276,
                        "iteration": 772,
                        "remaining_time": 4.195938701,
                        "learn": [
                          0.2205875859
                        ]
                      },
                      {
                        "passed_time": 14.31193564,
                        "iteration": 773,
                        "remaining_time": 4.178937281,
                        "learn": [
                          0.2203672771
                        ]
                      },
                      {
                        "passed_time": 14.32968011,
                        "iteration": 774,
                        "remaining_time": 4.160229708,
                        "learn": [
                          0.2203001927
                        ]
                      },
                      {
                        "passed_time": 14.34735009,
                        "iteration": 775,
                        "remaining_time": 4.141503118,
                        "learn": [
                          0.2200612987
                        ]
                      },
                      {
                        "passed_time": 14.36484113,
                        "iteration": 776,
                        "remaining_time": 4.122727891,
                        "learn": [
                          0.2199647992
                        ]
                      },
                      {
                        "passed_time": 14.38224687,
                        "iteration": 777,
                        "remaining_time": 4.103931626,
                        "learn": [
                          0.2199066943
                        ]
                      },
                      {
                        "passed_time": 14.39866529,
                        "iteration": 778,
                        "remaining_time": 4.08485883,
                        "learn": [
                          0.2198963217
                        ]
                      },
                      {
                        "passed_time": 14.41593591,
                        "iteration": 779,
                        "remaining_time": 4.066033205,
                        "learn": [
                          0.2197896983
                        ]
                      },
                      {
                        "passed_time": 14.43245432,
                        "iteration": 780,
                        "remaining_time": 4.047000636,
                        "learn": [
                          0.2197634513
                        ]
                      },
                      {
                        "passed_time": 14.44764314,
                        "iteration": 781,
                        "remaining_time": 4.027603843,
                        "learn": [
                          0.2197523351
                        ]
                      },
                      {
                        "passed_time": 14.46503384,
                        "iteration": 782,
                        "remaining_time": 4.008828025,
                        "learn": [
                          0.219620497
                        ]
                      },
                      {
                        "passed_time": 14.48161386,
                        "iteration": 783,
                        "remaining_time": 3.989832389,
                        "learn": [
                          0.2195395208
                        ]
                      },
                      {
                        "passed_time": 14.49873067,
                        "iteration": 784,
                        "remaining_time": 3.97098993,
                        "learn": [
                          0.2194960499
                        ]
                      },
                      {
                        "passed_time": 14.52047071,
                        "iteration": 785,
                        "remaining_time": 3.9534106,
                        "learn": [
                          0.2193460263
                        ]
                      },
                      {
                        "passed_time": 14.53729195,
                        "iteration": 786,
                        "remaining_time": 3.934489436,
                        "learn": [
                          0.2192695289
                        ]
                      },
                      {
                        "passed_time": 14.54575296,
                        "iteration": 787,
                        "remaining_time": 3.913324401,
                        "learn": [
                          0.2192631685
                        ]
                      },
                      {
                        "passed_time": 14.56292183,
                        "iteration": 788,
                        "remaining_time": 3.894520287,
                        "learn": [
                          0.2191789557
                        ]
                      },
                      {
                        "passed_time": 14.58011429,
                        "iteration": 789,
                        "remaining_time": 3.875726584,
                        "learn": [
                          0.2191298301
                        ]
                      },
                      {
                        "passed_time": 14.59753361,
                        "iteration": 790,
                        "remaining_time": 3.85699687,
                        "learn": [
                          0.2190685601
                        ]
                      },
                      {
                        "passed_time": 14.61434862,
                        "iteration": 791,
                        "remaining_time": 3.838111758,
                        "learn": [
                          0.2189092233
                        ]
                      },
                      {
                        "passed_time": 14.63169321,
                        "iteration": 792,
                        "remaining_time": 3.819370107,
                        "learn": [
                          0.2188007324
                        ]
                      },
                      {
                        "passed_time": 14.65385844,
                        "iteration": 793,
                        "remaining_time": 3.801882667,
                        "learn": [
                          0.218626474
                        ]
                      },
                      {
                        "passed_time": 14.67070615,
                        "iteration": 794,
                        "remaining_time": 3.783012276,
                        "learn": [
                          0.2184873962
                        ]
                      },
                      {
                        "passed_time": 14.68786843,
                        "iteration": 795,
                        "remaining_time": 3.764227587,
                        "learn": [
                          0.2184127583
                        ]
                      },
                      {
                        "passed_time": 14.70517862,
                        "iteration": 796,
                        "remaining_time": 3.745484642,
                        "learn": [
                          0.2182132884
                        ]
                      },
                      {
                        "passed_time": 14.7249552,
                        "iteration": 797,
                        "remaining_time": 3.727369613,
                        "learn": [
                          0.2181188963
                        ]
                      },
                      {
                        "passed_time": 14.74224475,
                        "iteration": 798,
                        "remaining_time": 3.708624775,
                        "learn": [
                          0.2180185023
                        ]
                      },
                      {
                        "passed_time": 14.76020278,
                        "iteration": 799,
                        "remaining_time": 3.690050695,
                        "learn": [
                          0.2179401824
                        ]
                      },
                      {
                        "passed_time": 14.77718495,
                        "iteration": 800,
                        "remaining_time": 3.671235713,
                        "learn": [
                          0.2177871254
                        ]
                      },
                      {
                        "passed_time": 14.79352974,
                        "iteration": 801,
                        "remaining_time": 3.652267941,
                        "learn": [
                          0.2177124828
                        ]
                      },
                      {
                        "passed_time": 14.81107956,
                        "iteration": 802,
                        "remaining_time": 3.633602334,
                        "learn": [
                          0.2175273749
                        ]
                      },
                      {
                        "passed_time": 14.83026229,
                        "iteration": 803,
                        "remaining_time": 3.615337573,
                        "learn": [
                          0.2174045749
                        ]
                      },
                      {
                        "passed_time": 14.84935428,
                        "iteration": 804,
                        "remaining_time": 3.597048551,
                        "learn": [
                          0.2172768781
                        ]
                      },
                      {
                        "passed_time": 14.86525721,
                        "iteration": 805,
                        "remaining_time": 3.57798995,
                        "learn": [
                          0.2172664993
                        ]
                      },
                      {
                        "passed_time": 14.88608992,
                        "iteration": 806,
                        "remaining_time": 3.560118159,
                        "learn": [
                          0.2172040533
                        ]
                      },
                      {
                        "passed_time": 14.90483297,
                        "iteration": 807,
                        "remaining_time": 3.541742487,
                        "learn": [
                          0.2170373026
                        ]
                      },
                      {
                        "passed_time": 14.93417201,
                        "iteration": 808,
                        "remaining_time": 3.525867557,
                        "learn": [
                          0.2169823916
                        ]
                      },
                      {
                        "passed_time": 14.95128238,
                        "iteration": 809,
                        "remaining_time": 3.507090929,
                        "learn": [
                          0.2168777393
                        ]
                      },
                      {
                        "passed_time": 14.96839062,
                        "iteration": 810,
                        "remaining_time": 3.488317913,
                        "learn": [
                          0.2168416402
                        ]
                      },
                      {
                        "passed_time": 14.98497366,
                        "iteration": 811,
                        "remaining_time": 3.4694274,
                        "learn": [
                          0.216792105
                        ]
                      },
                      {
                        "passed_time": 15.00177883,
                        "iteration": 812,
                        "remaining_time": 3.450593653,
                        "learn": [
                          0.2166504222
                        ]
                      },
                      {
                        "passed_time": 15.05300278,
                        "iteration": 813,
                        "remaining_time": 3.439629628,
                        "learn": [
                          0.2165482607
                        ]
                      },
                      {
                        "passed_time": 15.08836277,
                        "iteration": 814,
                        "remaining_time": 3.424965783,
                        "learn": [
                          0.2164952983
                        ]
                      },
                      {
                        "passed_time": 15.11243316,
                        "iteration": 815,
                        "remaining_time": 3.407705517,
                        "learn": [
                          0.2163913871
                        ]
                      },
                      {
                        "passed_time": 15.13090568,
                        "iteration": 816,
                        "remaining_time": 3.389174712,
                        "learn": [
                          0.2162119411
                        ]
                      },
                      {
                        "passed_time": 15.15263123,
                        "iteration": 817,
                        "remaining_time": 3.371367829,
                        "learn": [
                          0.2161600429
                        ]
                      },
                      {
                        "passed_time": 15.17012613,
                        "iteration": 818,
                        "remaining_time": 3.352616397,
                        "learn": [
                          0.2160683375
                        ]
                      },
                      {
                        "passed_time": 15.18797736,
                        "iteration": 819,
                        "remaining_time": 3.333946249,
                        "learn": [
                          0.2159152655
                        ]
                      },
                      {
                        "passed_time": 15.20553484,
                        "iteration": 820,
                        "remaining_time": 3.315214051,
                        "learn": [
                          0.2158470963
                        ]
                      },
                      {
                        "passed_time": 15.2248861,
                        "iteration": 821,
                        "remaining_time": 3.296873146,
                        "learn": [
                          0.2158064511
                        ]
                      },
                      {
                        "passed_time": 15.24280326,
                        "iteration": 822,
                        "remaining_time": 3.278221356,
                        "learn": [
                          0.2157386534
                        ]
                      },
                      {
                        "passed_time": 15.26054346,
                        "iteration": 823,
                        "remaining_time": 3.259533555,
                        "learn": [
                          0.2155535963
                        ]
                      },
                      {
                        "passed_time": 15.27693125,
                        "iteration": 824,
                        "remaining_time": 3.240561174,
                        "learn": [
                          0.215500139
                        ]
                      },
                      {
                        "passed_time": 15.29316214,
                        "iteration": 825,
                        "remaining_time": 3.221562,
                        "learn": [
                          0.2154000789
                        ]
                      },
                      {
                        "passed_time": 15.31171254,
                        "iteration": 826,
                        "remaining_time": 3.203054739,
                        "learn": [
                          0.2153589917
                        ]
                      },
                      {
                        "passed_time": 15.32887437,
                        "iteration": 827,
                        "remaining_time": 3.184258928,
                        "learn": [
                          0.2153226055
                        ]
                      },
                      {
                        "passed_time": 15.34674007,
                        "iteration": 828,
                        "remaining_time": 3.165612245,
                        "learn": [
                          0.2151875243
                        ]
                      },
                      {
                        "passed_time": 15.36929421,
                        "iteration": 829,
                        "remaining_time": 3.147927729,
                        "learn": [
                          0.2150908761
                        ]
                      },
                      {
                        "passed_time": 15.38591517,
                        "iteration": 830,
                        "remaining_time": 3.129024865,
                        "learn": [
                          0.2150153771
                        ]
                      },
                      {
                        "passed_time": 15.40359137,
                        "iteration": 831,
                        "remaining_time": 3.110340565,
                        "learn": [
                          0.21498563
                        ]
                      },
                      {
                        "passed_time": 15.42062301,
                        "iteration": 832,
                        "remaining_time": 3.091529462,
                        "learn": [
                          0.2147808171
                        ]
                      },
                      {
                        "passed_time": 15.43676247,
                        "iteration": 833,
                        "remaining_time": 3.072545049,
                        "learn": [
                          0.2147183615
                        ]
                      },
                      {
                        "passed_time": 15.45207112,
                        "iteration": 834,
                        "remaining_time": 3.053403274,
                        "learn": [
                          0.214713993
                        ]
                      },
                      {
                        "passed_time": 15.46959844,
                        "iteration": 835,
                        "remaining_time": 3.034705915,
                        "learn": [
                          0.2146052914
                        ]
                      },
                      {
                        "passed_time": 15.48593806,
                        "iteration": 836,
                        "remaining_time": 3.015780053,
                        "learn": [
                          0.2144657283
                        ]
                      },
                      {
                        "passed_time": 15.50316625,
                        "iteration": 837,
                        "remaining_time": 2.997032139,
                        "learn": [
                          0.2142281586
                        ]
                      },
                      {
                        "passed_time": 15.52281789,
                        "iteration": 838,
                        "remaining_time": 2.978752897,
                        "learn": [
                          0.2141763488
                        ]
                      },
                      {
                        "passed_time": 15.54098147,
                        "iteration": 839,
                        "remaining_time": 2.960186946,
                        "learn": [
                          0.2140896698
                        ]
                      },
                      {
                        "passed_time": 15.55761435,
                        "iteration": 840,
                        "remaining_time": 2.941332559,
                        "learn": [
                          0.2140387661
                        ]
                      },
                      {
                        "passed_time": 15.57935034,
                        "iteration": 841,
                        "remaining_time": 2.923441038,
                        "learn": [
                          0.2139504305
                        ]
                      },
                      {
                        "passed_time": 15.59725388,
                        "iteration": 842,
                        "remaining_time": 2.904826642,
                        "learn": [
                          0.2137897274
                        ]
                      },
                      {
                        "passed_time": 15.61481332,
                        "iteration": 843,
                        "remaining_time": 2.886150329,
                        "learn": [
                          0.2135900351
                        ]
                      },
                      {
                        "passed_time": 15.63230686,
                        "iteration": 844,
                        "remaining_time": 2.867464573,
                        "learn": [
                          0.2134065278
                        ]
                      },
                      {
                        "passed_time": 15.65030528,
                        "iteration": 845,
                        "remaining_time": 2.848873537,
                        "learn": [
                          0.2132276911
                        ]
                      },
                      {
                        "passed_time": 15.66678549,
                        "iteration": 846,
                        "remaining_time": 2.830009658,
                        "learn": [
                          0.2131619995
                        ]
                      },
                      {
                        "passed_time": 15.68346642,
                        "iteration": 847,
                        "remaining_time": 2.811187377,
                        "learn": [
                          0.2130735522
                        ]
                      },
                      {
                        "passed_time": 15.70071332,
                        "iteration": 848,
                        "remaining_time": 2.792470802,
                        "learn": [
                          0.2130101441
                        ]
                      },
                      {
                        "passed_time": 15.71771999,
                        "iteration": 849,
                        "remaining_time": 2.773715292,
                        "learn": [
                          0.2128674336
                        ]
                      },
                      {
                        "passed_time": 15.73562638,
                        "iteration": 850,
                        "remaining_time": 2.755121422,
                        "learn": [
                          0.2127848486
                        ]
                      },
                      {
                        "passed_time": 15.75612927,
                        "iteration": 851,
                        "remaining_time": 2.736980202,
                        "learn": [
                          0.2126934708
                        ]
                      },
                      {
                        "passed_time": 15.77333291,
                        "iteration": 852,
                        "remaining_time": 2.718264875,
                        "learn": [
                          0.2126638229
                        ]
                      },
                      {
                        "passed_time": 15.79604044,
                        "iteration": 853,
                        "remaining_time": 2.700494032,
                        "learn": [
                          0.2125610659
                        ]
                      },
                      {
                        "passed_time": 15.81400071,
                        "iteration": 854,
                        "remaining_time": 2.681906553,
                        "learn": [
                          0.2123799213
                        ]
                      },
                      {
                        "passed_time": 15.83302112,
                        "iteration": 855,
                        "remaining_time": 2.663498881,
                        "learn": [
                          0.2122938054
                        ]
                      },
                      {
                        "passed_time": 15.85009111,
                        "iteration": 856,
                        "remaining_time": 2.644764327,
                        "learn": [
                          0.2122183952
                        ]
                      },
                      {
                        "passed_time": 15.86885331,
                        "iteration": 857,
                        "remaining_time": 2.626313719,
                        "learn": [
                          0.2121649358
                        ]
                      },
                      {
                        "passed_time": 15.88670242,
                        "iteration": 858,
                        "remaining_time": 2.607712504,
                        "learn": [
                          0.2120158788
                        ]
                      },
                      {
                        "passed_time": 15.90751125,
                        "iteration": 859,
                        "remaining_time": 2.589594855,
                        "learn": [
                          0.2119038775
                        ]
                      },
                      {
                        "passed_time": 15.92712588,
                        "iteration": 860,
                        "remaining_time": 2.571278161,
                        "learn": [
                          0.2118700627
                        ]
                      },
                      {
                        "passed_time": 15.9432895,
                        "iteration": 861,
                        "remaining_time": 2.552405976,
                        "learn": [
                          0.2118095162
                        ]
                      },
                      {
                        "passed_time": 15.95943651,
                        "iteration": 862,
                        "remaining_time": 2.533537429,
                        "learn": [
                          0.2117644646
                        ]
                      },
                      {
                        "passed_time": 15.97773511,
                        "iteration": 863,
                        "remaining_time": 2.515013859,
                        "learn": [
                          0.2116312136
                        ]
                      },
                      {
                        "passed_time": 16.00453583,
                        "iteration": 864,
                        "remaining_time": 2.497817731,
                        "learn": [
                          0.211520685
                        ]
                      },
                      {
                        "passed_time": 16.0221114,
                        "iteration": 865,
                        "remaining_time": 2.479171971,
                        "learn": [
                          0.211446514
                        ]
                      },
                      {
                        "passed_time": 16.06856868,
                        "iteration": 866,
                        "remaining_time": 2.46495921,
                        "learn": [
                          0.2112891335
                        ]
                      },
                      {
                        "passed_time": 16.09270895,
                        "iteration": 867,
                        "remaining_time": 2.447278319,
                        "learn": [
                          0.2111487753
                        ]
                      },
                      {
                        "passed_time": 16.12909438,
                        "iteration": 868,
                        "remaining_time": 2.431428497,
                        "learn": [
                          0.2110146566
                        ]
                      },
                      {
                        "passed_time": 16.14697428,
                        "iteration": 869,
                        "remaining_time": 2.412766271,
                        "learn": [
                          0.2109607602
                        ]
                      },
                      {
                        "passed_time": 16.16513224,
                        "iteration": 870,
                        "remaining_time": 2.394147025,
                        "learn": [
                          0.2107071653
                        ]
                      },
                      {
                        "passed_time": 16.18391296,
                        "iteration": 871,
                        "remaining_time": 2.375620251,
                        "learn": [
                          0.2105802231
                        ]
                      },
                      {
                        "passed_time": 16.21210066,
                        "iteration": 872,
                        "remaining_time": 2.358461379,
                        "learn": [
                          0.2105350024
                        ]
                      },
                      {
                        "passed_time": 16.23060914,
                        "iteration": 873,
                        "remaining_time": 2.339881867,
                        "learn": [
                          0.2104595858
                        ]
                      },
                      {
                        "passed_time": 16.24833697,
                        "iteration": 874,
                        "remaining_time": 2.321190996,
                        "learn": [
                          0.2102677534
                        ]
                      },
                      {
                        "passed_time": 16.26692545,
                        "iteration": 875,
                        "remaining_time": 2.30262415,
                        "learn": [
                          0.2101274676
                        ]
                      },
                      {
                        "passed_time": 16.28587011,
                        "iteration": 876,
                        "remaining_time": 2.284107211,
                        "learn": [
                          0.2099888166
                        ]
                      },
                      {
                        "passed_time": 16.30250452,
                        "iteration": 877,
                        "remaining_time": 2.265268282,
                        "learn": [
                          0.2099143989
                        ]
                      },
                      {
                        "passed_time": 16.31966625,
                        "iteration": 878,
                        "remaining_time": 2.246506959,
                        "learn": [
                          0.2098213268
                        ]
                      },
                      {
                        "passed_time": 16.33662069,
                        "iteration": 879,
                        "remaining_time": 2.227721004,
                        "learn": [
                          0.2096811278
                        ]
                      },
                      {
                        "passed_time": 16.35297089,
                        "iteration": 880,
                        "remaining_time": 2.208857589,
                        "learn": [
                          0.2096717568
                        ]
                      },
                      {
                        "passed_time": 16.37057559,
                        "iteration": 881,
                        "remaining_time": 2.19016771,
                        "learn": [
                          0.2094811975
                        ]
                      },
                      {
                        "passed_time": 16.38878062,
                        "iteration": 882,
                        "remaining_time": 2.171559833,
                        "learn": [
                          0.2092836679
                        ]
                      },
                      {
                        "passed_time": 16.40661686,
                        "iteration": 883,
                        "remaining_time": 2.152904475,
                        "learn": [
                          0.2091953227
                        ]
                      },
                      {
                        "passed_time": 16.4274587,
                        "iteration": 884,
                        "remaining_time": 2.134641525,
                        "learn": [
                          0.2090779623
                        ]
                      },
                      {
                        "passed_time": 16.44417416,
                        "iteration": 885,
                        "remaining_time": 2.115841822,
                        "learn": [
                          0.2090372586
                        ]
                      },
                      {
                        "passed_time": 16.46076504,
                        "iteration": 886,
                        "remaining_time": 2.097030947,
                        "learn": [
                          0.2089256297
                        ]
                      },
                      {
                        "passed_time": 16.47809261,
                        "iteration": 887,
                        "remaining_time": 2.078317987,
                        "learn": [
                          0.2088380197
                        ]
                      },
                      {
                        "passed_time": 16.49423725,
                        "iteration": 888,
                        "remaining_time": 2.059460444,
                        "learn": [
                          0.208833561
                        ]
                      },
                      {
                        "passed_time": 16.51234121,
                        "iteration": 889,
                        "remaining_time": 2.04085116,
                        "learn": [
                          0.2086670034
                        ]
                      },
                      {
                        "passed_time": 16.53094466,
                        "iteration": 890,
                        "remaining_time": 2.022304116,
                        "learn": [
                          0.2085270277
                        ]
                      },
                      {
                        "passed_time": 16.54789351,
                        "iteration": 891,
                        "remaining_time": 2.003556614,
                        "learn": [
                          0.2084507855
                        ]
                      },
                      {
                        "passed_time": 16.56493959,
                        "iteration": 892,
                        "remaining_time": 1.984824789,
                        "learn": [
                          0.2083211538
                        ]
                      },
                      {
                        "passed_time": 16.58278388,
                        "iteration": 893,
                        "remaining_time": 1.966191377,
                        "learn": [
                          0.2081971373
                        ]
                      },
                      {
                        "passed_time": 16.59973487,
                        "iteration": 894,
                        "remaining_time": 1.947454928,
                        "learn": [
                          0.2081019627
                        ]
                      },
                      {
                        "passed_time": 16.6161057,
                        "iteration": 895,
                        "remaining_time": 1.928655125,
                        "learn": [
                          0.2080364959
                        ]
                      },
                      {
                        "passed_time": 16.64176656,
                        "iteration": 896,
                        "remaining_time": 1.910927487,
                        "learn": [
                          0.2079188651
                        ]
                      },
                      {
                        "passed_time": 16.65913272,
                        "iteration": 897,
                        "remaining_time": 1.892240019,
                        "learn": [
                          0.207877888
                        ]
                      },
                      {
                        "passed_time": 16.67495275,
                        "iteration": 898,
                        "remaining_time": 1.873381788,
                        "learn": [
                          0.2077775055
                        ]
                      },
                      {
                        "passed_time": 16.69262689,
                        "iteration": 899,
                        "remaining_time": 1.854736321,
                        "learn": [
                          0.2076131317
                        ]
                      },
                      {
                        "passed_time": 16.70949264,
                        "iteration": 900,
                        "remaining_time": 1.836004185,
                        "learn": [
                          0.2074935569
                        ]
                      },
                      {
                        "passed_time": 16.72582726,
                        "iteration": 901,
                        "remaining_time": 1.817218482,
                        "learn": [
                          0.2074193602
                        ]
                      },
                      {
                        "passed_time": 16.74196102,
                        "iteration": 902,
                        "remaining_time": 1.798416632,
                        "learn": [
                          0.2073922217
                        ]
                      },
                      {
                        "passed_time": 16.75975368,
                        "iteration": 903,
                        "remaining_time": 1.779796851,
                        "learn": [
                          0.2073435474
                        ]
                      },
                      {
                        "passed_time": 16.77704537,
                        "iteration": 904,
                        "remaining_time": 1.761126309,
                        "learn": [
                          0.2072810379
                        ]
                      },
                      {
                        "passed_time": 16.79619395,
                        "iteration": 905,
                        "remaining_time": 1.74265147,
                        "learn": [
                          0.2071629022
                        ]
                      },
                      {
                        "passed_time": 16.81391384,
                        "iteration": 906,
                        "remaining_time": 1.724028651,
                        "learn": [
                          0.2071202278
                        ]
                      },
                      {
                        "passed_time": 16.83100119,
                        "iteration": 907,
                        "remaining_time": 1.705343733,
                        "learn": [
                          0.207042894
                        ]
                      },
                      {
                        "passed_time": 16.85245408,
                        "iteration": 908,
                        "remaining_time": 1.687099363,
                        "learn": [
                          0.2070096104
                        ]
                      },
                      {
                        "passed_time": 16.872668,
                        "iteration": 909,
                        "remaining_time": 1.668725407,
                        "learn": [
                          0.2069783986
                        ]
                      },
                      {
                        "passed_time": 16.88975948,
                        "iteration": 910,
                        "remaining_time": 1.650042364,
                        "learn": [
                          0.2069026982
                        ]
                      },
                      {
                        "passed_time": 16.91489428,
                        "iteration": 911,
                        "remaining_time": 1.632138922,
                        "learn": [
                          0.2068374561
                        ]
                      },
                      {
                        "passed_time": 16.93331039,
                        "iteration": 912,
                        "remaining_time": 1.613579413,
                        "learn": [
                          0.2066830821
                        ]
                      },
                      {
                        "passed_time": 16.95105701,
                        "iteration": 913,
                        "remaining_time": 1.594957224,
                        "learn": [
                          0.2065819713
                        ]
                      },
                      {
                        "passed_time": 16.96750995,
                        "iteration": 914,
                        "remaining_time": 1.576216771,
                        "learn": [
                          0.2065229089
                        ]
                      },
                      {
                        "passed_time": 16.98401392,
                        "iteration": 915,
                        "remaining_time": 1.557485992,
                        "learn": [
                          0.206404124
                        ]
                      },
                      {
                        "passed_time": 17.0009178,
                        "iteration": 916,
                        "remaining_time": 1.538796267,
                        "learn": [
                          0.2063350039
                        ]
                      },
                      {
                        "passed_time": 17.01832121,
                        "iteration": 917,
                        "remaining_time": 1.520155054,
                        "learn": [
                          0.2062898194
                        ]
                      },
                      {
                        "passed_time": 17.03633975,
                        "iteration": 918,
                        "remaining_time": 1.501570751,
                        "learn": [
                          0.2061706824
                        ]
                      },
                      {
                        "passed_time": 17.0901052,
                        "iteration": 919,
                        "remaining_time": 1.486096104,
                        "learn": [
                          0.2061421308
                        ]
                      },
                      {
                        "passed_time": 17.1248974,
                        "iteration": 920,
                        "remaining_time": 1.468910852,
                        "learn": [
                          0.2061373485
                        ]
                      },
                      {
                        "passed_time": 17.14559984,
                        "iteration": 921,
                        "remaining_time": 1.450495431,
                        "learn": [
                          0.2060816834
                        ]
                      },
                      {
                        "passed_time": 17.16289235,
                        "iteration": 922,
                        "remaining_time": 1.431790586,
                        "learn": [
                          0.2060072266
                        ]
                      },
                      {
                        "passed_time": 17.18279176,
                        "iteration": 923,
                        "remaining_time": 1.413303218,
                        "learn": [
                          0.205827253
                        ]
                      },
                      {
                        "passed_time": 17.20075028,
                        "iteration": 924,
                        "remaining_time": 1.394655428,
                        "learn": [
                          0.2057309065
                        ]
                      },
                      {
                        "passed_time": 17.21924469,
                        "iteration": 925,
                        "remaining_time": 1.376051952,
                        "learn": [
                          0.2057065993
                        ]
                      },
                      {
                        "passed_time": 17.23691585,
                        "iteration": 926,
                        "remaining_time": 1.35738388,
                        "learn": [
                          0.2056275643
                        ]
                      },
                      {
                        "passed_time": 17.25412588,
                        "iteration": 927,
                        "remaining_time": 1.33868218,
                        "learn": [
                          0.2056042746
                        ]
                      },
                      {
                        "passed_time": 17.27210522,
                        "iteration": 928,
                        "remaining_time": 1.320042487,
                        "learn": [
                          0.2054939942
                        ]
                      },
                      {
                        "passed_time": 17.29487357,
                        "iteration": 929,
                        "remaining_time": 1.301764677,
                        "learn": [
                          0.2054390827
                        ]
                      },
                      {
                        "passed_time": 17.31224883,
                        "iteration": 930,
                        "remaining_time": 1.283077518,
                        "learn": [
                          0.2053669226
                        ]
                      },
                      {
                        "passed_time": 17.33437786,
                        "iteration": 931,
                        "remaining_time": 1.264740016,
                        "learn": [
                          0.2052373195
                        ]
                      },
                      {
                        "passed_time": 17.35092651,
                        "iteration": 932,
                        "remaining_time": 1.245993651,
                        "learn": [
                          0.2051552712
                        ]
                      },
                      {
                        "passed_time": 17.36856671,
                        "iteration": 933,
                        "remaining_time": 1.227329125,
                        "learn": [
                          0.205078941
                        ]
                      },
                      {
                        "passed_time": 17.38615114,
                        "iteration": 934,
                        "remaining_time": 1.208662913,
                        "learn": [
                          0.2049806989
                        ]
                      },
                      {
                        "passed_time": 17.40676615,
                        "iteration": 935,
                        "remaining_time": 1.190206233,
                        "learn": [
                          0.2049507986
                        ]
                      },
                      {
                        "passed_time": 17.42427247,
                        "iteration": 936,
                        "remaining_time": 1.171535929,
                        "learn": [
                          0.2047326733
                        ]
                      },
                      {
                        "passed_time": 17.44104546,
                        "iteration": 937,
                        "remaining_time": 1.152819636,
                        "learn": [
                          0.2046666168
                        ]
                      },
                      {
                        "passed_time": 17.46525467,
                        "iteration": 938,
                        "remaining_time": 1.134590559,
                        "learn": [
                          0.2045486189
                        ]
                      },
                      {
                        "passed_time": 17.48267236,
                        "iteration": 939,
                        "remaining_time": 1.115915257,
                        "learn": [
                          0.2044893028
                        ]
                      },
                      {
                        "passed_time": 17.50362517,
                        "iteration": 940,
                        "remaining_time": 1.097464277,
                        "learn": [
                          0.2044846492
                        ]
                      },
                      {
                        "passed_time": 17.52058931,
                        "iteration": 941,
                        "remaining_time": 1.078762399,
                        "learn": [
                          0.2043368113
                        ]
                      },
                      {
                        "passed_time": 17.53725105,
                        "iteration": 942,
                        "remaining_time": 1.060045928,
                        "learn": [
                          0.2043123478
                        ]
                      },
                      {
                        "passed_time": 17.554641,
                        "iteration": 943,
                        "remaining_time": 1.041377009,
                        "learn": [
                          0.2041680484
                        ]
                      },
                      {
                        "passed_time": 17.57132658,
                        "iteration": 944,
                        "remaining_time": 1.022669801,
                        "learn": [
                          0.2041250139
                        ]
                      },
                      {
                        "passed_time": 17.58937596,
                        "iteration": 945,
                        "remaining_time": 1.004044717,
                        "learn": [
                          0.20399666
                        ]
                      },
                      {
                        "passed_time": 17.60743753,
                        "iteration": 946,
                        "remaining_time": 0.98542153,
                        "learn": [
                          0.2038572111
                        ]
                      },
                      {
                        "passed_time": 17.6254275,
                        "iteration": 947,
                        "remaining_time": 0.9667956011,
                        "learn": [
                          0.2036929556
                        ]
                      },
                      {
                        "passed_time": 17.64180165,
                        "iteration": 948,
                        "remaining_time": 0.9480841774,
                        "learn": [
                          0.2036264424
                        ]
                      },
                      {
                        "passed_time": 17.65771361,
                        "iteration": 949,
                        "remaining_time": 0.929353348,
                        "learn": [
                          0.2035304357
                        ]
                      },
                      {
                        "passed_time": 17.67625433,
                        "iteration": 950,
                        "remaining_time": 0.9107638932,
                        "learn": [
                          0.2034454955
                        ]
                      },
                      {
                        "passed_time": 17.69268859,
                        "iteration": 951,
                        "remaining_time": 0.892068332,
                        "learn": [
                          0.2034153149
                        ]
                      },
                      {
                        "passed_time": 17.71272801,
                        "iteration": 952,
                        "remaining_time": 0.8735553162,
                        "learn": [
                          0.2033905935
                        ]
                      },
                      {
                        "passed_time": 17.73349264,
                        "iteration": 953,
                        "remaining_time": 0.8550740684,
                        "learn": [
                          0.2032969716
                        ]
                      },
                      {
                        "passed_time": 17.750792,
                        "iteration": 954,
                        "remaining_time": 0.836424754,
                        "learn": [
                          0.2031776618
                        ]
                      },
                      {
                        "passed_time": 17.76882733,
                        "iteration": 955,
                        "remaining_time": 0.8178121365,
                        "learn": [
                          0.2030877606
                        ]
                      },
                      {
                        "passed_time": 17.78717807,
                        "iteration": 956,
                        "remaining_time": 0.7992148976,
                        "learn": [
                          0.2030333009
                        ]
                      },
                      {
                        "passed_time": 17.80603139,
                        "iteration": 957,
                        "remaining_time": 0.780640207,
                        "learn": [
                          0.20285837
                        ]
                      },
                      {
                        "passed_time": 17.82210942,
                        "iteration": 958,
                        "remaining_time": 0.7619462839,
                        "learn": [
                          0.2026683489
                        ]
                      },
                      {
                        "passed_time": 17.83933462,
                        "iteration": 959,
                        "remaining_time": 0.7433056093,
                        "learn": [
                          0.2025919427
                        ]
                      },
                      {
                        "passed_time": 17.85639086,
                        "iteration": 960,
                        "remaining_time": 0.7246610234,
                        "learn": [
                          0.2025153611
                        ]
                      },
                      {
                        "passed_time": 17.87353964,
                        "iteration": 961,
                        "remaining_time": 0.7060233952,
                        "learn": [
                          0.202341401
                        ]
                      },
                      {
                        "passed_time": 17.89063299,
                        "iteration": 962,
                        "remaining_time": 0.6873867297,
                        "learn": [
                          0.2022067988
                        ]
                      },
                      {
                        "passed_time": 17.91749087,
                        "iteration": 963,
                        "remaining_time": 0.6691179165,
                        "learn": [
                          0.2022024893
                        ]
                      },
                      {
                        "passed_time": 17.9360426,
                        "iteration": 964,
                        "remaining_time": 0.6505300425,
                        "learn": [
                          0.2021713226
                        ]
                      },
                      {
                        "passed_time": 17.95550401,
                        "iteration": 965,
                        "remaining_time": 0.6319742611,
                        "learn": [
                          0.2020548658
                        ]
                      },
                      {
                        "passed_time": 17.97423993,
                        "iteration": 966,
                        "remaining_time": 0.6133918487,
                        "learn": [
                          0.2019372783
                        ]
                      },
                      {
                        "passed_time": 17.99208432,
                        "iteration": 967,
                        "remaining_time": 0.5947796469,
                        "learn": [
                          0.2018283809
                        ]
                      },
                      {
                        "passed_time": 18.00881316,
                        "iteration": 968,
                        "remaining_time": 0.5761333416,
                        "learn": [
                          0.2017614111
                        ]
                      },
                      {
                        "passed_time": 18.02612985,
                        "iteration": 969,
                        "remaining_time": 0.5575091707,
                        "learn": [
                          0.2016994716
                        ]
                      },
                      {
                        "passed_time": 18.04379106,
                        "iteration": 970,
                        "remaining_time": 0.5388979821,
                        "learn": [
                          0.2015326555
                        ]
                      },
                      {
                        "passed_time": 18.06153294,
                        "iteration": 971,
                        "remaining_time": 0.5202910723,
                        "learn": [
                          0.2014751567
                        ]
                      },
                      {
                        "passed_time": 18.13135859,
                        "iteration": 972,
                        "remaining_time": 0.5031312251,
                        "learn": [
                          0.2013641086
                        ]
                      },
                      {
                        "passed_time": 18.16016943,
                        "iteration": 973,
                        "remaining_time": 0.4847683833,
                        "learn": [
                          0.2012660377
                        ]
                      },
                      {
                        "passed_time": 18.17870389,
                        "iteration": 974,
                        "remaining_time": 0.4661206125,
                        "learn": [
                          0.2011150724
                        ]
                      },
                      {
                        "passed_time": 18.20386139,
                        "iteration": 975,
                        "remaining_time": 0.4476359359,
                        "learn": [
                          0.2010791077
                        ]
                      },
                      {
                        "passed_time": 18.22017966,
                        "iteration": 976,
                        "remaining_time": 0.428929511,
                        "learn": [
                          0.2010059972
                        ]
                      },
                      {
                        "passed_time": 18.23691733,
                        "iteration": 977,
                        "remaining_time": 0.4102374043,
                        "learn": [
                          0.2008504005
                        ]
                      },
                      {
                        "passed_time": 18.25398116,
                        "iteration": 978,
                        "remaining_time": 0.3915562863,
                        "learn": [
                          0.2007807466
                        ]
                      },
                      {
                        "passed_time": 18.27192559,
                        "iteration": 979,
                        "remaining_time": 0.3728964406,
                        "learn": [
                          0.2006821916
                        ]
                      },
                      {
                        "passed_time": 18.28788134,
                        "iteration": 980,
                        "remaining_time": 0.3541995366,
                        "learn": [
                          0.2005512257
                        ]
                      },
                      {
                        "passed_time": 18.30480825,
                        "iteration": 981,
                        "remaining_time": 0.3355260168,
                        "learn": [
                          0.2003984872
                        ]
                      },
                      {
                        "passed_time": 18.32183564,
                        "iteration": 982,
                        "remaining_time": 0.3168577883,
                        "learn": [
                          0.20032024
                        ]
                      },
                      {
                        "passed_time": 18.34382423,
                        "iteration": 983,
                        "remaining_time": 0.2982735647,
                        "learn": [
                          0.2003018118
                        ]
                      },
                      {
                        "passed_time": 18.36152419,
                        "iteration": 984,
                        "remaining_time": 0.2796171197,
                        "learn": [
                          0.2002534515
                        ]
                      },
                      {
                        "passed_time": 18.37784402,
                        "iteration": 985,
                        "remaining_time": 0.2609430185,
                        "learn": [
                          0.2002210509
                        ]
                      },
                      {
                        "passed_time": 18.39569379,
                        "iteration": 986,
                        "remaining_time": 0.2422938392,
                        "learn": [
                          0.2000784847
                        ]
                      },
                      {
                        "passed_time": 18.41210711,
                        "iteration": 987,
                        "remaining_time": 0.2236288313,
                        "learn": [
                          0.1999841208
                        ]
                      },
                      {
                        "passed_time": 18.42948514,
                        "iteration": 988,
                        "remaining_time": 0.2049791068,
                        "learn": [
                          0.1998548779
                        ]
                      },
                      {
                        "passed_time": 18.44461679,
                        "iteration": 989,
                        "remaining_time": 0.1863092606,
                        "learn": [
                          0.1997898678
                        ]
                      },
                      {
                        "passed_time": 18.46012784,
                        "iteration": 990,
                        "remaining_time": 0.1676500006,
                        "learn": [
                          0.1996683587
                        ]
                      },
                      {
                        "passed_time": 18.47537931,
                        "iteration": 991,
                        "remaining_time": 0.1489949944,
                        "learn": [
                          0.1996360242
                        ]
                      },
                      {
                        "passed_time": 18.49126185,
                        "iteration": 992,
                        "remaining_time": 0.130351292,
                        "learn": [
                          0.1995801397
                        ]
                      },
                      {
                        "passed_time": 18.50708079,
                        "iteration": 993,
                        "remaining_time": 0.1117127613,
                        "learn": [
                          0.1995195708
                        ]
                      },
                      {
                        "passed_time": 18.52350474,
                        "iteration": 994,
                        "remaining_time": 0.09308293839,
                        "learn": [
                          0.1994949464
                        ]
                      },
                      {
                        "passed_time": 18.53972261,
                        "iteration": 995,
                        "remaining_time": 0.07445671729,
                        "learn": [
                          0.1994478534
                        ]
                      },
                      {
                        "passed_time": 18.56185966,
                        "iteration": 996,
                        "remaining_time": 0.05585313841,
                        "learn": [
                          0.1993969633
                        ]
                      },
                      {
                        "passed_time": 18.57918267,
                        "iteration": 997,
                        "remaining_time": 0.03723283101,
                        "learn": [
                          0.1993287014
                        ]
                      },
                      {
                        "passed_time": 18.59658751,
                        "iteration": 998,
                        "remaining_time": 0.01861520271,
                        "learn": [
                          0.1991621727
                        ]
                      },
                      {
                        "passed_time": 18.6163167,
                        "iteration": 999,
                        "remaining_time": 0,
                        "learn": [
                          0.1991201718
                        ]
                      }
                    ]
                  },
                  "total_iterations": 1000,
                  "passed_iterations": 999
                },
                "path": "catboost_info",
                "name": "catboost_info"
              }
            },
            "_view_module": "catboost-widget",
            "_model_module_version": "^1.0.0",
            "_view_count": null,
            "_view_module_version": "^1.0.0",
            "layout": "IPY_MODEL_a2fb684d068347eea057733305c6d841",
            "_model_module": "catboost-widget"
          }
        }
      }
    }
  },
  "cells": [
    {
      "cell_type": "code",
      "metadata": {
        "id": "g3HamsWSSRLt",
        "colab": {
          "base_uri": "https://localhost:8080/"
        },
        "outputId": "6bfbe3e3-6b22-4283-98cb-26c5c0d66d94"
      },
      "source": [
        "!pip install -q catboost ipywidgets\n",
        "import numpy as np\n",
        "import pandas as pd\n",
        "\n",
        "import matplotlib.pyplot as plt\n",
        "\n",
        "from sklearn.model_selection import cross_val_score\n",
        "from catboost import CatBoostRegressor\n",
        "\n",
        "import ipywidgets\n",
        "\n",
        "import os\n",
        "\n",
        "plt.rcParams['figure.figsize'] = [12, 6]\n",
        "pd.set_option('display.max_rows', 500)\n",
        "\n",
        "%matplotlib inline\n",
        "\n",
        "from IPython.core.interactiveshell import InteractiveShell\n",
        "InteractiveShell.ast_node_interactivity = \"all\""
      ],
      "execution_count": null,
      "outputs": [
        {
          "output_type": "stream",
          "name": "stdout",
          "text": [
            "\u001b[K     |████████████████████████████████| 67.4 MB 29 kB/s \n",
            "\u001b[?25h"
          ]
        }
      ]
    },
    {
      "cell_type": "markdown",
      "metadata": {
        "id": "yyRvQgspSRLu"
      },
      "source": [
        "# Metrics"
      ]
    },
    {
      "cell_type": "code",
      "metadata": {
        "id": "nt09IWkbSRL2"
      },
      "source": [
        "import typing\n",
        "import numpy as np\n",
        "#from sklearn.metrics import mean_absolute_percentage_error, r2_score, mean_squared_error\n",
        "\n",
        "THRESHOLD = 0.15\n",
        "NEGATIVE_WEIGHT = 1.1\n",
        "\n",
        "def deviation_metric_one_sample(y_true: typing.Union[float, int], y_pred: typing.Union[float, int]) -> float:\n",
        "    \"\"\"\n",
        "    Реализация кастомной метрики для хакатона.\n",
        "\n",
        "    :param y_true: float, реальная цена\n",
        "    :param y_pred: float, предсказанная цена\n",
        "    :return: float, значение метрики\n",
        "    \"\"\"\n",
        "    deviation = (y_pred - y_true) / np.maximum(1e-8, y_true)\n",
        "    if np.abs(deviation) <= THRESHOLD:\n",
        "        return 0\n",
        "    elif deviation <= - 4 * THRESHOLD:\n",
        "        return 9 * NEGATIVE_WEIGHT\n",
        "    elif deviation < -THRESHOLD:\n",
        "        return NEGATIVE_WEIGHT * ((deviation / THRESHOLD) + 1) ** 2\n",
        "    elif deviation < 4 * THRESHOLD:\n",
        "        return ((deviation / THRESHOLD) - 1) ** 2\n",
        "    else:\n",
        "        return 9\n",
        "\n",
        "\n",
        "def deviation_metric(y_true, y_pred, isLog=False) -> float:\n",
        "    if isLog:\n",
        "        y_pred = np.exp(y_pred)\n",
        "        y_true = np.exp(y_true)\n",
        "    return np.array([deviation_metric_one_sample(y_true[n], y_pred[n]) for n in range(len(y_true))]).mean()\n",
        "\n",
        "def median_absolute_percentage_error(y_true: np.array, y_pred: np.array) -> float:\n",
        "    return np.median(np.abs(y_pred-y_true)/y_true)\n",
        "\n",
        "def metrics_stat(y_true: np.array, y_pred: np.array) -> typing.Dict[str,float]:\n",
        "    mape = mean_absolute_percentage_error(y_true, y_pred)\n",
        "    mdape = median_absolute_percentage_error(y_true, y_pred)\n",
        "    rmse = mean_squared_error(y_true, y_pred, squared=False)\n",
        "    r2 = r2_score(y_true, y_pred)\n",
        "    raif_metric = deviation_metric(y_true, y_pred)\n",
        "    return {'mape':mape, 'mdape':mdape, 'rmse': rmse, 'r2': r2, 'raif_metric':raif_metric}\n",
        "\n",
        "EPS = 1e-8\n",
        "assert deviation_metric(np.array([1,2,3,4,5]),np.array([1,2,3,4,5])) <= EPS\n",
        "assert deviation_metric(np.array([1,2,3,4,5]),np.array([0.9,1.8,2.7,3.6,4.5])) <= EPS\n",
        "assert deviation_metric(np.array([1,2,3,4,5]),np.array([1.1,2.2,3.3,4.4,5.5])) <= EPS\n",
        "assert deviation_metric(np.array([1,2,3,4,5]),np.array([1.15,2.3,3.45,4.6,5.75])) <= EPS\n",
        "assert np.abs(deviation_metric(np.array([1,2,3,4,5]),np.array([1.3,2.6,3.9,5.2,6.5]))-1) <= EPS\n",
        "assert np.abs(deviation_metric(np.array([1,2,3,4,5]),np.array([0.7,1.4,2.1,2.8,3.5]))-1*NEGATIVE_WEIGHT) <= EPS\n",
        "assert np.abs(deviation_metric(np.array([1,2,3,4,5]),np.array([10,20,30,40,50]))-9) <= EPS\n",
        "assert np.abs(deviation_metric(np.array([1,2,3,4,5]),np.array([0,0,0,0,0]))-9*NEGATIVE_WEIGHT) <= EPS\n",
        "assert np.abs(deviation_metric(np.array([1,2,3,4,5]),np.array([1,2.2,3.3,5,50])) - 85/45) <= EPS"
      ],
      "execution_count": null,
      "outputs": []
    },
    {
      "cell_type": "markdown",
      "metadata": {
        "id": "5Z19nxqwSRL4"
      },
      "source": [
        "# Load data\n"
      ]
    },
    {
      "cell_type": "code",
      "metadata": {
        "colab": {
          "base_uri": "https://localhost:8080/"
        },
        "id": "IdgEbR7GSRL5",
        "outputId": "a5d5f286-e1bf-451f-edd9-49093e5f91e7"
      },
      "source": [
        "starting_data = pd.read_csv('https://vk.com/doc161475809_610874959?hash=9b728e3536da2ef20b&dl=bf67c9d42c51d4e929', index_col='id')"
      ],
      "execution_count": null,
      "outputs": [
        {
          "output_type": "stream",
          "name": "stderr",
          "text": [
            "/usr/local/lib/python3.7/dist-packages/IPython/core/interactiveshell.py:2718: DtypeWarning: Columns (1) have mixed types.Specify dtype option on import or set low_memory=False.\n",
            "  interactivity=interactivity, compiler=compiler, result=result)\n"
          ]
        }
      ]
    },
    {
      "cell_type": "code",
      "metadata": {
        "id": "a3B3DFO3SRL5"
      },
      "source": [
        "starting_data = starting_data.reindex(columns=sorted(starting_data.columns))"
      ],
      "execution_count": null,
      "outputs": []
    },
    {
      "cell_type": "markdown",
      "metadata": {
        "scrolled": true,
        "id": "AhBTxUecSRL6"
      },
      "source": [
        "# Features"
      ]
    },
    {
      "cell_type": "markdown",
      "metadata": {
        "id": "xfS02ql0SRL6"
      },
      "source": [
        "### drop some features "
      ]
    },
    {
      "cell_type": "code",
      "metadata": {
        "id": "FRhsRiEbSRL7"
      },
      "source": [
        "df_DateOut = starting_data.drop(['date'], axis = 1)"
      ],
      "execution_count": null,
      "outputs": []
    },
    {
      "cell_type": "markdown",
      "metadata": {
        "id": "1Q94lcJcSRL7"
      },
      "source": [
        "### make feature from 'floor' column "
      ]
    },
    {
      "cell_type": "code",
      "metadata": {
        "id": "5OzfgsVTSRL7"
      },
      "source": [
        "def set_floor(str):\n",
        "    ans = []\n",
        "    try:\n",
        "        s = float(str)\n",
        "        if s<0:\n",
        "            return '-1'\n",
        "        if s == 1:\n",
        "            return '1'\n",
        "        if s==2:\n",
        "            return '2'\n",
        "        if s<5:\n",
        "            return '3'\n",
        "        if s<10:\n",
        "            return '4'\n",
        "        if s<20:\n",
        "            return '5'\n",
        "        if s<50:\n",
        "            return '6'\n",
        "        if s<90:\n",
        "            return '7'\n",
        "        else:\n",
        "            return '0'\n",
        "        \n",
        "    except:\n",
        "        if 'подвал' in str.lower() :\n",
        "            return 'подвал'\n",
        "        if 'цоколь' in str.lower() :\n",
        "            return 'цоколь'\n",
        "        else:\n",
        "            return 'uknown'"
      ],
      "execution_count": null,
      "outputs": []
    },
    {
      "cell_type": "code",
      "metadata": {
        "id": "0dFDVKIoSRL8"
      },
      "source": [
        "df_CatFloor_DateOut = df_DateOut\n",
        "df_CatFloor_DateOut['floor'] = df_CatFloor_DateOut['floor'].apply(str)\n",
        "df_CatFloor_DateOut['floor'] = df_CatFloor_DateOut['floor'].apply(set_floor)"
      ],
      "execution_count": null,
      "outputs": []
    },
    {
      "cell_type": "markdown",
      "metadata": {
        "id": "AqhJqY97SRL8"
      },
      "source": [
        "### categorical features "
      ]
    },
    {
      "cell_type": "code",
      "metadata": {
        "colab": {
          "base_uri": "https://localhost:8080/"
        },
        "id": "xZWaO5ljSRL8",
        "outputId": "99e4bdfe-276f-489f-f3e0-0fba181c15ad"
      },
      "source": [
        "cat_features = set([df_CatFloor_DateOut.columns[i] for i in range(len(df_CatFloor_DateOut.dtypes)) if str(df_CatFloor_DateOut.dtypes[i]) not in ['float64','float32', 'int64']])\n",
        "\n",
        "cat_features.add(df_CatFloor_DateOut.columns[list(df_CatFloor_DateOut.columns).index('realty_type')])\n",
        "df_CatFloor_DateOut['realty_type']= df_CatFloor_DateOut['realty_type'].apply(str)\n",
        "cat_features.add(df_CatFloor_DateOut.columns[list(df_CatFloor_DateOut.columns).index('floor')])\n",
        "\n",
        "cat_features"
      ],
      "execution_count": null,
      "outputs": [
        {
          "output_type": "execute_result",
          "data": {
            "text/plain": [
              "{'city', 'floor', 'osm_city_nearest_name', 'realty_type', 'region', 'street'}"
            ]
          },
          "metadata": {},
          "execution_count": 8
        }
      ]
    },
    {
      "cell_type": "markdown",
      "metadata": {
        "id": "tyjRDwIPSRL9"
      },
      "source": [
        "### dropna "
      ]
    },
    {
      "cell_type": "code",
      "metadata": {
        "id": "A96HXSRdSRL9"
      },
      "source": [
        "for col in df_CatFloor_DateOut.columns:\n",
        "    if col not in cat_features:\n",
        "        df_CatFloor_DateOut[col] = df_CatFloor_DateOut[col].fillna(df_CatFloor_DateOut[col].median())\n",
        "    else:\n",
        "        df_CatFloor_DateOut[col] = df_CatFloor_DateOut[col].fillna('unknown')"
      ],
      "execution_count": null,
      "outputs": []
    },
    {
      "cell_type": "markdown",
      "metadata": {
        "id": "mATsmPH6SRL9"
      },
      "source": [
        "### Logarithms"
      ]
    },
    {
      "cell_type": "markdown",
      "metadata": {
        "id": "aGVAR423SRL9"
      },
      "source": [
        "Посмотрим на распределения общей площади площади и цены за квадратный метр"
      ]
    },
    {
      "cell_type": "code",
      "metadata": {
        "colab": {
          "base_uri": "https://localhost:8080/",
          "height": 294
        },
        "id": "JNZY9n01SRL-",
        "outputId": "80bdd8ee-1203-4292-d1fd-9ad916d99b6d"
      },
      "source": [
        "fig = plt.hist(df_CatFloor_DateOut.per_square_meter_price, bins=500)\n",
        "t = plt.title('распределение цены')"
      ],
      "execution_count": null,
      "outputs": [
        {
          "output_type": "display_data",
          "data": {
            "image/png": "[encoded data removed]",
            "text/plain": [
              "<Figure size 432x288 with 1 Axes>"
            ]
          },
          "metadata": {
            "needs_background": "light"
          }
        }
      ]
    },
    {
      "cell_type": "code",
      "metadata": {
        "colab": {
          "base_uri": "https://localhost:8080/",
          "height": 281
        },
        "id": "2rf1bCFPSRL-",
        "outputId": "7dffaa43-f41f-4043-8a5a-753968e49d51"
      },
      "source": [
        "fig = plt.hist(df_CatFloor_DateOut.total_square, bins=100)\n",
        "t = plt.title('распределение объектов по общей площади')"
      ],
      "execution_count": null,
      "outputs": [
        {
          "output_type": "display_data",
          "data": {
            "image/png": "[encoded data removed]",
            "text/plain": [
              "<Figure size 432x288 with 1 Axes>"
            ]
          },
          "metadata": {
            "needs_background": "light"
          }
        }
      ]
    },
    {
      "cell_type": "markdown",
      "metadata": {
        "id": "aEptpE9CSRL-"
      },
      "source": [
        "Это распределение напоминает логнормальное. Возьмем теперь логарифм от этих колонок."
      ]
    },
    {
      "cell_type": "code",
      "metadata": {
        "colab": {
          "base_uri": "https://localhost:8080/",
          "height": 281
        },
        "id": "NokaolnhSRL_",
        "outputId": "0b91f2d5-3ad6-48f8-964a-ac3ab56cd97c"
      },
      "source": [
        "fig = plt.hist(np.log(df_CatFloor_DateOut.per_square_meter_price), bins=500)\n",
        "t = plt.title('распределение логарифма цены')"
      ],
      "execution_count": null,
      "outputs": [
        {
          "output_type": "display_data",
          "data": {
            "image/png": "[encoded data removed]",
            "text/plain": [
              "<Figure size 432x288 with 1 Axes>"
            ]
          },
          "metadata": {
            "needs_background": "light"
          }
        }
      ]
    },
    {
      "cell_type": "code",
      "metadata": {
        "colab": {
          "base_uri": "https://localhost:8080/",
          "height": 281
        },
        "id": "KtrhTP1rSRL_",
        "outputId": "bc6198e0-f0f4-4fe8-bafa-4c098a02ae5e"
      },
      "source": [
        "fig = plt.hist(np.log(df_CatFloor_DateOut.total_square), bins=100)\n",
        "t = plt.title('распределение логарифма общей площади')"
      ],
      "execution_count": null,
      "outputs": [
        {
          "output_type": "display_data",
          "data": {
            "image/png": "[encoded data removed]",
            "text/plain": [
              "<Figure size 432x288 with 1 Axes>"
            ]
          },
          "metadata": {
            "needs_background": "light"
          }
        }
      ]
    },
    {
      "cell_type": "markdown",
      "metadata": {
        "id": "GwoAzCDBSRL_"
      },
      "source": [
        "Поэтому, вместо цены будем тренироваться на логарифме цены, а также добавим колонку с логарифмом площади."
      ]
    },
    {
      "cell_type": "code",
      "metadata": {
        "id": "nK8QUGH5SRMA"
      },
      "source": [
        "df_logSquare_CatFloor_DateOut = df_CatFloor_DateOut.merge(pd.DataFrame({'total_square_log':np.log(df_CatFloor_DateOut.total_square)}),\\\n",
        "              on=df_CatFloor_DateOut.index)\n",
        "df_logSquare_CatFloor_DateOut = df_logSquare_CatFloor_DateOut.rename({'key_0':'id'}, axis=1)\n",
        "df_logSquare_CatFloor_DateOut.index = df_logSquare_CatFloor_DateOut.id\n",
        "df_logSquare_CatFloor_DateOut.drop(['id'], axis=1, inplace=True)\n",
        "log_pr = df_logSquare_CatFloor_DateOut.per_square_meter_price.apply(np.log)\n",
        "df_logPrice_logSquare_CatFloor_DateOut = df_logSquare_CatFloor_DateOut\n",
        "df_logPrice_logSquare_CatFloor_DateOut['per_square_meter_price'] = log_pr\n",
        "main_df_price1 = df_logPrice_logSquare_CatFloor_DateOut.loc[df_logSquare_CatFloor_DateOut.price_type == 1].drop(['price_type'], axis = 1)\n",
        "main_df_price0 = df_logPrice_logSquare_CatFloor_DateOut.loc[df_logSquare_CatFloor_DateOut.price_type == 0].drop(['price_type'], axis = 1)"
      ],
      "execution_count": null,
      "outputs": []
    },
    {
      "cell_type": "markdown",
      "metadata": {
        "id": "I4lSMa29SRMA"
      },
      "source": [
        "# Experiments"
      ]
    },
    {
      "cell_type": "markdown",
      "metadata": {
        "id": "_3_l1Uk1SRMA"
      },
      "source": [
        "## Cross validation "
      ]
    },
    {
      "cell_type": "code",
      "metadata": {
        "id": "eKa2odtWSRMA"
      },
      "source": [
        "def cross_validate(data, iterations, cat_features, verbose, n_cv, unused_features):\n",
        "    data.drop(unused_features, axis=1, inplace=True)\n",
        "    diff = set(unused_features)\n",
        "    cat_features.difference_update(diff)\n",
        "    \n",
        "    catboost_regressor = CatBoostRegressor(iterations=iterations,cat_features=cat_features, random_seed=17, task_type=task_type)\n",
        "    \n",
        "    idxs = [[] for i in range(n_cv)]\n",
        "    for i in range(len(data)):\n",
        "        r = np.random.randint(0, n_cv)\n",
        "        idxs[r].append(data.index[i])\n",
        "    X_train = pd.DataFrame()\n",
        "    X_test  = pd.DataFrame()\n",
        "    y_train = pd.DataFrame()\n",
        "    y_test  = pd.DataFrame()\n",
        "    scores = []\n",
        "    feature_imp_lst = []\n",
        "    for i in range(len(idxs)):\n",
        "        print('Iter: ', i)\n",
        "        train_idxs = []\n",
        "        for idx in idxs[:i]+idxs[i+1:]:\n",
        "            train_idxs+=idx\n",
        "        X_train =  data.loc[train_idxs, :].drop('per_square_meter_price', axis=1)\n",
        "        X_test  =  data.loc[idxs[i]].drop('per_square_meter_price', axis=1)\n",
        "        y_train =  data.loc[train_idxs, :].per_square_meter_price\n",
        "        y_test  =  data.loc[idxs[i], :].per_square_meter_price\n",
        "        catboost_regressor.fit(X_train, y_train, verbose=verbose, plot=True)\n",
        "        y_pred = catboost_regressor.predict(X_test)\n",
        "        score = deviation_metric(y_test, y_pred, isLog=True)\n",
        "        scores.append(score)\n",
        "        feature_imp_lst.append(catboost_regressor.feature_importances_)\n",
        "        print(\"Score: \", score)   \n",
        "    print('Score: ', sum(scores)/len(scores))\n",
        "    feature_imps = []\n",
        "    for i in range(len(sum(feature_imp_lst)/len(feature_imp_lst))):\n",
        "        feature_imps.append((X_train.columns[i], catboost_regressor.feature_importances_[i]))\n",
        "    feature_imps = sorted(feature_imps, key = lambda x: x[1])\n",
        "    feature_imps.reverse()\n",
        "    print('Feature importances')\n",
        "    print(feature_imps)"
      ],
      "execution_count": null,
      "outputs": []
    },
    {
      "cell_type": "markdown",
      "metadata": {
        "id": "Y0-Dq3JNSRMB"
      },
      "source": [
        "### Only '1' class, log price, log total square"
      ]
    },
    {
      "cell_type": "code",
      "metadata": {
        "id": "OTf5UtT6SRMB"
      },
      "source": [
        "iterations=1000\n",
        "task_type=\"CPU\"\n",
        "verbose=1\n",
        "n_cv = 4\n",
        "unused_features = ['total_square']\n",
        "data = main_df_price1.copy()"
      ],
      "execution_count": null,
      "outputs": []
    },
    {
      "cell_type": "code",
      "metadata": {
        "colab": {
          "base_uri": "https://localhost:8080/",
          "height": 162
        },
        "id": "UYOBNKdNrJvD",
        "outputId": "d33276ed-c78b-4fb5-d6aa-03255f9982a4"
      },
      "source": [
        "list(cat)"
      ],
      "execution_count": null,
      "outputs": [
        {
          "output_type": "error",
          "ename": "AttributeError",
          "evalue": "ignored",
          "traceback": [
            "\u001b[0;31m---------------------------------------------------------------------------\u001b[0m",
            "\u001b[0;31mAttributeError\u001b[0m                            Traceback (most recent call last)",
            "\u001b[0;32m<ipython-input-19-ed1562ed59b1>\u001b[0m in \u001b[0;36m<module>\u001b[0;34m()\u001b[0m\n\u001b[0;32m----> 1\u001b[0;31m \u001b[0mcat_features\u001b[0m\u001b[0;34m.\u001b[0m\u001b[0mto_list\u001b[0m\u001b[0;34m(\u001b[0m\u001b[0;34m)\u001b[0m\u001b[0;34m\u001b[0m\u001b[0;34m\u001b[0m\u001b[0m\n\u001b[0m",
            "\u001b[0;31mAttributeError\u001b[0m: 'set' object has no attribute 'to_list'"
          ]
        }
      ]
    },
    {
      "cell_type": "markdown",
      "metadata": {
        "id": "YX88bey7SRMB"
      },
      "source": [
        "# Fitting"
      ]
    },
    {
      "cell_type": "code",
      "metadata": {
        "scrolled": true,
        "colab": {
          "base_uri": "https://localhost:8080/",
          "height": 1000,
          "referenced_widgets": [
            "682c7aaa49614bef8491679589dfa14d"
          ]
        },
        "id": "ZXfN_gVaSRMC",
        "outputId": "f9ebebf5-5617-4f96-b482-7ca684429321"
      },
      "source": [
        "iterations=1000\n",
        "task_type=\"GPU\"\n",
        "verbose=1\n",
        "unused_features = ['total_square']\n",
        "data = main_df_price1.copy()\n",
        "data.drop(unused_features, axis=1, inplace=True)\n",
        "diff = set(unused_features)\n",
        "cat_features.difference_update(diff)\n",
        "catboost_regressor = CatBoostRegressor(iterations=iterations,cat_features=list(cat_features), random_seed=17)\n",
        "X_train =  data.drop('per_square_meter_price', axis=1)\n",
        "y_train =  data.per_square_meter_price\n",
        "catboost_regressor.fit(X_train, y_train, verbose=verbose, plot=True)"
      ],
      "execution_count": null,
      "outputs": [
        {
          "output_type": "stream",
          "name": "stderr",
          "text": [
            "Custom logger is already specified. Specify more than one logger at same time is not thread safe."
          ]
        },
        {
          "output_type": "display_data",
          "data": {
            "application/vnd.jupyter.widget-view+json": {
              "model_id": "682c7aaa49614bef8491679589dfa14d",
              "version_minor": 0,
              "version_major": 2
            },
            "text/plain": [
              "MetricVisualizer(layout=Layout(align_self='stretch', height='500px'))"
            ]
          },
          "metadata": {}
        },
        {
          "output_type": "stream",
          "name": "stdout",
          "text": [
            "Learning rate set to 0.050998\n",
            "0:\tlearn: 0.5733166\ttotal: 68.8ms\tremaining: 1m 8s\n",
            "1:\tlearn: 0.5605968\ttotal: 92.9ms\tremaining: 46.4s\n",
            "2:\tlearn: 0.5473462\ttotal: 112ms\tremaining: 37.1s\n",
            "3:\tlearn: 0.5363781\ttotal: 129ms\tremaining: 32.2s\n",
            "4:\tlearn: 0.5257930\ttotal: 150ms\tremaining: 29.8s\n",
            "5:\tlearn: 0.5149757\ttotal: 166ms\tremaining: 27.6s\n",
            "6:\tlearn: 0.5049460\ttotal: 182ms\tremaining: 25.9s\n",
            "7:\tlearn: 0.4958978\ttotal: 204ms\tremaining: 25.3s\n",
            "8:\tlearn: 0.4872458\ttotal: 224ms\tremaining: 24.7s\n",
            "9:\tlearn: 0.4790648\ttotal: 242ms\tremaining: 23.9s\n",
            "10:\tlearn: 0.4717253\ttotal: 259ms\tremaining: 23.3s\n",
            "11:\tlearn: 0.4646026\ttotal: 275ms\tremaining: 22.7s\n",
            "12:\tlearn: 0.4575550\ttotal: 293ms\tremaining: 22.2s\n",
            "13:\tlearn: 0.4510428\ttotal: 310ms\tremaining: 21.8s\n",
            "14:\tlearn: 0.4450901\ttotal: 328ms\tremaining: 21.5s\n",
            "15:\tlearn: 0.4397854\ttotal: 344ms\tremaining: 21.1s\n",
            "16:\tlearn: 0.4346597\ttotal: 361ms\tremaining: 20.8s\n",
            "17:\tlearn: 0.4296065\ttotal: 381ms\tremaining: 20.8s\n",
            "18:\tlearn: 0.4247334\ttotal: 398ms\tremaining: 20.5s\n",
            "19:\tlearn: 0.4202345\ttotal: 418ms\tremaining: 20.5s\n",
            "20:\tlearn: 0.4167147\ttotal: 435ms\tremaining: 20.3s\n",
            "21:\tlearn: 0.4127743\ttotal: 451ms\tremaining: 20.1s\n",
            "22:\tlearn: 0.4092832\ttotal: 468ms\tremaining: 19.9s\n",
            "23:\tlearn: 0.4067181\ttotal: 485ms\tremaining: 19.7s\n",
            "24:\tlearn: 0.4034319\ttotal: 507ms\tremaining: 19.8s\n",
            "25:\tlearn: 0.4005115\ttotal: 523ms\tremaining: 19.6s\n",
            "26:\tlearn: 0.3978118\ttotal: 540ms\tremaining: 19.4s\n",
            "27:\tlearn: 0.3950766\ttotal: 558ms\tremaining: 19.4s\n",
            "28:\tlearn: 0.3924948\ttotal: 574ms\tremaining: 19.2s\n",
            "29:\tlearn: 0.3897364\ttotal: 595ms\tremaining: 19.3s\n",
            "30:\tlearn: 0.3875600\ttotal: 613ms\tremaining: 19.2s\n",
            "31:\tlearn: 0.3855661\ttotal: 634ms\tremaining: 19.2s\n",
            "32:\tlearn: 0.3834373\ttotal: 653ms\tremaining: 19.1s\n",
            "33:\tlearn: 0.3816850\ttotal: 670ms\tremaining: 19s\n",
            "34:\tlearn: 0.3796724\ttotal: 687ms\tremaining: 18.9s\n",
            "35:\tlearn: 0.3776956\ttotal: 704ms\tremaining: 18.9s\n",
            "36:\tlearn: 0.3756807\ttotal: 721ms\tremaining: 18.8s\n",
            "37:\tlearn: 0.3739078\ttotal: 740ms\tremaining: 18.7s\n",
            "38:\tlearn: 0.3723014\ttotal: 757ms\tremaining: 18.6s\n",
            "39:\tlearn: 0.3706211\ttotal: 773ms\tremaining: 18.6s\n",
            "40:\tlearn: 0.3693405\ttotal: 790ms\tremaining: 18.5s\n",
            "41:\tlearn: 0.3680093\ttotal: 806ms\tremaining: 18.4s\n",
            "42:\tlearn: 0.3664644\ttotal: 823ms\tremaining: 18.3s\n",
            "43:\tlearn: 0.3653109\ttotal: 843ms\tremaining: 18.3s\n",
            "44:\tlearn: 0.3640298\ttotal: 860ms\tremaining: 18.2s\n",
            "45:\tlearn: 0.3628718\ttotal: 876ms\tremaining: 18.2s\n",
            "46:\tlearn: 0.3620082\ttotal: 892ms\tremaining: 18.1s\n",
            "47:\tlearn: 0.3609172\ttotal: 907ms\tremaining: 18s\n",
            "48:\tlearn: 0.3600328\ttotal: 925ms\tremaining: 18s\n",
            "49:\tlearn: 0.3589703\ttotal: 949ms\tremaining: 18s\n",
            "50:\tlearn: 0.3579392\ttotal: 982ms\tremaining: 18.3s\n",
            "51:\tlearn: 0.3566719\ttotal: 1000ms\tremaining: 18.2s\n",
            "52:\tlearn: 0.3555443\ttotal: 1.02s\tremaining: 18.2s\n",
            "53:\tlearn: 0.3546086\ttotal: 1.03s\tremaining: 18.1s\n",
            "54:\tlearn: 0.3535935\ttotal: 1.06s\tremaining: 18.2s\n",
            "55:\tlearn: 0.3529690\ttotal: 1.08s\tremaining: 18.1s\n",
            "56:\tlearn: 0.3521653\ttotal: 1.09s\tremaining: 18.1s\n",
            "57:\tlearn: 0.3513011\ttotal: 1.11s\tremaining: 18s\n",
            "58:\tlearn: 0.3506936\ttotal: 1.13s\tremaining: 18s\n",
            "59:\tlearn: 0.3498242\ttotal: 1.14s\tremaining: 17.9s\n",
            "60:\tlearn: 0.3488750\ttotal: 1.16s\tremaining: 17.9s\n",
            "61:\tlearn: 0.3482260\ttotal: 1.18s\tremaining: 17.8s\n",
            "62:\tlearn: 0.3475565\ttotal: 1.19s\tremaining: 17.8s\n",
            "63:\tlearn: 0.3470620\ttotal: 1.21s\tremaining: 17.7s\n",
            "64:\tlearn: 0.3463737\ttotal: 1.23s\tremaining: 17.7s\n",
            "65:\tlearn: 0.3456172\ttotal: 1.25s\tremaining: 17.6s\n",
            "66:\tlearn: 0.3449062\ttotal: 1.27s\tremaining: 17.8s\n",
            "67:\tlearn: 0.3443235\ttotal: 1.29s\tremaining: 17.7s\n",
            "68:\tlearn: 0.3435435\ttotal: 1.31s\tremaining: 17.7s\n",
            "69:\tlearn: 0.3430413\ttotal: 1.33s\tremaining: 17.6s\n",
            "70:\tlearn: 0.3423636\ttotal: 1.34s\tremaining: 17.6s\n",
            "71:\tlearn: 0.3418150\ttotal: 1.36s\tremaining: 17.6s\n",
            "72:\tlearn: 0.3413625\ttotal: 1.38s\tremaining: 17.5s\n",
            "73:\tlearn: 0.3407245\ttotal: 1.4s\tremaining: 17.5s\n",
            "74:\tlearn: 0.3402012\ttotal: 1.42s\tremaining: 17.5s\n",
            "75:\tlearn: 0.3396527\ttotal: 1.43s\tremaining: 17.4s\n",
            "76:\tlearn: 0.3391886\ttotal: 1.45s\tremaining: 17.4s\n",
            "77:\tlearn: 0.3388191\ttotal: 1.47s\tremaining: 17.3s\n",
            "78:\tlearn: 0.3382885\ttotal: 1.49s\tremaining: 17.4s\n",
            "79:\tlearn: 0.3378945\ttotal: 1.51s\tremaining: 17.4s\n",
            "80:\tlearn: 0.3375767\ttotal: 1.53s\tremaining: 17.3s\n",
            "81:\tlearn: 0.3372148\ttotal: 1.55s\tremaining: 17.3s\n",
            "82:\tlearn: 0.3366058\ttotal: 1.56s\tremaining: 17.3s\n",
            "83:\tlearn: 0.3362474\ttotal: 1.58s\tremaining: 17.2s\n",
            "84:\tlearn: 0.3355192\ttotal: 1.6s\tremaining: 17.2s\n",
            "85:\tlearn: 0.3351524\ttotal: 1.61s\tremaining: 17.2s\n",
            "86:\tlearn: 0.3346201\ttotal: 1.63s\tremaining: 17.1s\n",
            "87:\tlearn: 0.3343575\ttotal: 1.65s\tremaining: 17.1s\n",
            "88:\tlearn: 0.3338614\ttotal: 1.67s\tremaining: 17s\n",
            "89:\tlearn: 0.3335565\ttotal: 1.68s\tremaining: 17s\n",
            "90:\tlearn: 0.3331122\ttotal: 1.71s\tremaining: 17s\n",
            "91:\tlearn: 0.3326114\ttotal: 1.72s\tremaining: 17s\n",
            "92:\tlearn: 0.3322123\ttotal: 1.74s\tremaining: 17s\n",
            "93:\tlearn: 0.3318207\ttotal: 1.76s\tremaining: 16.9s\n",
            "94:\tlearn: 0.3313581\ttotal: 1.77s\tremaining: 16.9s\n",
            "95:\tlearn: 0.3309403\ttotal: 1.79s\tremaining: 16.9s\n",
            "96:\tlearn: 0.3306630\ttotal: 1.81s\tremaining: 16.8s\n",
            "97:\tlearn: 0.3303220\ttotal: 1.82s\tremaining: 16.8s\n",
            "98:\tlearn: 0.3299464\ttotal: 1.84s\tremaining: 16.8s\n",
            "99:\tlearn: 0.3295680\ttotal: 1.86s\tremaining: 16.8s\n",
            "100:\tlearn: 0.3291459\ttotal: 1.88s\tremaining: 16.7s\n",
            "101:\tlearn: 0.3288291\ttotal: 1.89s\tremaining: 16.7s\n",
            "102:\tlearn: 0.3284590\ttotal: 1.91s\tremaining: 16.7s\n",
            "103:\tlearn: 0.3282325\ttotal: 1.94s\tremaining: 16.8s\n",
            "104:\tlearn: 0.3277230\ttotal: 1.97s\tremaining: 16.8s\n",
            "105:\tlearn: 0.3274488\ttotal: 1.99s\tremaining: 16.8s\n",
            "106:\tlearn: 0.3271558\ttotal: 2.01s\tremaining: 16.8s\n",
            "107:\tlearn: 0.3269456\ttotal: 2.02s\tremaining: 16.7s\n",
            "108:\tlearn: 0.3267148\ttotal: 2.04s\tremaining: 16.7s\n",
            "109:\tlearn: 0.3264214\ttotal: 2.06s\tremaining: 16.7s\n",
            "110:\tlearn: 0.3261883\ttotal: 2.07s\tremaining: 16.6s\n",
            "111:\tlearn: 0.3258676\ttotal: 2.1s\tremaining: 16.6s\n",
            "112:\tlearn: 0.3256637\ttotal: 2.12s\tremaining: 16.6s\n",
            "113:\tlearn: 0.3254005\ttotal: 2.14s\tremaining: 16.6s\n",
            "114:\tlearn: 0.3250654\ttotal: 2.16s\tremaining: 16.6s\n",
            "115:\tlearn: 0.3247772\ttotal: 2.17s\tremaining: 16.6s\n",
            "116:\tlearn: 0.3244460\ttotal: 2.19s\tremaining: 16.6s\n",
            "117:\tlearn: 0.3241896\ttotal: 2.21s\tremaining: 16.5s\n",
            "118:\tlearn: 0.3239388\ttotal: 2.23s\tremaining: 16.5s\n",
            "119:\tlearn: 0.3231735\ttotal: 2.25s\tremaining: 16.5s\n",
            "120:\tlearn: 0.3229295\ttotal: 2.27s\tremaining: 16.5s\n",
            "121:\tlearn: 0.3225240\ttotal: 2.28s\tremaining: 16.4s\n",
            "122:\tlearn: 0.3221220\ttotal: 2.3s\tremaining: 16.4s\n",
            "123:\tlearn: 0.3218440\ttotal: 2.32s\tremaining: 16.4s\n",
            "124:\tlearn: 0.3214350\ttotal: 2.34s\tremaining: 16.4s\n",
            "125:\tlearn: 0.3211949\ttotal: 2.36s\tremaining: 16.4s\n",
            "126:\tlearn: 0.3208108\ttotal: 2.37s\tremaining: 16.3s\n",
            "127:\tlearn: 0.3205968\ttotal: 2.39s\tremaining: 16.3s\n",
            "128:\tlearn: 0.3204635\ttotal: 2.4s\tremaining: 16.2s\n",
            "129:\tlearn: 0.3201319\ttotal: 2.42s\tremaining: 16.2s\n",
            "130:\tlearn: 0.3198537\ttotal: 2.44s\tremaining: 16.2s\n",
            "131:\tlearn: 0.3196722\ttotal: 2.46s\tremaining: 16.2s\n",
            "132:\tlearn: 0.3191691\ttotal: 2.48s\tremaining: 16.1s\n",
            "133:\tlearn: 0.3187315\ttotal: 2.49s\tremaining: 16.1s\n",
            "134:\tlearn: 0.3183407\ttotal: 2.51s\tremaining: 16.1s\n",
            "135:\tlearn: 0.3178443\ttotal: 2.53s\tremaining: 16.1s\n",
            "136:\tlearn: 0.3174624\ttotal: 2.55s\tremaining: 16.1s\n",
            "137:\tlearn: 0.3171084\ttotal: 2.57s\tremaining: 16.1s\n",
            "138:\tlearn: 0.3168505\ttotal: 2.58s\tremaining: 16s\n",
            "139:\tlearn: 0.3165860\ttotal: 2.6s\tremaining: 16s\n",
            "140:\tlearn: 0.3162170\ttotal: 2.62s\tremaining: 16s\n",
            "141:\tlearn: 0.3156882\ttotal: 2.64s\tremaining: 15.9s\n",
            "142:\tlearn: 0.3152081\ttotal: 2.65s\tremaining: 15.9s\n",
            "143:\tlearn: 0.3149937\ttotal: 2.67s\tremaining: 15.9s\n",
            "144:\tlearn: 0.3147406\ttotal: 2.69s\tremaining: 15.8s\n",
            "145:\tlearn: 0.3145799\ttotal: 2.7s\tremaining: 15.8s\n",
            "146:\tlearn: 0.3141912\ttotal: 2.72s\tremaining: 15.8s\n",
            "147:\tlearn: 0.3139383\ttotal: 2.74s\tremaining: 15.8s\n",
            "148:\tlearn: 0.3135998\ttotal: 2.76s\tremaining: 15.8s\n",
            "149:\tlearn: 0.3133902\ttotal: 2.78s\tremaining: 15.7s\n",
            "150:\tlearn: 0.3131346\ttotal: 2.8s\tremaining: 15.7s\n",
            "151:\tlearn: 0.3129826\ttotal: 2.81s\tremaining: 15.7s\n",
            "152:\tlearn: 0.3127226\ttotal: 2.83s\tremaining: 15.7s\n",
            "153:\tlearn: 0.3124793\ttotal: 2.85s\tremaining: 15.6s\n",
            "154:\tlearn: 0.3122756\ttotal: 2.86s\tremaining: 15.6s\n",
            "155:\tlearn: 0.3119816\ttotal: 2.88s\tremaining: 15.6s\n",
            "156:\tlearn: 0.3117505\ttotal: 2.9s\tremaining: 15.5s\n",
            "157:\tlearn: 0.3114875\ttotal: 2.91s\tremaining: 15.5s\n",
            "158:\tlearn: 0.3113872\ttotal: 2.94s\tremaining: 15.6s\n",
            "159:\tlearn: 0.3112358\ttotal: 2.97s\tremaining: 15.6s\n",
            "160:\tlearn: 0.3111029\ttotal: 2.99s\tremaining: 15.6s\n",
            "161:\tlearn: 0.3109109\ttotal: 3s\tremaining: 15.5s\n",
            "162:\tlearn: 0.3105348\ttotal: 3.02s\tremaining: 15.5s\n",
            "163:\tlearn: 0.3103249\ttotal: 3.04s\tremaining: 15.5s\n",
            "164:\tlearn: 0.3100906\ttotal: 3.06s\tremaining: 15.5s\n",
            "165:\tlearn: 0.3097947\ttotal: 3.08s\tremaining: 15.5s\n",
            "166:\tlearn: 0.3095765\ttotal: 3.09s\tremaining: 15.4s\n",
            "167:\tlearn: 0.3089935\ttotal: 3.11s\tremaining: 15.4s\n",
            "168:\tlearn: 0.3087810\ttotal: 3.13s\tremaining: 15.4s\n",
            "169:\tlearn: 0.3085130\ttotal: 3.15s\tremaining: 15.4s\n",
            "170:\tlearn: 0.3080986\ttotal: 3.17s\tremaining: 15.3s\n",
            "171:\tlearn: 0.3078909\ttotal: 3.18s\tremaining: 15.3s\n",
            "172:\tlearn: 0.3076398\ttotal: 3.2s\tremaining: 15.3s\n",
            "173:\tlearn: 0.3074581\ttotal: 3.22s\tremaining: 15.3s\n",
            "174:\tlearn: 0.3072435\ttotal: 3.23s\tremaining: 15.2s\n",
            "175:\tlearn: 0.3069942\ttotal: 3.25s\tremaining: 15.2s\n",
            "176:\tlearn: 0.3066889\ttotal: 3.27s\tremaining: 15.2s\n",
            "177:\tlearn: 0.3064331\ttotal: 3.28s\tremaining: 15.2s\n",
            "178:\tlearn: 0.3062997\ttotal: 3.3s\tremaining: 15.1s\n",
            "179:\tlearn: 0.3060967\ttotal: 3.32s\tremaining: 15.1s\n",
            "180:\tlearn: 0.3059442\ttotal: 3.33s\tremaining: 15.1s\n",
            "181:\tlearn: 0.3056862\ttotal: 3.35s\tremaining: 15.1s\n",
            "182:\tlearn: 0.3053943\ttotal: 3.37s\tremaining: 15.1s\n",
            "183:\tlearn: 0.3053234\ttotal: 3.39s\tremaining: 15s\n",
            "184:\tlearn: 0.3051181\ttotal: 3.41s\tremaining: 15s\n",
            "185:\tlearn: 0.3049621\ttotal: 3.43s\tremaining: 15s\n",
            "186:\tlearn: 0.3047008\ttotal: 3.45s\tremaining: 15s\n",
            "187:\tlearn: 0.3044666\ttotal: 3.47s\tremaining: 15s\n",
            "188:\tlearn: 0.3041114\ttotal: 3.48s\tremaining: 15s\n",
            "189:\tlearn: 0.3039593\ttotal: 3.5s\tremaining: 14.9s\n",
            "190:\tlearn: 0.3038414\ttotal: 3.52s\tremaining: 14.9s\n",
            "191:\tlearn: 0.3036243\ttotal: 3.54s\tremaining: 14.9s\n",
            "192:\tlearn: 0.3033793\ttotal: 3.56s\tremaining: 14.9s\n",
            "193:\tlearn: 0.3031835\ttotal: 3.58s\tremaining: 14.9s\n",
            "194:\tlearn: 0.3029998\ttotal: 3.59s\tremaining: 14.8s\n",
            "195:\tlearn: 0.3028886\ttotal: 3.61s\tremaining: 14.8s\n",
            "196:\tlearn: 0.3026726\ttotal: 3.63s\tremaining: 14.8s\n",
            "197:\tlearn: 0.3024388\ttotal: 3.65s\tremaining: 14.8s\n",
            "198:\tlearn: 0.3022982\ttotal: 3.66s\tremaining: 14.8s\n",
            "199:\tlearn: 0.3020029\ttotal: 3.68s\tremaining: 14.7s\n",
            "200:\tlearn: 0.3016501\ttotal: 3.7s\tremaining: 14.7s\n",
            "201:\tlearn: 0.3013632\ttotal: 3.72s\tremaining: 14.7s\n",
            "202:\tlearn: 0.3011434\ttotal: 3.73s\tremaining: 14.7s\n",
            "203:\tlearn: 0.3006613\ttotal: 3.75s\tremaining: 14.6s\n",
            "204:\tlearn: 0.3004914\ttotal: 3.77s\tremaining: 14.6s\n",
            "205:\tlearn: 0.3003950\ttotal: 3.79s\tremaining: 14.6s\n",
            "206:\tlearn: 0.3002670\ttotal: 3.81s\tremaining: 14.6s\n",
            "207:\tlearn: 0.3000005\ttotal: 3.82s\tremaining: 14.6s\n",
            "208:\tlearn: 0.2994113\ttotal: 3.84s\tremaining: 14.5s\n",
            "209:\tlearn: 0.2992402\ttotal: 3.86s\tremaining: 14.5s\n",
            "210:\tlearn: 0.2990596\ttotal: 3.88s\tremaining: 14.5s\n",
            "211:\tlearn: 0.2985089\ttotal: 3.89s\tremaining: 14.5s\n",
            "212:\tlearn: 0.2982946\ttotal: 3.91s\tremaining: 14.4s\n",
            "213:\tlearn: 0.2981995\ttotal: 3.93s\tremaining: 14.4s\n",
            "214:\tlearn: 0.2980577\ttotal: 3.97s\tremaining: 14.5s\n",
            "215:\tlearn: 0.2979053\ttotal: 3.99s\tremaining: 14.5s\n",
            "216:\tlearn: 0.2975703\ttotal: 4s\tremaining: 14.4s\n",
            "217:\tlearn: 0.2974173\ttotal: 4.02s\tremaining: 14.4s\n",
            "218:\tlearn: 0.2971778\ttotal: 4.04s\tremaining: 14.4s\n",
            "219:\tlearn: 0.2970559\ttotal: 4.05s\tremaining: 14.4s\n",
            "220:\tlearn: 0.2967795\ttotal: 4.07s\tremaining: 14.4s\n",
            "221:\tlearn: 0.2965500\ttotal: 4.09s\tremaining: 14.3s\n",
            "222:\tlearn: 0.2964072\ttotal: 4.11s\tremaining: 14.3s\n",
            "223:\tlearn: 0.2961220\ttotal: 4.13s\tremaining: 14.3s\n",
            "224:\tlearn: 0.2957657\ttotal: 4.15s\tremaining: 14.3s\n",
            "225:\tlearn: 0.2952840\ttotal: 4.16s\tremaining: 14.3s\n",
            "226:\tlearn: 0.2950809\ttotal: 4.18s\tremaining: 14.2s\n",
            "227:\tlearn: 0.2948690\ttotal: 4.2s\tremaining: 14.2s\n",
            "228:\tlearn: 0.2946776\ttotal: 4.22s\tremaining: 14.2s\n",
            "229:\tlearn: 0.2943718\ttotal: 4.24s\tremaining: 14.2s\n",
            "230:\tlearn: 0.2941831\ttotal: 4.25s\tremaining: 14.2s\n",
            "231:\tlearn: 0.2939388\ttotal: 4.27s\tremaining: 14.1s\n",
            "232:\tlearn: 0.2937511\ttotal: 4.29s\tremaining: 14.1s\n",
            "233:\tlearn: 0.2933280\ttotal: 4.3s\tremaining: 14.1s\n",
            "234:\tlearn: 0.2931813\ttotal: 4.32s\tremaining: 14.1s\n",
            "235:\tlearn: 0.2928746\ttotal: 4.34s\tremaining: 14s\n",
            "236:\tlearn: 0.2927092\ttotal: 4.35s\tremaining: 14s\n",
            "237:\tlearn: 0.2924204\ttotal: 4.37s\tremaining: 14s\n",
            "238:\tlearn: 0.2922529\ttotal: 4.39s\tremaining: 14s\n",
            "239:\tlearn: 0.2922053\ttotal: 4.41s\tremaining: 14s\n",
            "240:\tlearn: 0.2917248\ttotal: 4.43s\tremaining: 13.9s\n",
            "241:\tlearn: 0.2914143\ttotal: 4.45s\tremaining: 13.9s\n",
            "242:\tlearn: 0.2913059\ttotal: 4.46s\tremaining: 13.9s\n",
            "243:\tlearn: 0.2911745\ttotal: 4.48s\tremaining: 13.9s\n",
            "244:\tlearn: 0.2909508\ttotal: 4.5s\tremaining: 13.9s\n",
            "245:\tlearn: 0.2907357\ttotal: 4.51s\tremaining: 13.8s\n",
            "246:\tlearn: 0.2905526\ttotal: 4.53s\tremaining: 13.8s\n",
            "247:\tlearn: 0.2902933\ttotal: 4.55s\tremaining: 13.8s\n",
            "248:\tlearn: 0.2901855\ttotal: 4.57s\tremaining: 13.8s\n",
            "249:\tlearn: 0.2899729\ttotal: 4.58s\tremaining: 13.8s\n",
            "250:\tlearn: 0.2896729\ttotal: 4.6s\tremaining: 13.7s\n",
            "251:\tlearn: 0.2894796\ttotal: 4.62s\tremaining: 13.7s\n",
            "252:\tlearn: 0.2892419\ttotal: 4.64s\tremaining: 13.7s\n",
            "253:\tlearn: 0.2890405\ttotal: 4.66s\tremaining: 13.7s\n",
            "254:\tlearn: 0.2887914\ttotal: 4.67s\tremaining: 13.7s\n",
            "255:\tlearn: 0.2885057\ttotal: 4.69s\tremaining: 13.6s\n",
            "256:\tlearn: 0.2883473\ttotal: 4.71s\tremaining: 13.6s\n",
            "257:\tlearn: 0.2881959\ttotal: 4.72s\tremaining: 13.6s\n",
            "258:\tlearn: 0.2880443\ttotal: 4.74s\tremaining: 13.6s\n",
            "259:\tlearn: 0.2878519\ttotal: 4.76s\tremaining: 13.5s\n",
            "260:\tlearn: 0.2876945\ttotal: 4.78s\tremaining: 13.5s\n",
            "261:\tlearn: 0.2872575\ttotal: 4.8s\tremaining: 13.5s\n",
            "262:\tlearn: 0.2870699\ttotal: 4.81s\tremaining: 13.5s\n",
            "263:\tlearn: 0.2867457\ttotal: 4.83s\tremaining: 13.5s\n",
            "264:\tlearn: 0.2865052\ttotal: 4.85s\tremaining: 13.5s\n",
            "265:\tlearn: 0.2863985\ttotal: 4.87s\tremaining: 13.4s\n",
            "266:\tlearn: 0.2863629\ttotal: 4.88s\tremaining: 13.4s\n",
            "267:\tlearn: 0.2861630\ttotal: 4.9s\tremaining: 13.4s\n",
            "268:\tlearn: 0.2859966\ttotal: 4.92s\tremaining: 13.4s\n",
            "269:\tlearn: 0.2858661\ttotal: 4.96s\tremaining: 13.4s\n",
            "270:\tlearn: 0.2858233\ttotal: 4.98s\tremaining: 13.4s\n",
            "271:\tlearn: 0.2856759\ttotal: 4.99s\tremaining: 13.4s\n",
            "272:\tlearn: 0.2854994\ttotal: 5.01s\tremaining: 13.3s\n",
            "273:\tlearn: 0.2851547\ttotal: 5.03s\tremaining: 13.3s\n",
            "274:\tlearn: 0.2849162\ttotal: 5.05s\tremaining: 13.3s\n",
            "275:\tlearn: 0.2846515\ttotal: 5.07s\tremaining: 13.3s\n",
            "276:\tlearn: 0.2846100\ttotal: 5.09s\tremaining: 13.3s\n",
            "277:\tlearn: 0.2843783\ttotal: 5.11s\tremaining: 13.3s\n",
            "278:\tlearn: 0.2841686\ttotal: 5.13s\tremaining: 13.2s\n",
            "279:\tlearn: 0.2840996\ttotal: 5.14s\tremaining: 13.2s\n",
            "280:\tlearn: 0.2840608\ttotal: 5.16s\tremaining: 13.2s\n",
            "281:\tlearn: 0.2838846\ttotal: 5.18s\tremaining: 13.2s\n",
            "282:\tlearn: 0.2836188\ttotal: 5.19s\tremaining: 13.2s\n",
            "283:\tlearn: 0.2835868\ttotal: 5.21s\tremaining: 13.1s\n",
            "284:\tlearn: 0.2833998\ttotal: 5.23s\tremaining: 13.1s\n",
            "285:\tlearn: 0.2833681\ttotal: 5.24s\tremaining: 13.1s\n",
            "286:\tlearn: 0.2831760\ttotal: 5.26s\tremaining: 13.1s\n",
            "287:\tlearn: 0.2829762\ttotal: 5.28s\tremaining: 13.1s\n",
            "288:\tlearn: 0.2827028\ttotal: 5.3s\tremaining: 13s\n",
            "289:\tlearn: 0.2824290\ttotal: 5.32s\tremaining: 13s\n",
            "290:\tlearn: 0.2822648\ttotal: 5.34s\tremaining: 13s\n",
            "291:\tlearn: 0.2820788\ttotal: 5.36s\tremaining: 13s\n",
            "292:\tlearn: 0.2819323\ttotal: 5.37s\tremaining: 13s\n",
            "293:\tlearn: 0.2817711\ttotal: 5.39s\tremaining: 12.9s\n",
            "294:\tlearn: 0.2817150\ttotal: 5.41s\tremaining: 12.9s\n",
            "295:\tlearn: 0.2815133\ttotal: 5.43s\tremaining: 12.9s\n",
            "296:\tlearn: 0.2814020\ttotal: 5.45s\tremaining: 12.9s\n",
            "297:\tlearn: 0.2811785\ttotal: 5.47s\tremaining: 12.9s\n",
            "298:\tlearn: 0.2808059\ttotal: 5.49s\tremaining: 12.9s\n",
            "299:\tlearn: 0.2805593\ttotal: 5.5s\tremaining: 12.8s\n",
            "300:\tlearn: 0.2804503\ttotal: 5.52s\tremaining: 12.8s\n",
            "301:\tlearn: 0.2803652\ttotal: 5.54s\tremaining: 12.8s\n",
            "302:\tlearn: 0.2801202\ttotal: 5.56s\tremaining: 12.8s\n",
            "303:\tlearn: 0.2799825\ttotal: 5.58s\tremaining: 12.8s\n",
            "304:\tlearn: 0.2799564\ttotal: 5.59s\tremaining: 12.7s\n",
            "305:\tlearn: 0.2799036\ttotal: 5.61s\tremaining: 12.7s\n",
            "306:\tlearn: 0.2796074\ttotal: 5.63s\tremaining: 12.7s\n",
            "307:\tlearn: 0.2793741\ttotal: 5.65s\tremaining: 12.7s\n",
            "308:\tlearn: 0.2791871\ttotal: 5.66s\tremaining: 12.7s\n",
            "309:\tlearn: 0.2790009\ttotal: 5.69s\tremaining: 12.7s\n",
            "310:\tlearn: 0.2789084\ttotal: 5.7s\tremaining: 12.6s\n",
            "311:\tlearn: 0.2788835\ttotal: 5.72s\tremaining: 12.6s\n",
            "312:\tlearn: 0.2787202\ttotal: 5.74s\tremaining: 12.6s\n",
            "313:\tlearn: 0.2785026\ttotal: 5.75s\tremaining: 12.6s\n",
            "314:\tlearn: 0.2781834\ttotal: 5.78s\tremaining: 12.6s\n",
            "315:\tlearn: 0.2778716\ttotal: 5.79s\tremaining: 12.5s\n",
            "316:\tlearn: 0.2777663\ttotal: 5.81s\tremaining: 12.5s\n",
            "317:\tlearn: 0.2776071\ttotal: 5.83s\tremaining: 12.5s\n",
            "318:\tlearn: 0.2775827\ttotal: 5.84s\tremaining: 12.5s\n",
            "319:\tlearn: 0.2774302\ttotal: 5.86s\tremaining: 12.5s\n",
            "320:\tlearn: 0.2772693\ttotal: 5.88s\tremaining: 12.4s\n",
            "321:\tlearn: 0.2770882\ttotal: 5.9s\tremaining: 12.4s\n",
            "322:\tlearn: 0.2770103\ttotal: 5.91s\tremaining: 12.4s\n",
            "323:\tlearn: 0.2769871\ttotal: 5.95s\tremaining: 12.4s\n",
            "324:\tlearn: 0.2769352\ttotal: 5.98s\tremaining: 12.4s\n",
            "325:\tlearn: 0.2767662\ttotal: 6s\tremaining: 12.4s\n",
            "326:\tlearn: 0.2766457\ttotal: 6.02s\tremaining: 12.4s\n",
            "327:\tlearn: 0.2765049\ttotal: 6.03s\tremaining: 12.4s\n",
            "328:\tlearn: 0.2763877\ttotal: 6.05s\tremaining: 12.3s\n",
            "329:\tlearn: 0.2760504\ttotal: 6.07s\tremaining: 12.3s\n",
            "330:\tlearn: 0.2758948\ttotal: 6.08s\tremaining: 12.3s\n",
            "331:\tlearn: 0.2756837\ttotal: 6.1s\tremaining: 12.3s\n",
            "332:\tlearn: 0.2753147\ttotal: 6.12s\tremaining: 12.3s\n",
            "333:\tlearn: 0.2751173\ttotal: 6.14s\tremaining: 12.2s\n",
            "334:\tlearn: 0.2749510\ttotal: 6.15s\tremaining: 12.2s\n",
            "335:\tlearn: 0.2748348\ttotal: 6.17s\tremaining: 12.2s\n",
            "336:\tlearn: 0.2745223\ttotal: 6.19s\tremaining: 12.2s\n",
            "337:\tlearn: 0.2744331\ttotal: 6.21s\tremaining: 12.2s\n",
            "338:\tlearn: 0.2744139\ttotal: 6.22s\tremaining: 12.1s\n",
            "339:\tlearn: 0.2742325\ttotal: 6.24s\tremaining: 12.1s\n",
            "340:\tlearn: 0.2739988\ttotal: 6.26s\tremaining: 12.1s\n",
            "341:\tlearn: 0.2738998\ttotal: 6.28s\tremaining: 12.1s\n",
            "342:\tlearn: 0.2737238\ttotal: 6.29s\tremaining: 12.1s\n",
            "343:\tlearn: 0.2735366\ttotal: 6.32s\tremaining: 12s\n",
            "344:\tlearn: 0.2733414\ttotal: 6.33s\tremaining: 12s\n",
            "345:\tlearn: 0.2732412\ttotal: 6.35s\tremaining: 12s\n",
            "346:\tlearn: 0.2730877\ttotal: 6.37s\tremaining: 12s\n",
            "347:\tlearn: 0.2728279\ttotal: 6.38s\tremaining: 12s\n",
            "348:\tlearn: 0.2726594\ttotal: 6.4s\tremaining: 11.9s\n",
            "349:\tlearn: 0.2724878\ttotal: 6.42s\tremaining: 11.9s\n",
            "350:\tlearn: 0.2722644\ttotal: 6.44s\tremaining: 11.9s\n",
            "351:\tlearn: 0.2721899\ttotal: 6.45s\tremaining: 11.9s\n",
            "352:\tlearn: 0.2721341\ttotal: 6.47s\tremaining: 11.9s\n",
            "353:\tlearn: 0.2719128\ttotal: 6.49s\tremaining: 11.8s\n",
            "354:\tlearn: 0.2718932\ttotal: 6.5s\tremaining: 11.8s\n",
            "355:\tlearn: 0.2717708\ttotal: 6.53s\tremaining: 11.8s\n",
            "356:\tlearn: 0.2716747\ttotal: 6.54s\tremaining: 11.8s\n",
            "357:\tlearn: 0.2714357\ttotal: 6.56s\tremaining: 11.8s\n",
            "358:\tlearn: 0.2712540\ttotal: 6.58s\tremaining: 11.7s\n",
            "359:\tlearn: 0.2712349\ttotal: 6.59s\tremaining: 11.7s\n",
            "360:\tlearn: 0.2712192\ttotal: 6.61s\tremaining: 11.7s\n",
            "361:\tlearn: 0.2710489\ttotal: 6.63s\tremaining: 11.7s\n",
            "362:\tlearn: 0.2709073\ttotal: 6.65s\tremaining: 11.7s\n",
            "363:\tlearn: 0.2707528\ttotal: 6.66s\tremaining: 11.6s\n",
            "364:\tlearn: 0.2707340\ttotal: 6.68s\tremaining: 11.6s\n",
            "365:\tlearn: 0.2705115\ttotal: 6.7s\tremaining: 11.6s\n",
            "366:\tlearn: 0.2703794\ttotal: 6.71s\tremaining: 11.6s\n",
            "367:\tlearn: 0.2702558\ttotal: 6.74s\tremaining: 11.6s\n",
            "368:\tlearn: 0.2700518\ttotal: 6.75s\tremaining: 11.5s\n",
            "369:\tlearn: 0.2699332\ttotal: 6.77s\tremaining: 11.5s\n",
            "370:\tlearn: 0.2698895\ttotal: 6.79s\tremaining: 11.5s\n",
            "371:\tlearn: 0.2698396\ttotal: 6.8s\tremaining: 11.5s\n",
            "372:\tlearn: 0.2694809\ttotal: 6.82s\tremaining: 11.5s\n",
            "373:\tlearn: 0.2691994\ttotal: 6.84s\tremaining: 11.4s\n",
            "374:\tlearn: 0.2689713\ttotal: 6.86s\tremaining: 11.4s\n",
            "375:\tlearn: 0.2689512\ttotal: 6.87s\tremaining: 11.4s\n",
            "376:\tlearn: 0.2689029\ttotal: 6.89s\tremaining: 11.4s\n",
            "377:\tlearn: 0.2687217\ttotal: 6.91s\tremaining: 11.4s\n",
            "378:\tlearn: 0.2686314\ttotal: 6.93s\tremaining: 11.4s\n",
            "379:\tlearn: 0.2684998\ttotal: 6.99s\tremaining: 11.4s\n",
            "380:\tlearn: 0.2683091\ttotal: 7.01s\tremaining: 11.4s\n",
            "381:\tlearn: 0.2681151\ttotal: 7.03s\tremaining: 11.4s\n",
            "382:\tlearn: 0.2680755\ttotal: 7.04s\tremaining: 11.3s\n",
            "383:\tlearn: 0.2678985\ttotal: 7.06s\tremaining: 11.3s\n",
            "384:\tlearn: 0.2678362\ttotal: 7.08s\tremaining: 11.3s\n",
            "385:\tlearn: 0.2675729\ttotal: 7.09s\tremaining: 11.3s\n",
            "386:\tlearn: 0.2674637\ttotal: 7.11s\tremaining: 11.3s\n",
            "387:\tlearn: 0.2673303\ttotal: 7.13s\tremaining: 11.3s\n",
            "388:\tlearn: 0.2671281\ttotal: 7.15s\tremaining: 11.2s\n",
            "389:\tlearn: 0.2667983\ttotal: 7.17s\tremaining: 11.2s\n",
            "390:\tlearn: 0.2666926\ttotal: 7.18s\tremaining: 11.2s\n",
            "391:\tlearn: 0.2665122\ttotal: 7.2s\tremaining: 11.2s\n",
            "392:\tlearn: 0.2662967\ttotal: 7.22s\tremaining: 11.2s\n",
            "393:\tlearn: 0.2662387\ttotal: 7.24s\tremaining: 11.1s\n",
            "394:\tlearn: 0.2660128\ttotal: 7.26s\tremaining: 11.1s\n",
            "395:\tlearn: 0.2659035\ttotal: 7.27s\tremaining: 11.1s\n",
            "396:\tlearn: 0.2658158\ttotal: 7.29s\tremaining: 11.1s\n",
            "397:\tlearn: 0.2656907\ttotal: 7.31s\tremaining: 11.1s\n",
            "398:\tlearn: 0.2656736\ttotal: 7.32s\tremaining: 11s\n",
            "399:\tlearn: 0.2655791\ttotal: 7.34s\tremaining: 11s\n",
            "400:\tlearn: 0.2654797\ttotal: 7.36s\tremaining: 11s\n",
            "401:\tlearn: 0.2653696\ttotal: 7.38s\tremaining: 11s\n",
            "402:\tlearn: 0.2650957\ttotal: 7.39s\tremaining: 11s\n",
            "403:\tlearn: 0.2649973\ttotal: 7.41s\tremaining: 10.9s\n",
            "404:\tlearn: 0.2648802\ttotal: 7.43s\tremaining: 10.9s\n",
            "405:\tlearn: 0.2647705\ttotal: 7.45s\tremaining: 10.9s\n",
            "406:\tlearn: 0.2647347\ttotal: 7.46s\tremaining: 10.9s\n",
            "407:\tlearn: 0.2646567\ttotal: 7.48s\tremaining: 10.9s\n",
            "408:\tlearn: 0.2645322\ttotal: 7.5s\tremaining: 10.8s\n",
            "409:\tlearn: 0.2644442\ttotal: 7.52s\tremaining: 10.8s\n",
            "410:\tlearn: 0.2642003\ttotal: 7.54s\tremaining: 10.8s\n",
            "411:\tlearn: 0.2640263\ttotal: 7.55s\tremaining: 10.8s\n",
            "412:\tlearn: 0.2638068\ttotal: 7.57s\tremaining: 10.8s\n",
            "413:\tlearn: 0.2636143\ttotal: 7.59s\tremaining: 10.7s\n",
            "414:\tlearn: 0.2636019\ttotal: 7.6s\tremaining: 10.7s\n",
            "415:\tlearn: 0.2635863\ttotal: 7.62s\tremaining: 10.7s\n",
            "416:\tlearn: 0.2633745\ttotal: 7.64s\tremaining: 10.7s\n",
            "417:\tlearn: 0.2633403\ttotal: 7.66s\tremaining: 10.7s\n",
            "418:\tlearn: 0.2631084\ttotal: 7.67s\tremaining: 10.6s\n",
            "419:\tlearn: 0.2629570\ttotal: 7.69s\tremaining: 10.6s\n",
            "420:\tlearn: 0.2626845\ttotal: 7.71s\tremaining: 10.6s\n",
            "421:\tlearn: 0.2625523\ttotal: 7.72s\tremaining: 10.6s\n",
            "422:\tlearn: 0.2624037\ttotal: 7.74s\tremaining: 10.6s\n",
            "423:\tlearn: 0.2623568\ttotal: 7.76s\tremaining: 10.5s\n",
            "424:\tlearn: 0.2621431\ttotal: 7.78s\tremaining: 10.5s\n",
            "425:\tlearn: 0.2618662\ttotal: 7.79s\tremaining: 10.5s\n",
            "426:\tlearn: 0.2617509\ttotal: 7.81s\tremaining: 10.5s\n",
            "427:\tlearn: 0.2615918\ttotal: 7.83s\tremaining: 10.5s\n",
            "428:\tlearn: 0.2615766\ttotal: 7.85s\tremaining: 10.4s\n",
            "429:\tlearn: 0.2615586\ttotal: 7.86s\tremaining: 10.4s\n",
            "430:\tlearn: 0.2614425\ttotal: 7.88s\tremaining: 10.4s\n",
            "431:\tlearn: 0.2613363\ttotal: 7.89s\tremaining: 10.4s\n",
            "432:\tlearn: 0.2611120\ttotal: 7.91s\tremaining: 10.4s\n",
            "433:\tlearn: 0.2609416\ttotal: 7.93s\tremaining: 10.3s\n",
            "434:\tlearn: 0.2608708\ttotal: 7.95s\tremaining: 10.3s\n",
            "435:\tlearn: 0.2608142\ttotal: 8s\tremaining: 10.3s\n",
            "436:\tlearn: 0.2606866\ttotal: 8.02s\tremaining: 10.3s\n",
            "437:\tlearn: 0.2605147\ttotal: 8.04s\tremaining: 10.3s\n",
            "438:\tlearn: 0.2604128\ttotal: 8.06s\tremaining: 10.3s\n",
            "439:\tlearn: 0.2602627\ttotal: 8.08s\tremaining: 10.3s\n",
            "440:\tlearn: 0.2601297\ttotal: 8.1s\tremaining: 10.3s\n",
            "441:\tlearn: 0.2598244\ttotal: 8.11s\tremaining: 10.2s\n",
            "442:\tlearn: 0.2595206\ttotal: 8.13s\tremaining: 10.2s\n",
            "443:\tlearn: 0.2593862\ttotal: 8.15s\tremaining: 10.2s\n",
            "444:\tlearn: 0.2592437\ttotal: 8.17s\tremaining: 10.2s\n",
            "445:\tlearn: 0.2591421\ttotal: 8.19s\tremaining: 10.2s\n",
            "446:\tlearn: 0.2591235\ttotal: 8.21s\tremaining: 10.2s\n",
            "447:\tlearn: 0.2589588\ttotal: 8.22s\tremaining: 10.1s\n",
            "448:\tlearn: 0.2588008\ttotal: 8.24s\tremaining: 10.1s\n",
            "449:\tlearn: 0.2586037\ttotal: 8.26s\tremaining: 10.1s\n",
            "450:\tlearn: 0.2585149\ttotal: 8.28s\tremaining: 10.1s\n",
            "451:\tlearn: 0.2582455\ttotal: 8.29s\tremaining: 10.1s\n",
            "452:\tlearn: 0.2578371\ttotal: 8.31s\tremaining: 10s\n",
            "453:\tlearn: 0.2577534\ttotal: 8.32s\tremaining: 10s\n",
            "454:\tlearn: 0.2576179\ttotal: 8.34s\tremaining: 9.99s\n",
            "455:\tlearn: 0.2573250\ttotal: 8.36s\tremaining: 9.97s\n",
            "456:\tlearn: 0.2570516\ttotal: 8.38s\tremaining: 9.96s\n",
            "457:\tlearn: 0.2569287\ttotal: 8.39s\tremaining: 9.94s\n",
            "458:\tlearn: 0.2569143\ttotal: 8.41s\tremaining: 9.91s\n",
            "459:\tlearn: 0.2565940\ttotal: 8.43s\tremaining: 9.9s\n",
            "460:\tlearn: 0.2564193\ttotal: 8.45s\tremaining: 9.88s\n",
            "461:\tlearn: 0.2562884\ttotal: 8.47s\tremaining: 9.87s\n",
            "462:\tlearn: 0.2561431\ttotal: 8.49s\tremaining: 9.85s\n",
            "463:\tlearn: 0.2559296\ttotal: 8.51s\tremaining: 9.83s\n",
            "464:\tlearn: 0.2558058\ttotal: 8.52s\tremaining: 9.81s\n",
            "465:\tlearn: 0.2557958\ttotal: 8.54s\tremaining: 9.79s\n",
            "466:\tlearn: 0.2556741\ttotal: 8.56s\tremaining: 9.77s\n",
            "467:\tlearn: 0.2554452\ttotal: 8.57s\tremaining: 9.75s\n",
            "468:\tlearn: 0.2553560\ttotal: 8.59s\tremaining: 9.73s\n",
            "469:\tlearn: 0.2552749\ttotal: 8.61s\tremaining: 9.71s\n",
            "470:\tlearn: 0.2550093\ttotal: 8.63s\tremaining: 9.69s\n",
            "471:\tlearn: 0.2549440\ttotal: 8.65s\tremaining: 9.67s\n",
            "472:\tlearn: 0.2547968\ttotal: 8.66s\tremaining: 9.65s\n",
            "473:\tlearn: 0.2546484\ttotal: 8.69s\tremaining: 9.64s\n",
            "474:\tlearn: 0.2546257\ttotal: 8.7s\tremaining: 9.62s\n",
            "475:\tlearn: 0.2546161\ttotal: 8.72s\tremaining: 9.6s\n",
            "476:\tlearn: 0.2544379\ttotal: 8.73s\tremaining: 9.58s\n",
            "477:\tlearn: 0.2542834\ttotal: 8.75s\tremaining: 9.56s\n",
            "478:\tlearn: 0.2541534\ttotal: 8.77s\tremaining: 9.54s\n",
            "479:\tlearn: 0.2539539\ttotal: 8.79s\tremaining: 9.52s\n",
            "480:\tlearn: 0.2536938\ttotal: 8.8s\tremaining: 9.5s\n",
            "481:\tlearn: 0.2533390\ttotal: 8.82s\tremaining: 9.48s\n",
            "482:\tlearn: 0.2531914\ttotal: 8.84s\tremaining: 9.46s\n",
            "483:\tlearn: 0.2530561\ttotal: 8.86s\tremaining: 9.44s\n",
            "484:\tlearn: 0.2529356\ttotal: 8.87s\tremaining: 9.42s\n",
            "485:\tlearn: 0.2527755\ttotal: 8.89s\tremaining: 9.41s\n",
            "486:\tlearn: 0.2527642\ttotal: 8.91s\tremaining: 9.39s\n",
            "487:\tlearn: 0.2526275\ttotal: 8.93s\tremaining: 9.37s\n",
            "488:\tlearn: 0.2524701\ttotal: 8.95s\tremaining: 9.35s\n",
            "489:\tlearn: 0.2524039\ttotal: 8.99s\tremaining: 9.36s\n",
            "490:\tlearn: 0.2523064\ttotal: 9.02s\tremaining: 9.35s\n",
            "491:\tlearn: 0.2521732\ttotal: 9.03s\tremaining: 9.33s\n",
            "492:\tlearn: 0.2520401\ttotal: 9.05s\tremaining: 9.31s\n",
            "493:\tlearn: 0.2518401\ttotal: 9.07s\tremaining: 9.29s\n",
            "494:\tlearn: 0.2516774\ttotal: 9.09s\tremaining: 9.27s\n",
            "495:\tlearn: 0.2515685\ttotal: 9.11s\tremaining: 9.26s\n",
            "496:\tlearn: 0.2513829\ttotal: 9.13s\tremaining: 9.24s\n",
            "497:\tlearn: 0.2512538\ttotal: 9.14s\tremaining: 9.21s\n",
            "498:\tlearn: 0.2510798\ttotal: 9.16s\tremaining: 9.2s\n",
            "499:\tlearn: 0.2509037\ttotal: 9.18s\tremaining: 9.18s\n",
            "500:\tlearn: 0.2507781\ttotal: 9.19s\tremaining: 9.15s\n",
            "501:\tlearn: 0.2507491\ttotal: 9.21s\tremaining: 9.13s\n",
            "502:\tlearn: 0.2506695\ttotal: 9.22s\tremaining: 9.11s\n",
            "503:\tlearn: 0.2506097\ttotal: 9.24s\tremaining: 9.1s\n",
            "504:\tlearn: 0.2503714\ttotal: 9.26s\tremaining: 9.07s\n",
            "505:\tlearn: 0.2501613\ttotal: 9.28s\tremaining: 9.05s\n",
            "506:\tlearn: 0.2500566\ttotal: 9.29s\tremaining: 9.04s\n",
            "507:\tlearn: 0.2499092\ttotal: 9.31s\tremaining: 9.02s\n",
            "508:\tlearn: 0.2498481\ttotal: 9.33s\tremaining: 9s\n",
            "509:\tlearn: 0.2497329\ttotal: 9.35s\tremaining: 8.98s\n",
            "510:\tlearn: 0.2496465\ttotal: 9.37s\tremaining: 8.96s\n",
            "511:\tlearn: 0.2495634\ttotal: 9.38s\tremaining: 8.95s\n",
            "512:\tlearn: 0.2493331\ttotal: 9.4s\tremaining: 8.93s\n",
            "513:\tlearn: 0.2491024\ttotal: 9.42s\tremaining: 8.91s\n",
            "514:\tlearn: 0.2490387\ttotal: 9.45s\tremaining: 8.89s\n",
            "515:\tlearn: 0.2489165\ttotal: 9.47s\tremaining: 8.88s\n",
            "516:\tlearn: 0.2486766\ttotal: 9.49s\tremaining: 8.86s\n",
            "517:\tlearn: 0.2485004\ttotal: 9.51s\tremaining: 8.85s\n",
            "518:\tlearn: 0.2483652\ttotal: 9.53s\tremaining: 8.83s\n",
            "519:\tlearn: 0.2483475\ttotal: 9.55s\tremaining: 8.81s\n",
            "520:\tlearn: 0.2482914\ttotal: 9.57s\tremaining: 8.8s\n",
            "521:\tlearn: 0.2482302\ttotal: 9.59s\tremaining: 8.78s\n",
            "522:\tlearn: 0.2479017\ttotal: 9.6s\tremaining: 8.76s\n",
            "523:\tlearn: 0.2478279\ttotal: 9.62s\tremaining: 8.74s\n",
            "524:\tlearn: 0.2475744\ttotal: 9.64s\tremaining: 8.72s\n",
            "525:\tlearn: 0.2474064\ttotal: 9.66s\tremaining: 8.7s\n",
            "526:\tlearn: 0.2473961\ttotal: 9.68s\tremaining: 8.68s\n",
            "527:\tlearn: 0.2472172\ttotal: 9.69s\tremaining: 8.66s\n",
            "528:\tlearn: 0.2470937\ttotal: 9.71s\tremaining: 8.64s\n",
            "529:\tlearn: 0.2467610\ttotal: 9.73s\tremaining: 8.63s\n",
            "530:\tlearn: 0.2466939\ttotal: 9.74s\tremaining: 8.61s\n",
            "531:\tlearn: 0.2466456\ttotal: 9.76s\tremaining: 8.59s\n",
            "532:\tlearn: 0.2466375\ttotal: 9.78s\tremaining: 8.57s\n",
            "533:\tlearn: 0.2465003\ttotal: 9.8s\tremaining: 8.55s\n",
            "534:\tlearn: 0.2464897\ttotal: 9.81s\tremaining: 8.53s\n",
            "535:\tlearn: 0.2462448\ttotal: 9.83s\tremaining: 8.51s\n",
            "536:\tlearn: 0.2461157\ttotal: 9.85s\tremaining: 8.49s\n",
            "537:\tlearn: 0.2460344\ttotal: 9.87s\tremaining: 8.47s\n",
            "538:\tlearn: 0.2459854\ttotal: 9.88s\tremaining: 8.45s\n",
            "539:\tlearn: 0.2459313\ttotal: 9.9s\tremaining: 8.43s\n",
            "540:\tlearn: 0.2457658\ttotal: 9.92s\tremaining: 8.41s\n",
            "541:\tlearn: 0.2456320\ttotal: 9.94s\tremaining: 8.4s\n",
            "542:\tlearn: 0.2455106\ttotal: 9.98s\tremaining: 8.4s\n",
            "543:\tlearn: 0.2454491\ttotal: 10s\tremaining: 8.4s\n",
            "544:\tlearn: 0.2452541\ttotal: 10s\tremaining: 8.38s\n",
            "545:\tlearn: 0.2451321\ttotal: 10.1s\tremaining: 8.36s\n",
            "546:\tlearn: 0.2449395\ttotal: 10.1s\tremaining: 8.34s\n",
            "547:\tlearn: 0.2449309\ttotal: 10.1s\tremaining: 8.32s\n",
            "548:\tlearn: 0.2447948\ttotal: 10.1s\tremaining: 8.3s\n",
            "549:\tlearn: 0.2446893\ttotal: 10.1s\tremaining: 8.28s\n",
            "550:\tlearn: 0.2446029\ttotal: 10.1s\tremaining: 8.26s\n",
            "551:\tlearn: 0.2445406\ttotal: 10.2s\tremaining: 8.24s\n",
            "552:\tlearn: 0.2444440\ttotal: 10.2s\tremaining: 8.23s\n",
            "553:\tlearn: 0.2443132\ttotal: 10.2s\tremaining: 8.21s\n",
            "554:\tlearn: 0.2442349\ttotal: 10.2s\tremaining: 8.19s\n",
            "555:\tlearn: 0.2442271\ttotal: 10.2s\tremaining: 8.17s\n",
            "556:\tlearn: 0.2441641\ttotal: 10.3s\tremaining: 8.15s\n",
            "557:\tlearn: 0.2439414\ttotal: 10.3s\tremaining: 8.13s\n",
            "558:\tlearn: 0.2437495\ttotal: 10.3s\tremaining: 8.12s\n",
            "559:\tlearn: 0.2435583\ttotal: 10.3s\tremaining: 8.1s\n",
            "560:\tlearn: 0.2435182\ttotal: 10.3s\tremaining: 8.08s\n",
            "561:\tlearn: 0.2433935\ttotal: 10.3s\tremaining: 8.06s\n",
            "562:\tlearn: 0.2432431\ttotal: 10.4s\tremaining: 8.04s\n",
            "563:\tlearn: 0.2431359\ttotal: 10.4s\tremaining: 8.02s\n",
            "564:\tlearn: 0.2430057\ttotal: 10.4s\tremaining: 8s\n",
            "565:\tlearn: 0.2427951\ttotal: 10.4s\tremaining: 7.98s\n",
            "566:\tlearn: 0.2426885\ttotal: 10.4s\tremaining: 7.96s\n",
            "567:\tlearn: 0.2425577\ttotal: 10.4s\tremaining: 7.94s\n",
            "568:\tlearn: 0.2423888\ttotal: 10.5s\tremaining: 7.92s\n",
            "569:\tlearn: 0.2422018\ttotal: 10.5s\tremaining: 7.9s\n",
            "570:\tlearn: 0.2420590\ttotal: 10.5s\tremaining: 7.88s\n",
            "571:\tlearn: 0.2419840\ttotal: 10.5s\tremaining: 7.87s\n",
            "572:\tlearn: 0.2419103\ttotal: 10.5s\tremaining: 7.84s\n",
            "573:\tlearn: 0.2418016\ttotal: 10.5s\tremaining: 7.83s\n",
            "574:\tlearn: 0.2417943\ttotal: 10.6s\tremaining: 7.81s\n",
            "575:\tlearn: 0.2416597\ttotal: 10.6s\tremaining: 7.79s\n",
            "576:\tlearn: 0.2415993\ttotal: 10.6s\tremaining: 7.77s\n",
            "577:\tlearn: 0.2415154\ttotal: 10.6s\tremaining: 7.75s\n",
            "578:\tlearn: 0.2415084\ttotal: 10.6s\tremaining: 7.73s\n",
            "579:\tlearn: 0.2415015\ttotal: 10.6s\tremaining: 7.71s\n",
            "580:\tlearn: 0.2413959\ttotal: 10.7s\tremaining: 7.69s\n",
            "581:\tlearn: 0.2412207\ttotal: 10.7s\tremaining: 7.67s\n",
            "582:\tlearn: 0.2410392\ttotal: 10.7s\tremaining: 7.65s\n",
            "583:\tlearn: 0.2409207\ttotal: 10.7s\tremaining: 7.63s\n",
            "584:\tlearn: 0.2408533\ttotal: 10.7s\tremaining: 7.61s\n",
            "585:\tlearn: 0.2406953\ttotal: 10.7s\tremaining: 7.59s\n",
            "586:\tlearn: 0.2406606\ttotal: 10.8s\tremaining: 7.58s\n",
            "587:\tlearn: 0.2405019\ttotal: 10.8s\tremaining: 7.56s\n",
            "588:\tlearn: 0.2404084\ttotal: 10.8s\tremaining: 7.54s\n",
            "589:\tlearn: 0.2402516\ttotal: 10.8s\tremaining: 7.52s\n",
            "590:\tlearn: 0.2400234\ttotal: 10.8s\tremaining: 7.5s\n",
            "591:\tlearn: 0.2400148\ttotal: 10.9s\tremaining: 7.48s\n",
            "592:\tlearn: 0.2397820\ttotal: 10.9s\tremaining: 7.46s\n",
            "593:\tlearn: 0.2397483\ttotal: 10.9s\tremaining: 7.45s\n",
            "594:\tlearn: 0.2395078\ttotal: 10.9s\tremaining: 7.43s\n",
            "595:\tlearn: 0.2392231\ttotal: 10.9s\tremaining: 7.41s\n",
            "596:\tlearn: 0.2391646\ttotal: 11s\tremaining: 7.39s\n",
            "597:\tlearn: 0.2390393\ttotal: 11s\tremaining: 7.38s\n",
            "598:\tlearn: 0.2389369\ttotal: 11s\tremaining: 7.38s\n",
            "599:\tlearn: 0.2388208\ttotal: 11s\tremaining: 7.36s\n",
            "600:\tlearn: 0.2387537\ttotal: 11.1s\tremaining: 7.35s\n",
            "601:\tlearn: 0.2386978\ttotal: 11.1s\tremaining: 7.33s\n",
            "602:\tlearn: 0.2386017\ttotal: 11.1s\tremaining: 7.31s\n",
            "603:\tlearn: 0.2385933\ttotal: 11.1s\tremaining: 7.29s\n",
            "604:\tlearn: 0.2385104\ttotal: 11.1s\tremaining: 7.27s\n",
            "605:\tlearn: 0.2384114\ttotal: 11.2s\tremaining: 7.25s\n",
            "606:\tlearn: 0.2382819\ttotal: 11.2s\tremaining: 7.24s\n",
            "607:\tlearn: 0.2382749\ttotal: 11.2s\tremaining: 7.22s\n",
            "608:\tlearn: 0.2381624\ttotal: 11.2s\tremaining: 7.2s\n",
            "609:\tlearn: 0.2380769\ttotal: 11.2s\tremaining: 7.18s\n",
            "610:\tlearn: 0.2379678\ttotal: 11.2s\tremaining: 7.16s\n",
            "611:\tlearn: 0.2378144\ttotal: 11.3s\tremaining: 7.14s\n",
            "612:\tlearn: 0.2376546\ttotal: 11.3s\tremaining: 7.12s\n",
            "613:\tlearn: 0.2375428\ttotal: 11.3s\tremaining: 7.1s\n",
            "614:\tlearn: 0.2374510\ttotal: 11.3s\tremaining: 7.09s\n",
            "615:\tlearn: 0.2373592\ttotal: 11.3s\tremaining: 7.07s\n",
            "616:\tlearn: 0.2373415\ttotal: 11.4s\tremaining: 7.05s\n",
            "617:\tlearn: 0.2372199\ttotal: 11.4s\tremaining: 7.03s\n",
            "618:\tlearn: 0.2371510\ttotal: 11.4s\tremaining: 7.01s\n",
            "619:\tlearn: 0.2370777\ttotal: 11.4s\tremaining: 6.99s\n",
            "620:\tlearn: 0.2369896\ttotal: 11.4s\tremaining: 6.97s\n",
            "621:\tlearn: 0.2369068\ttotal: 11.4s\tremaining: 6.96s\n",
            "622:\tlearn: 0.2368855\ttotal: 11.5s\tremaining: 6.93s\n",
            "623:\tlearn: 0.2367809\ttotal: 11.5s\tremaining: 6.92s\n",
            "624:\tlearn: 0.2366068\ttotal: 11.5s\tremaining: 6.9s\n",
            "625:\tlearn: 0.2365190\ttotal: 11.5s\tremaining: 6.88s\n",
            "626:\tlearn: 0.2362476\ttotal: 11.5s\tremaining: 6.86s\n",
            "627:\tlearn: 0.2361559\ttotal: 11.5s\tremaining: 6.84s\n",
            "628:\tlearn: 0.2360173\ttotal: 11.6s\tremaining: 6.82s\n",
            "629:\tlearn: 0.2360093\ttotal: 11.6s\tremaining: 6.8s\n",
            "630:\tlearn: 0.2358802\ttotal: 11.6s\tremaining: 6.78s\n",
            "631:\tlearn: 0.2356658\ttotal: 11.6s\tremaining: 6.76s\n",
            "632:\tlearn: 0.2356331\ttotal: 11.6s\tremaining: 6.75s\n",
            "633:\tlearn: 0.2354492\ttotal: 11.7s\tremaining: 6.73s\n",
            "634:\tlearn: 0.2353942\ttotal: 11.7s\tremaining: 6.71s\n",
            "635:\tlearn: 0.2352350\ttotal: 11.7s\tremaining: 6.69s\n",
            "636:\tlearn: 0.2350202\ttotal: 11.7s\tremaining: 6.67s\n",
            "637:\tlearn: 0.2349008\ttotal: 11.7s\tremaining: 6.66s\n",
            "638:\tlearn: 0.2348799\ttotal: 11.7s\tremaining: 6.64s\n",
            "639:\tlearn: 0.2348709\ttotal: 11.8s\tremaining: 6.62s\n",
            "640:\tlearn: 0.2347952\ttotal: 11.8s\tremaining: 6.6s\n",
            "641:\tlearn: 0.2346185\ttotal: 11.8s\tremaining: 6.58s\n",
            "642:\tlearn: 0.2345666\ttotal: 11.8s\tremaining: 6.56s\n",
            "643:\tlearn: 0.2344066\ttotal: 11.8s\tremaining: 6.54s\n",
            "644:\tlearn: 0.2342540\ttotal: 11.9s\tremaining: 6.52s\n",
            "645:\tlearn: 0.2341192\ttotal: 11.9s\tremaining: 6.5s\n",
            "646:\tlearn: 0.2340757\ttotal: 11.9s\tremaining: 6.49s\n",
            "647:\tlearn: 0.2338922\ttotal: 11.9s\tremaining: 6.47s\n",
            "648:\tlearn: 0.2338708\ttotal: 11.9s\tremaining: 6.46s\n",
            "649:\tlearn: 0.2337177\ttotal: 12s\tremaining: 6.44s\n",
            "650:\tlearn: 0.2335823\ttotal: 12s\tremaining: 6.42s\n",
            "651:\tlearn: 0.2334685\ttotal: 12s\tremaining: 6.41s\n",
            "652:\tlearn: 0.2333769\ttotal: 12.1s\tremaining: 6.4s\n",
            "653:\tlearn: 0.2333295\ttotal: 12.1s\tremaining: 6.38s\n",
            "654:\tlearn: 0.2333207\ttotal: 12.1s\tremaining: 6.37s\n",
            "655:\tlearn: 0.2331542\ttotal: 12.1s\tremaining: 6.35s\n",
            "656:\tlearn: 0.2329847\ttotal: 12.1s\tremaining: 6.33s\n",
            "657:\tlearn: 0.2327249\ttotal: 12.1s\tremaining: 6.31s\n",
            "658:\tlearn: 0.2326325\ttotal: 12.2s\tremaining: 6.29s\n",
            "659:\tlearn: 0.2324230\ttotal: 12.2s\tremaining: 6.27s\n",
            "660:\tlearn: 0.2323668\ttotal: 12.2s\tremaining: 6.25s\n",
            "661:\tlearn: 0.2323056\ttotal: 12.2s\tremaining: 6.24s\n",
            "662:\tlearn: 0.2322045\ttotal: 12.2s\tremaining: 6.22s\n",
            "663:\tlearn: 0.2320492\ttotal: 12.3s\tremaining: 6.2s\n",
            "664:\tlearn: 0.2319705\ttotal: 12.3s\tremaining: 6.18s\n",
            "665:\tlearn: 0.2318690\ttotal: 12.3s\tremaining: 6.16s\n",
            "666:\tlearn: 0.2317438\ttotal: 12.3s\tremaining: 6.14s\n",
            "667:\tlearn: 0.2317383\ttotal: 12.3s\tremaining: 6.12s\n",
            "668:\tlearn: 0.2316037\ttotal: 12.3s\tremaining: 6.1s\n",
            "669:\tlearn: 0.2313491\ttotal: 12.4s\tremaining: 6.08s\n",
            "670:\tlearn: 0.2312349\ttotal: 12.4s\tremaining: 6.07s\n",
            "671:\tlearn: 0.2310964\ttotal: 12.4s\tremaining: 6.05s\n",
            "672:\tlearn: 0.2309796\ttotal: 12.4s\tremaining: 6.03s\n",
            "673:\tlearn: 0.2309146\ttotal: 12.4s\tremaining: 6.01s\n",
            "674:\tlearn: 0.2308813\ttotal: 12.4s\tremaining: 5.99s\n",
            "675:\tlearn: 0.2308629\ttotal: 12.5s\tremaining: 5.97s\n",
            "676:\tlearn: 0.2308454\ttotal: 12.5s\tremaining: 5.95s\n",
            "677:\tlearn: 0.2307060\ttotal: 12.5s\tremaining: 5.93s\n",
            "678:\tlearn: 0.2305136\ttotal: 12.5s\tremaining: 5.91s\n",
            "679:\tlearn: 0.2304553\ttotal: 12.5s\tremaining: 5.89s\n",
            "680:\tlearn: 0.2301688\ttotal: 12.5s\tremaining: 5.88s\n",
            "681:\tlearn: 0.2300207\ttotal: 12.6s\tremaining: 5.86s\n",
            "682:\tlearn: 0.2299717\ttotal: 12.6s\tremaining: 5.84s\n",
            "683:\tlearn: 0.2297378\ttotal: 12.6s\tremaining: 5.82s\n",
            "684:\tlearn: 0.2296292\ttotal: 12.6s\tremaining: 5.8s\n",
            "685:\tlearn: 0.2295261\ttotal: 12.6s\tremaining: 5.78s\n",
            "686:\tlearn: 0.2294649\ttotal: 12.6s\tremaining: 5.76s\n",
            "687:\tlearn: 0.2293958\ttotal: 12.7s\tremaining: 5.74s\n",
            "688:\tlearn: 0.2292765\ttotal: 12.7s\tremaining: 5.72s\n",
            "689:\tlearn: 0.2292369\ttotal: 12.7s\tremaining: 5.7s\n",
            "690:\tlearn: 0.2291132\ttotal: 12.7s\tremaining: 5.68s\n",
            "691:\tlearn: 0.2289724\ttotal: 12.7s\tremaining: 5.67s\n",
            "692:\tlearn: 0.2288566\ttotal: 12.7s\tremaining: 5.65s\n",
            "693:\tlearn: 0.2287817\ttotal: 12.8s\tremaining: 5.63s\n",
            "694:\tlearn: 0.2286369\ttotal: 12.8s\tremaining: 5.61s\n",
            "695:\tlearn: 0.2286316\ttotal: 12.8s\tremaining: 5.59s\n",
            "696:\tlearn: 0.2285759\ttotal: 12.8s\tremaining: 5.57s\n",
            "697:\tlearn: 0.2284725\ttotal: 12.8s\tremaining: 5.55s\n",
            "698:\tlearn: 0.2283729\ttotal: 12.8s\tremaining: 5.53s\n",
            "699:\tlearn: 0.2283119\ttotal: 12.9s\tremaining: 5.51s\n",
            "700:\tlearn: 0.2282788\ttotal: 12.9s\tremaining: 5.5s\n",
            "701:\tlearn: 0.2282059\ttotal: 12.9s\tremaining: 5.48s\n",
            "702:\tlearn: 0.2279929\ttotal: 12.9s\tremaining: 5.46s\n",
            "703:\tlearn: 0.2279514\ttotal: 13s\tremaining: 5.45s\n",
            "704:\tlearn: 0.2277476\ttotal: 13s\tremaining: 5.43s\n",
            "705:\tlearn: 0.2277034\ttotal: 13s\tremaining: 5.42s\n",
            "706:\tlearn: 0.2275632\ttotal: 13.1s\tremaining: 5.41s\n",
            "707:\tlearn: 0.2274250\ttotal: 13.1s\tremaining: 5.39s\n",
            "708:\tlearn: 0.2272949\ttotal: 13.1s\tremaining: 5.37s\n",
            "709:\tlearn: 0.2272369\ttotal: 13.1s\tremaining: 5.35s\n",
            "710:\tlearn: 0.2270297\ttotal: 13.1s\tremaining: 5.33s\n",
            "711:\tlearn: 0.2269543\ttotal: 13.1s\tremaining: 5.32s\n",
            "712:\tlearn: 0.2268445\ttotal: 13.2s\tremaining: 5.3s\n",
            "713:\tlearn: 0.2267786\ttotal: 13.2s\tremaining: 5.28s\n",
            "714:\tlearn: 0.2267410\ttotal: 13.2s\tremaining: 5.26s\n",
            "715:\tlearn: 0.2267045\ttotal: 13.2s\tremaining: 5.24s\n",
            "716:\tlearn: 0.2265843\ttotal: 13.2s\tremaining: 5.22s\n",
            "717:\tlearn: 0.2265499\ttotal: 13.2s\tremaining: 5.2s\n",
            "718:\tlearn: 0.2264453\ttotal: 13.3s\tremaining: 5.19s\n",
            "719:\tlearn: 0.2262086\ttotal: 13.3s\tremaining: 5.17s\n",
            "720:\tlearn: 0.2261500\ttotal: 13.3s\tremaining: 5.15s\n",
            "721:\tlearn: 0.2260327\ttotal: 13.3s\tremaining: 5.13s\n",
            "722:\tlearn: 0.2260113\ttotal: 13.3s\tremaining: 5.11s\n",
            "723:\tlearn: 0.2259692\ttotal: 13.4s\tremaining: 5.09s\n",
            "724:\tlearn: 0.2259393\ttotal: 13.4s\tremaining: 5.07s\n",
            "725:\tlearn: 0.2258066\ttotal: 13.4s\tremaining: 5.05s\n",
            "726:\tlearn: 0.2256671\ttotal: 13.4s\tremaining: 5.04s\n",
            "727:\tlearn: 0.2254849\ttotal: 13.4s\tremaining: 5.02s\n",
            "728:\tlearn: 0.2254391\ttotal: 13.4s\tremaining: 5s\n",
            "729:\tlearn: 0.2251780\ttotal: 13.5s\tremaining: 4.98s\n",
            "730:\tlearn: 0.2251001\ttotal: 13.5s\tremaining: 4.96s\n",
            "731:\tlearn: 0.2250701\ttotal: 13.5s\tremaining: 4.94s\n",
            "732:\tlearn: 0.2249740\ttotal: 13.5s\tremaining: 4.92s\n",
            "733:\tlearn: 0.2248639\ttotal: 13.5s\tremaining: 4.9s\n",
            "734:\tlearn: 0.2245842\ttotal: 13.6s\tremaining: 4.89s\n",
            "735:\tlearn: 0.2244888\ttotal: 13.6s\tremaining: 4.87s\n",
            "736:\tlearn: 0.2244090\ttotal: 13.6s\tremaining: 4.85s\n",
            "737:\tlearn: 0.2243378\ttotal: 13.6s\tremaining: 4.83s\n",
            "738:\tlearn: 0.2242718\ttotal: 13.6s\tremaining: 4.81s\n",
            "739:\tlearn: 0.2242039\ttotal: 13.6s\tremaining: 4.79s\n",
            "740:\tlearn: 0.2241374\ttotal: 13.7s\tremaining: 4.77s\n",
            "741:\tlearn: 0.2240758\ttotal: 13.7s\tremaining: 4.75s\n",
            "742:\tlearn: 0.2239989\ttotal: 13.7s\tremaining: 4.74s\n",
            "743:\tlearn: 0.2239925\ttotal: 13.7s\tremaining: 4.71s\n",
            "744:\tlearn: 0.2238080\ttotal: 13.7s\tremaining: 4.7s\n",
            "745:\tlearn: 0.2237109\ttotal: 13.7s\tremaining: 4.68s\n",
            "746:\tlearn: 0.2236052\ttotal: 13.8s\tremaining: 4.66s\n",
            "747:\tlearn: 0.2235561\ttotal: 13.8s\tremaining: 4.64s\n",
            "748:\tlearn: 0.2234746\ttotal: 13.8s\tremaining: 4.62s\n",
            "749:\tlearn: 0.2233532\ttotal: 13.8s\tremaining: 4.6s\n",
            "750:\tlearn: 0.2231344\ttotal: 13.8s\tremaining: 4.58s\n",
            "751:\tlearn: 0.2229661\ttotal: 13.8s\tremaining: 4.56s\n",
            "752:\tlearn: 0.2228894\ttotal: 13.9s\tremaining: 4.54s\n",
            "753:\tlearn: 0.2227422\ttotal: 13.9s\tremaining: 4.53s\n",
            "754:\tlearn: 0.2224776\ttotal: 13.9s\tremaining: 4.51s\n",
            "755:\tlearn: 0.2224372\ttotal: 13.9s\tremaining: 4.49s\n",
            "756:\tlearn: 0.2222775\ttotal: 13.9s\tremaining: 4.47s\n",
            "757:\tlearn: 0.2221896\ttotal: 14s\tremaining: 4.46s\n",
            "758:\tlearn: 0.2219219\ttotal: 14s\tremaining: 4.44s\n",
            "759:\tlearn: 0.2218244\ttotal: 14s\tremaining: 4.42s\n",
            "760:\tlearn: 0.2216685\ttotal: 14.1s\tremaining: 4.41s\n",
            "761:\tlearn: 0.2215256\ttotal: 14.1s\tremaining: 4.4s\n",
            "762:\tlearn: 0.2214817\ttotal: 14.1s\tremaining: 4.38s\n",
            "763:\tlearn: 0.2214311\ttotal: 14.1s\tremaining: 4.36s\n",
            "764:\tlearn: 0.2212349\ttotal: 14.1s\tremaining: 4.34s\n",
            "765:\tlearn: 0.2211649\ttotal: 14.2s\tremaining: 4.32s\n",
            "766:\tlearn: 0.2210502\ttotal: 14.2s\tremaining: 4.3s\n",
            "767:\tlearn: 0.2209306\ttotal: 14.2s\tremaining: 4.29s\n",
            "768:\tlearn: 0.2209028\ttotal: 14.2s\tremaining: 4.27s\n",
            "769:\tlearn: 0.2208505\ttotal: 14.2s\tremaining: 4.25s\n",
            "770:\tlearn: 0.2207833\ttotal: 14.2s\tremaining: 4.23s\n",
            "771:\tlearn: 0.2207026\ttotal: 14.3s\tremaining: 4.21s\n",
            "772:\tlearn: 0.2205876\ttotal: 14.3s\tremaining: 4.2s\n",
            "773:\tlearn: 0.2203673\ttotal: 14.3s\tremaining: 4.18s\n",
            "774:\tlearn: 0.2203002\ttotal: 14.3s\tremaining: 4.16s\n",
            "775:\tlearn: 0.2200613\ttotal: 14.3s\tremaining: 4.14s\n",
            "776:\tlearn: 0.2199648\ttotal: 14.4s\tremaining: 4.12s\n",
            "777:\tlearn: 0.2199067\ttotal: 14.4s\tremaining: 4.1s\n",
            "778:\tlearn: 0.2198963\ttotal: 14.4s\tremaining: 4.08s\n",
            "779:\tlearn: 0.2197897\ttotal: 14.4s\tremaining: 4.07s\n",
            "780:\tlearn: 0.2197635\ttotal: 14.4s\tremaining: 4.05s\n",
            "781:\tlearn: 0.2197523\ttotal: 14.4s\tremaining: 4.03s\n",
            "782:\tlearn: 0.2196205\ttotal: 14.5s\tremaining: 4.01s\n",
            "783:\tlearn: 0.2195395\ttotal: 14.5s\tremaining: 3.99s\n",
            "784:\tlearn: 0.2194960\ttotal: 14.5s\tremaining: 3.97s\n",
            "785:\tlearn: 0.2193460\ttotal: 14.5s\tremaining: 3.95s\n",
            "786:\tlearn: 0.2192695\ttotal: 14.5s\tremaining: 3.93s\n",
            "787:\tlearn: 0.2192632\ttotal: 14.5s\tremaining: 3.91s\n",
            "788:\tlearn: 0.2191790\ttotal: 14.6s\tremaining: 3.89s\n",
            "789:\tlearn: 0.2191298\ttotal: 14.6s\tremaining: 3.88s\n",
            "790:\tlearn: 0.2190686\ttotal: 14.6s\tremaining: 3.86s\n",
            "791:\tlearn: 0.2189092\ttotal: 14.6s\tremaining: 3.84s\n",
            "792:\tlearn: 0.2188007\ttotal: 14.6s\tremaining: 3.82s\n",
            "793:\tlearn: 0.2186265\ttotal: 14.7s\tremaining: 3.8s\n",
            "794:\tlearn: 0.2184874\ttotal: 14.7s\tremaining: 3.78s\n",
            "795:\tlearn: 0.2184128\ttotal: 14.7s\tremaining: 3.76s\n",
            "796:\tlearn: 0.2182133\ttotal: 14.7s\tremaining: 3.75s\n",
            "797:\tlearn: 0.2181189\ttotal: 14.7s\tremaining: 3.73s\n",
            "798:\tlearn: 0.2180185\ttotal: 14.7s\tremaining: 3.71s\n",
            "799:\tlearn: 0.2179402\ttotal: 14.8s\tremaining: 3.69s\n",
            "800:\tlearn: 0.2177871\ttotal: 14.8s\tremaining: 3.67s\n",
            "801:\tlearn: 0.2177125\ttotal: 14.8s\tremaining: 3.65s\n",
            "802:\tlearn: 0.2175274\ttotal: 14.8s\tremaining: 3.63s\n",
            "803:\tlearn: 0.2174046\ttotal: 14.8s\tremaining: 3.62s\n",
            "804:\tlearn: 0.2172769\ttotal: 14.8s\tremaining: 3.6s\n",
            "805:\tlearn: 0.2172665\ttotal: 14.9s\tremaining: 3.58s\n",
            "806:\tlearn: 0.2172041\ttotal: 14.9s\tremaining: 3.56s\n",
            "807:\tlearn: 0.2170373\ttotal: 14.9s\tremaining: 3.54s\n",
            "808:\tlearn: 0.2169824\ttotal: 14.9s\tremaining: 3.52s\n",
            "809:\tlearn: 0.2168777\ttotal: 15s\tremaining: 3.51s\n",
            "810:\tlearn: 0.2168416\ttotal: 15s\tremaining: 3.49s\n",
            "811:\tlearn: 0.2167921\ttotal: 15s\tremaining: 3.47s\n",
            "812:\tlearn: 0.2166504\ttotal: 15s\tremaining: 3.45s\n",
            "813:\tlearn: 0.2165483\ttotal: 15.1s\tremaining: 3.44s\n",
            "814:\tlearn: 0.2164953\ttotal: 15.1s\tremaining: 3.42s\n",
            "815:\tlearn: 0.2163914\ttotal: 15.1s\tremaining: 3.41s\n",
            "816:\tlearn: 0.2162119\ttotal: 15.1s\tremaining: 3.39s\n",
            "817:\tlearn: 0.2161600\ttotal: 15.2s\tremaining: 3.37s\n",
            "818:\tlearn: 0.2160683\ttotal: 15.2s\tremaining: 3.35s\n",
            "819:\tlearn: 0.2159153\ttotal: 15.2s\tremaining: 3.33s\n",
            "820:\tlearn: 0.2158471\ttotal: 15.2s\tremaining: 3.31s\n",
            "821:\tlearn: 0.2158065\ttotal: 15.2s\tremaining: 3.3s\n",
            "822:\tlearn: 0.2157387\ttotal: 15.2s\tremaining: 3.28s\n",
            "823:\tlearn: 0.2155536\ttotal: 15.3s\tremaining: 3.26s\n",
            "824:\tlearn: 0.2155001\ttotal: 15.3s\tremaining: 3.24s\n",
            "825:\tlearn: 0.2154001\ttotal: 15.3s\tremaining: 3.22s\n",
            "826:\tlearn: 0.2153590\ttotal: 15.3s\tremaining: 3.2s\n",
            "827:\tlearn: 0.2153226\ttotal: 15.3s\tremaining: 3.18s\n",
            "828:\tlearn: 0.2151875\ttotal: 15.3s\tremaining: 3.17s\n",
            "829:\tlearn: 0.2150909\ttotal: 15.4s\tremaining: 3.15s\n",
            "830:\tlearn: 0.2150154\ttotal: 15.4s\tremaining: 3.13s\n",
            "831:\tlearn: 0.2149856\ttotal: 15.4s\tremaining: 3.11s\n",
            "832:\tlearn: 0.2147808\ttotal: 15.4s\tremaining: 3.09s\n",
            "833:\tlearn: 0.2147184\ttotal: 15.4s\tremaining: 3.07s\n",
            "834:\tlearn: 0.2147140\ttotal: 15.5s\tremaining: 3.05s\n",
            "835:\tlearn: 0.2146053\ttotal: 15.5s\tremaining: 3.03s\n",
            "836:\tlearn: 0.2144657\ttotal: 15.5s\tremaining: 3.02s\n",
            "837:\tlearn: 0.2142282\ttotal: 15.5s\tremaining: 3s\n",
            "838:\tlearn: 0.2141763\ttotal: 15.5s\tremaining: 2.98s\n",
            "839:\tlearn: 0.2140897\ttotal: 15.5s\tremaining: 2.96s\n",
            "840:\tlearn: 0.2140388\ttotal: 15.6s\tremaining: 2.94s\n",
            "841:\tlearn: 0.2139504\ttotal: 15.6s\tremaining: 2.92s\n",
            "842:\tlearn: 0.2137897\ttotal: 15.6s\tremaining: 2.9s\n",
            "843:\tlearn: 0.2135900\ttotal: 15.6s\tremaining: 2.89s\n",
            "844:\tlearn: 0.2134065\ttotal: 15.6s\tremaining: 2.87s\n",
            "845:\tlearn: 0.2132277\ttotal: 15.7s\tremaining: 2.85s\n",
            "846:\tlearn: 0.2131620\ttotal: 15.7s\tremaining: 2.83s\n",
            "847:\tlearn: 0.2130736\ttotal: 15.7s\tremaining: 2.81s\n",
            "848:\tlearn: 0.2130101\ttotal: 15.7s\tremaining: 2.79s\n",
            "849:\tlearn: 0.2128674\ttotal: 15.7s\tremaining: 2.77s\n",
            "850:\tlearn: 0.2127848\ttotal: 15.7s\tremaining: 2.75s\n",
            "851:\tlearn: 0.2126935\ttotal: 15.8s\tremaining: 2.74s\n",
            "852:\tlearn: 0.2126638\ttotal: 15.8s\tremaining: 2.72s\n",
            "853:\tlearn: 0.2125611\ttotal: 15.8s\tremaining: 2.7s\n",
            "854:\tlearn: 0.2123799\ttotal: 15.8s\tremaining: 2.68s\n",
            "855:\tlearn: 0.2122938\ttotal: 15.8s\tremaining: 2.66s\n",
            "856:\tlearn: 0.2122184\ttotal: 15.8s\tremaining: 2.64s\n",
            "857:\tlearn: 0.2121649\ttotal: 15.9s\tremaining: 2.63s\n",
            "858:\tlearn: 0.2120159\ttotal: 15.9s\tremaining: 2.61s\n",
            "859:\tlearn: 0.2119039\ttotal: 15.9s\tremaining: 2.59s\n",
            "860:\tlearn: 0.2118701\ttotal: 15.9s\tremaining: 2.57s\n",
            "861:\tlearn: 0.2118095\ttotal: 15.9s\tremaining: 2.55s\n",
            "862:\tlearn: 0.2117645\ttotal: 16s\tremaining: 2.53s\n",
            "863:\tlearn: 0.2116312\ttotal: 16s\tremaining: 2.52s\n",
            "864:\tlearn: 0.2115207\ttotal: 16s\tremaining: 2.5s\n",
            "865:\tlearn: 0.2114465\ttotal: 16s\tremaining: 2.48s\n",
            "866:\tlearn: 0.2112891\ttotal: 16.1s\tremaining: 2.46s\n",
            "867:\tlearn: 0.2111488\ttotal: 16.1s\tremaining: 2.45s\n",
            "868:\tlearn: 0.2110147\ttotal: 16.1s\tremaining: 2.43s\n",
            "869:\tlearn: 0.2109608\ttotal: 16.1s\tremaining: 2.41s\n",
            "870:\tlearn: 0.2107072\ttotal: 16.2s\tremaining: 2.39s\n",
            "871:\tlearn: 0.2105802\ttotal: 16.2s\tremaining: 2.38s\n",
            "872:\tlearn: 0.2105350\ttotal: 16.2s\tremaining: 2.36s\n",
            "873:\tlearn: 0.2104596\ttotal: 16.2s\tremaining: 2.34s\n",
            "874:\tlearn: 0.2102678\ttotal: 16.2s\tremaining: 2.32s\n",
            "875:\tlearn: 0.2101275\ttotal: 16.3s\tremaining: 2.3s\n",
            "876:\tlearn: 0.2099888\ttotal: 16.3s\tremaining: 2.28s\n",
            "877:\tlearn: 0.2099144\ttotal: 16.3s\tremaining: 2.27s\n",
            "878:\tlearn: 0.2098213\ttotal: 16.3s\tremaining: 2.25s\n",
            "879:\tlearn: 0.2096811\ttotal: 16.3s\tremaining: 2.23s\n",
            "880:\tlearn: 0.2096718\ttotal: 16.4s\tremaining: 2.21s\n",
            "881:\tlearn: 0.2094812\ttotal: 16.4s\tremaining: 2.19s\n",
            "882:\tlearn: 0.2092837\ttotal: 16.4s\tremaining: 2.17s\n",
            "883:\tlearn: 0.2091953\ttotal: 16.4s\tremaining: 2.15s\n",
            "884:\tlearn: 0.2090780\ttotal: 16.4s\tremaining: 2.13s\n",
            "885:\tlearn: 0.2090373\ttotal: 16.4s\tremaining: 2.12s\n",
            "886:\tlearn: 0.2089256\ttotal: 16.5s\tremaining: 2.1s\n",
            "887:\tlearn: 0.2088380\ttotal: 16.5s\tremaining: 2.08s\n",
            "888:\tlearn: 0.2088336\ttotal: 16.5s\tremaining: 2.06s\n",
            "889:\tlearn: 0.2086670\ttotal: 16.5s\tremaining: 2.04s\n",
            "890:\tlearn: 0.2085270\ttotal: 16.5s\tremaining: 2.02s\n",
            "891:\tlearn: 0.2084508\ttotal: 16.5s\tremaining: 2s\n",
            "892:\tlearn: 0.2083212\ttotal: 16.6s\tremaining: 1.98s\n",
            "893:\tlearn: 0.2081971\ttotal: 16.6s\tremaining: 1.97s\n",
            "894:\tlearn: 0.2081020\ttotal: 16.6s\tremaining: 1.95s\n",
            "895:\tlearn: 0.2080365\ttotal: 16.6s\tremaining: 1.93s\n",
            "896:\tlearn: 0.2079189\ttotal: 16.6s\tremaining: 1.91s\n",
            "897:\tlearn: 0.2078779\ttotal: 16.7s\tremaining: 1.89s\n",
            "898:\tlearn: 0.2077775\ttotal: 16.7s\tremaining: 1.87s\n",
            "899:\tlearn: 0.2076131\ttotal: 16.7s\tremaining: 1.85s\n",
            "900:\tlearn: 0.2074936\ttotal: 16.7s\tremaining: 1.84s\n",
            "901:\tlearn: 0.2074194\ttotal: 16.7s\tremaining: 1.82s\n",
            "902:\tlearn: 0.2073922\ttotal: 16.7s\tremaining: 1.8s\n",
            "903:\tlearn: 0.2073435\ttotal: 16.8s\tremaining: 1.78s\n",
            "904:\tlearn: 0.2072810\ttotal: 16.8s\tremaining: 1.76s\n",
            "905:\tlearn: 0.2071629\ttotal: 16.8s\tremaining: 1.74s\n",
            "906:\tlearn: 0.2071202\ttotal: 16.8s\tremaining: 1.72s\n",
            "907:\tlearn: 0.2070429\ttotal: 16.8s\tremaining: 1.71s\n",
            "908:\tlearn: 0.2070096\ttotal: 16.9s\tremaining: 1.69s\n",
            "909:\tlearn: 0.2069784\ttotal: 16.9s\tremaining: 1.67s\n",
            "910:\tlearn: 0.2069027\ttotal: 16.9s\tremaining: 1.65s\n",
            "911:\tlearn: 0.2068375\ttotal: 16.9s\tremaining: 1.63s\n",
            "912:\tlearn: 0.2066831\ttotal: 16.9s\tremaining: 1.61s\n",
            "913:\tlearn: 0.2065820\ttotal: 17s\tremaining: 1.59s\n",
            "914:\tlearn: 0.2065229\ttotal: 17s\tremaining: 1.58s\n",
            "915:\tlearn: 0.2064041\ttotal: 17s\tremaining: 1.56s\n",
            "916:\tlearn: 0.2063350\ttotal: 17s\tremaining: 1.54s\n",
            "917:\tlearn: 0.2062898\ttotal: 17s\tremaining: 1.52s\n",
            "918:\tlearn: 0.2061707\ttotal: 17s\tremaining: 1.5s\n",
            "919:\tlearn: 0.2061421\ttotal: 17.1s\tremaining: 1.49s\n",
            "920:\tlearn: 0.2061373\ttotal: 17.1s\tremaining: 1.47s\n",
            "921:\tlearn: 0.2060817\ttotal: 17.1s\tremaining: 1.45s\n",
            "922:\tlearn: 0.2060072\ttotal: 17.2s\tremaining: 1.43s\n",
            "923:\tlearn: 0.2058273\ttotal: 17.2s\tremaining: 1.41s\n",
            "924:\tlearn: 0.2057309\ttotal: 17.2s\tremaining: 1.39s\n",
            "925:\tlearn: 0.2057066\ttotal: 17.2s\tremaining: 1.38s\n",
            "926:\tlearn: 0.2056276\ttotal: 17.2s\tremaining: 1.36s\n",
            "927:\tlearn: 0.2056043\ttotal: 17.3s\tremaining: 1.34s\n",
            "928:\tlearn: 0.2054940\ttotal: 17.3s\tremaining: 1.32s\n",
            "929:\tlearn: 0.2054391\ttotal: 17.3s\tremaining: 1.3s\n",
            "930:\tlearn: 0.2053669\ttotal: 17.3s\tremaining: 1.28s\n",
            "931:\tlearn: 0.2052373\ttotal: 17.3s\tremaining: 1.26s\n",
            "932:\tlearn: 0.2051553\ttotal: 17.4s\tremaining: 1.25s\n",
            "933:\tlearn: 0.2050789\ttotal: 17.4s\tremaining: 1.23s\n",
            "934:\tlearn: 0.2049807\ttotal: 17.4s\tremaining: 1.21s\n",
            "935:\tlearn: 0.2049508\ttotal: 17.4s\tremaining: 1.19s\n",
            "936:\tlearn: 0.2047327\ttotal: 17.4s\tremaining: 1.17s\n",
            "937:\tlearn: 0.2046666\ttotal: 17.4s\tremaining: 1.15s\n",
            "938:\tlearn: 0.2045486\ttotal: 17.5s\tremaining: 1.13s\n",
            "939:\tlearn: 0.2044893\ttotal: 17.5s\tremaining: 1.11s\n",
            "940:\tlearn: 0.2044846\ttotal: 17.5s\tremaining: 1.1s\n",
            "941:\tlearn: 0.2043368\ttotal: 17.5s\tremaining: 1.08s\n",
            "942:\tlearn: 0.2043123\ttotal: 17.5s\tremaining: 1.06s\n",
            "943:\tlearn: 0.2041680\ttotal: 17.6s\tremaining: 1.04s\n",
            "944:\tlearn: 0.2041250\ttotal: 17.6s\tremaining: 1.02s\n",
            "945:\tlearn: 0.2039967\ttotal: 17.6s\tremaining: 1s\n",
            "946:\tlearn: 0.2038572\ttotal: 17.6s\tremaining: 985ms\n",
            "947:\tlearn: 0.2036930\ttotal: 17.6s\tremaining: 967ms\n",
            "948:\tlearn: 0.2036264\ttotal: 17.6s\tremaining: 948ms\n",
            "949:\tlearn: 0.2035304\ttotal: 17.7s\tremaining: 929ms\n",
            "950:\tlearn: 0.2034455\ttotal: 17.7s\tremaining: 911ms\n",
            "951:\tlearn: 0.2034153\ttotal: 17.7s\tremaining: 892ms\n",
            "952:\tlearn: 0.2033906\ttotal: 17.7s\tremaining: 874ms\n",
            "953:\tlearn: 0.2032970\ttotal: 17.7s\tremaining: 855ms\n",
            "954:\tlearn: 0.2031777\ttotal: 17.8s\tremaining: 836ms\n",
            "955:\tlearn: 0.2030878\ttotal: 17.8s\tremaining: 818ms\n",
            "956:\tlearn: 0.2030333\ttotal: 17.8s\tremaining: 799ms\n",
            "957:\tlearn: 0.2028584\ttotal: 17.8s\tremaining: 781ms\n",
            "958:\tlearn: 0.2026683\ttotal: 17.8s\tremaining: 762ms\n",
            "959:\tlearn: 0.2025919\ttotal: 17.8s\tremaining: 743ms\n",
            "960:\tlearn: 0.2025154\ttotal: 17.9s\tremaining: 725ms\n",
            "961:\tlearn: 0.2023414\ttotal: 17.9s\tremaining: 706ms\n",
            "962:\tlearn: 0.2022068\ttotal: 17.9s\tremaining: 687ms\n",
            "963:\tlearn: 0.2022025\ttotal: 17.9s\tremaining: 669ms\n",
            "964:\tlearn: 0.2021713\ttotal: 17.9s\tremaining: 651ms\n",
            "965:\tlearn: 0.2020549\ttotal: 18s\tremaining: 632ms\n",
            "966:\tlearn: 0.2019373\ttotal: 18s\tremaining: 613ms\n",
            "967:\tlearn: 0.2018284\ttotal: 18s\tremaining: 595ms\n",
            "968:\tlearn: 0.2017614\ttotal: 18s\tremaining: 576ms\n",
            "969:\tlearn: 0.2016995\ttotal: 18s\tremaining: 558ms\n",
            "970:\tlearn: 0.2015327\ttotal: 18s\tremaining: 539ms\n",
            "971:\tlearn: 0.2014752\ttotal: 18.1s\tremaining: 520ms\n",
            "972:\tlearn: 0.2013641\ttotal: 18.1s\tremaining: 503ms\n",
            "973:\tlearn: 0.2012660\ttotal: 18.2s\tremaining: 485ms\n",
            "974:\tlearn: 0.2011151\ttotal: 18.2s\tremaining: 466ms\n",
            "975:\tlearn: 0.2010791\ttotal: 18.2s\tremaining: 448ms\n",
            "976:\tlearn: 0.2010060\ttotal: 18.2s\tremaining: 429ms\n",
            "977:\tlearn: 0.2008504\ttotal: 18.2s\tremaining: 410ms\n",
            "978:\tlearn: 0.2007807\ttotal: 18.3s\tremaining: 392ms\n",
            "979:\tlearn: 0.2006822\ttotal: 18.3s\tremaining: 373ms\n",
            "980:\tlearn: 0.2005512\ttotal: 18.3s\tremaining: 354ms\n",
            "981:\tlearn: 0.2003985\ttotal: 18.3s\tremaining: 336ms\n",
            "982:\tlearn: 0.2003202\ttotal: 18.3s\tremaining: 317ms\n",
            "983:\tlearn: 0.2003018\ttotal: 18.3s\tremaining: 298ms\n",
            "984:\tlearn: 0.2002535\ttotal: 18.4s\tremaining: 280ms\n",
            "985:\tlearn: 0.2002211\ttotal: 18.4s\tremaining: 261ms\n",
            "986:\tlearn: 0.2000785\ttotal: 18.4s\tremaining: 242ms\n",
            "987:\tlearn: 0.1999841\ttotal: 18.4s\tremaining: 224ms\n",
            "988:\tlearn: 0.1998549\ttotal: 18.4s\tremaining: 205ms\n",
            "989:\tlearn: 0.1997899\ttotal: 18.4s\tremaining: 186ms\n",
            "990:\tlearn: 0.1996684\ttotal: 18.5s\tremaining: 168ms\n",
            "991:\tlearn: 0.1996360\ttotal: 18.5s\tremaining: 149ms\n",
            "992:\tlearn: 0.1995801\ttotal: 18.5s\tremaining: 130ms\n",
            "993:\tlearn: 0.1995196\ttotal: 18.5s\tremaining: 112ms\n",
            "994:\tlearn: 0.1994949\ttotal: 18.5s\tremaining: 93.1ms\n",
            "995:\tlearn: 0.1994479\ttotal: 18.5s\tremaining: 74.5ms\n",
            "996:\tlearn: 0.1993970\ttotal: 18.6s\tremaining: 55.9ms\n",
            "997:\tlearn: 0.1993287\ttotal: 18.6s\tremaining: 37.2ms\n",
            "998:\tlearn: 0.1991622\ttotal: 18.6s\tremaining: 18.6ms\n",
            "999:\tlearn: 0.1991202\ttotal: 18.6s\tremaining: 0us\n"
          ]
        },
        {
          "output_type": "execute_result",
          "data": {
            "text/plain": [
              "<catboost.core.CatBoostRegressor at 0x7fa7b2a40590>"
            ]
          },
          "metadata": {},
          "execution_count": 25
        }
      ]
    },
    {
      "cell_type": "markdown",
      "metadata": {
        "id": "UDYeqx2ySRMC"
      },
      "source": [
        "# Prediction"
      ]
    },
    {
      "cell_type": "code",
      "metadata": {
        "id": "fOaiz7pbSRMC"
      },
      "source": [
        "test_df = pd.read_csv('https://vk.com/doc161475809_610957756?hash=249af39e25bb216cfc&dl=5eca570dc1759fa7a2', index_col = 'id')\n"
      ],
      "execution_count": null,
      "outputs": []
    },
    {
      "cell_type": "code",
      "metadata": {
        "id": "vDTae2CgSRMC"
      },
      "source": [
        "test_df = test_df.reindex(columns=sorted(test_df.columns))"
      ],
      "execution_count": null,
      "outputs": []
    },
    {
      "cell_type": "code",
      "metadata": {
        "id": "NfMiQHbqSRMD",
        "colab": {
          "base_uri": "https://localhost:8080/",
          "height": 447
        },
        "outputId": "ffb47269-c0e8-4da3-c7ae-530b0effd668"
      },
      "source": [
        "test_df = test_df.drop(['date'], axis = 1).copy()\n",
        "test_df['floor'] = test_df['floor'].apply(str)\n",
        "test_df['floor'] = test_df['floor'].apply(set_floor)\n",
        "test_df['realty_type']= test_df['realty_type'].apply(str)\n",
        "for col in test_df.columns:\n",
        "    if col not in cat_features:\n",
        "        test_df[col] = test_df[col].fillna(test_df[col].median())\n",
        "    else:\n",
        "        test_df[col] = test_df[col].fillna('unknown')\n",
        "log_sq = test_df.total_square.apply(np.log)\n",
        "test_df['total_square_log'] = log_sq \n",
        "test_df.drop(['price_type']+unused_features, axis = 1, inplace=True)\n",
        "test_predict = catboost_regressor.predict(test_df)\n",
        "test_predict = np.exp(test_predict)\n",
        "and_df = pd.DataFrame({'per_square_meter_price':test_predict})\n",
        "and_df.index = test_df.index\n",
        "and_df"
      ],
      "execution_count": null,
      "outputs": [
        {
          "output_type": "execute_result",
          "data": {
            "text/html": [
              "<div>\n",
              "<style scoped>\n",
              "    .dataframe tbody tr th:only-of-type {\n",
              "        vertical-align: middle;\n",
              "    }\n",
              "\n",
              "    .dataframe tbody tr th {\n",
              "        vertical-align: top;\n",
              "    }\n",
              "\n",
              "    .dataframe thead th {\n",
              "        text-align: right;\n",
              "    }\n",
              "</style>\n",
              "<table border=\"1\" class=\"dataframe\">\n",
              "  <thead>\n",
              "    <tr style=\"text-align: right;\">\n",
              "      <th></th>\n",
              "      <th>per_square_meter_price</th>\n",
              "    </tr>\n",
              "    <tr>\n",
              "      <th>id</th>\n",
              "      <th></th>\n",
              "    </tr>\n",
              "  </thead>\n",
              "  <tbody>\n",
              "    <tr>\n",
              "      <th>COL_289284</th>\n",
              "      <td>38859.383469</td>\n",
              "    </tr>\n",
              "    <tr>\n",
              "      <th>COL_289305</th>\n",
              "      <td>41407.592615</td>\n",
              "    </tr>\n",
              "    <tr>\n",
              "      <th>COL_289318</th>\n",
              "      <td>41603.012884</td>\n",
              "    </tr>\n",
              "    <tr>\n",
              "      <th>COL_289354</th>\n",
              "      <td>107678.758081</td>\n",
              "    </tr>\n",
              "    <tr>\n",
              "      <th>COL_289399</th>\n",
              "      <td>48136.426081</td>\n",
              "    </tr>\n",
              "    <tr>\n",
              "      <th>...</th>\n",
              "      <td>...</td>\n",
              "    </tr>\n",
              "    <tr>\n",
              "      <th>COL_455089</th>\n",
              "      <td>26303.617825</td>\n",
              "    </tr>\n",
              "    <tr>\n",
              "      <th>COL_455212</th>\n",
              "      <td>48237.412243</td>\n",
              "    </tr>\n",
              "    <tr>\n",
              "      <th>COL_455261</th>\n",
              "      <td>41684.007496</td>\n",
              "    </tr>\n",
              "    <tr>\n",
              "      <th>COL_455381</th>\n",
              "      <td>46799.989632</td>\n",
              "    </tr>\n",
              "    <tr>\n",
              "      <th>COL_455397</th>\n",
              "      <td>46352.468778</td>\n",
              "    </tr>\n",
              "  </tbody>\n",
              "</table>\n",
              "<p>2974 rows × 1 columns</p>\n",
              "</div>"
            ],
            "text/plain": [
              "            per_square_meter_price\n",
              "id                                \n",
              "COL_289284            38859.383469\n",
              "COL_289305            41407.592615\n",
              "COL_289318            41603.012884\n",
              "COL_289354           107678.758081\n",
              "COL_289399            48136.426081\n",
              "...                            ...\n",
              "COL_455089            26303.617825\n",
              "COL_455212            48237.412243\n",
              "COL_455261            41684.007496\n",
              "COL_455381            46799.989632\n",
              "COL_455397            46352.468778\n",
              "\n",
              "[2974 rows x 1 columns]"
            ]
          },
          "metadata": {},
          "execution_count": 28
        }
      ]
    },
    {
      "cell_type": "code",
      "metadata": {
        "id": "-5uXGYh5SRMD"
      },
      "source": [
        "and_df.to_csv('predict_002.csv')"
      ],
      "execution_count": null,
      "outputs": []
    },
    {
      "cell_type": "code",
      "metadata": {
        "id": "j2HIOrxRrtSl"
      },
      "source": [
        ""
      ],
      "execution_count": null,
      "outputs": []
    }
  ]
}